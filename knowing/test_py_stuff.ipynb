{
 "cells": [
  {
   "cell_type": "code",
   "execution_count": 1,
   "metadata": {},
   "outputs": [],
   "source": [
    "import pandas as pd\n",
    "import numpy as np\n",
    "\n",
    "from sklearn.model_selection import train_test_split\n",
    "\n",
    "df_reviews = pd.read_csv(\"../data/movie_reviews_processed.csv\")\n",
    "\n",
    "training_data, testing_data = train_test_split(\n",
    "    df_reviews, \n",
    "    test_size = 0.25, \n",
    "    random_state = 123\n",
    ")"
   ]
  },
  {
   "cell_type": "code",
   "execution_count": 2,
   "metadata": {},
   "outputs": [],
   "source": [
    "#| label: python-regression-model-train\n",
    "import statsmodels.api as sm\n",
    "import statsmodels.formula.api as smf\n",
    "\n",
    "# features = [\"review_year_0\", \"release_year_0\",\n",
    "#   \"age_sc\", \"length_minutes_sc\", \n",
    "#   \"total_reviews_sc\", \"word_count_sc\", \n",
    "#   \"genre\", \"gender\", \n",
    "#   \"reviewer_type\", \"work_status\", \n",
    "#   \"season\"]\n",
    "\n",
    "model_train_reg = smf.ols(\n",
    "    formula = 'rating ~ review_year_0 \\\n",
    "    + release_year_0 \\\n",
    "    + age_sc \\\n",
    "    + length_minutes_sc \\\n",
    "    + total_reviews_sc \\\n",
    "    + word_count_sc \\\n",
    "    + genre'\n",
    "    ,\n",
    "    data = training_data\n",
    ").fit()"
   ]
  },
  {
   "cell_type": "code",
   "execution_count": 3,
   "metadata": {},
   "outputs": [
    {
     "data": {
      "text/plain": [
       "array([[ 1.        ,  0.        ,  0.        , ...,  0.78062224,\n",
       "         0.72139957,  0.33250418],\n",
       "       [ 1.        ,  0.        ,  0.        , ...,  0.95413241,\n",
       "        -0.8184751 ,  2.89629682],\n",
       "       [ 1.        ,  0.        ,  0.        , ...,  1.04088749,\n",
       "        -0.56969901,  2.699082  ],\n",
       "       ...,\n",
       "       [ 1.        ,  0.        ,  0.        , ..., -0.17368368,\n",
       "         1.31550225, -0.25914027],\n",
       "       [ 1.        ,  0.        ,  1.        , ..., -1.56176501,\n",
       "        -0.31140882,  0.13528937],\n",
       "       [ 1.        ,  0.        ,  0.        , ...,  1.99519341,\n",
       "        -0.31070407,  1.31857827]])"
      ]
     },
     "execution_count": 3,
     "metadata": {},
     "output_type": "execute_result"
    }
   ],
   "source": [
    "model_train_reg.model.exog"
   ]
  },
  {
   "cell_type": "code",
   "execution_count": 4,
   "metadata": {},
   "outputs": [
    {
     "data": {
      "text/html": [
       "<table class=\"simpletable\">\n",
       "<caption>OLS Regression Results</caption>\n",
       "<tr>\n",
       "  <th>Dep. Variable:</th>         <td>rating</td>      <th>  R-squared:         </th> <td>   0.484</td>\n",
       "</tr>\n",
       "<tr>\n",
       "  <th>Model:</th>                   <td>OLS</td>       <th>  Adj. R-squared:    </th> <td>   0.475</td>\n",
       "</tr>\n",
       "<tr>\n",
       "  <th>Method:</th>             <td>Least Squares</td>  <th>  F-statistic:       </th> <td>   53.17</td>\n",
       "</tr>\n",
       "<tr>\n",
       "  <th>Date:</th>             <td>Sun, 11 Feb 2024</td> <th>  Prob (F-statistic):</th> <td>1.29e-96</td>\n",
       "</tr>\n",
       "<tr>\n",
       "  <th>Time:</th>                 <td>17:06:59</td>     <th>  Log-Likelihood:    </th> <td> -458.36</td>\n",
       "</tr>\n",
       "<tr>\n",
       "  <th>No. Observations:</th>      <td>   750</td>      <th>  AIC:               </th> <td>   944.7</td>\n",
       "</tr>\n",
       "<tr>\n",
       "  <th>Df Residuals:</th>          <td>   736</td>      <th>  BIC:               </th> <td>   1009.</td>\n",
       "</tr>\n",
       "<tr>\n",
       "  <th>Df Model:</th>              <td>    13</td>      <th>                     </th>     <td> </td>   \n",
       "</tr>\n",
       "<tr>\n",
       "  <th>Covariance Type:</th>      <td>nonrobust</td>    <th>                     </th>     <td> </td>   \n",
       "</tr>\n",
       "</table>\n",
       "<table class=\"simpletable\">\n",
       "<tr>\n",
       "          <td></td>             <th>coef</th>     <th>std err</th>      <th>t</th>      <th>P>|t|</th>  <th>[0.025</th>    <th>0.975]</th>  \n",
       "</tr>\n",
       "<tr>\n",
       "  <th>Intercept</th>         <td>    2.4132</td> <td>    0.079</td> <td>   30.634</td> <td> 0.000</td> <td>    2.259</td> <td>    2.568</td>\n",
       "</tr>\n",
       "<tr>\n",
       "  <th>genre[T.Comedy]</th>   <td>    0.5201</td> <td>    0.065</td> <td>    8.033</td> <td> 0.000</td> <td>    0.393</td> <td>    0.647</td>\n",
       "</tr>\n",
       "<tr>\n",
       "  <th>genre[T.Drama]</th>    <td>    0.5655</td> <td>    0.044</td> <td>   12.818</td> <td> 0.000</td> <td>    0.479</td> <td>    0.652</td>\n",
       "</tr>\n",
       "<tr>\n",
       "  <th>genre[T.Horror]</th>   <td>    0.0069</td> <td>    0.078</td> <td>    0.089</td> <td> 0.929</td> <td>   -0.146</td> <td>    0.160</td>\n",
       "</tr>\n",
       "<tr>\n",
       "  <th>genre[T.Kids]</th>     <td>   -0.0373</td> <td>    0.065</td> <td>   -0.571</td> <td> 0.568</td> <td>   -0.165</td> <td>    0.091</td>\n",
       "</tr>\n",
       "<tr>\n",
       "  <th>genre[T.Other]</th>    <td>    0.0075</td> <td>    0.073</td> <td>    0.103</td> <td> 0.918</td> <td>   -0.136</td> <td>    0.151</td>\n",
       "</tr>\n",
       "<tr>\n",
       "  <th>genre[T.Romance]</th>  <td>    0.0236</td> <td>    0.070</td> <td>    0.337</td> <td> 0.736</td> <td>   -0.114</td> <td>    0.161</td>\n",
       "</tr>\n",
       "<tr>\n",
       "  <th>genre[T.Sci-Fi]</th>   <td>   -0.0173</td> <td>    0.079</td> <td>   -0.220</td> <td> 0.826</td> <td>   -0.172</td> <td>    0.137</td>\n",
       "</tr>\n",
       "<tr>\n",
       "  <th>review_year_0</th>     <td>    0.0096</td> <td>    0.003</td> <td>    2.957</td> <td> 0.003</td> <td>    0.003</td> <td>    0.016</td>\n",
       "</tr>\n",
       "<tr>\n",
       "  <th>release_year_0</th>    <td>    0.0110</td> <td>    0.002</td> <td>    5.874</td> <td> 0.000</td> <td>    0.007</td> <td>    0.015</td>\n",
       "</tr>\n",
       "<tr>\n",
       "  <th>age_sc</th>            <td>   -0.0428</td> <td>    0.017</td> <td>   -2.551</td> <td> 0.011</td> <td>   -0.076</td> <td>   -0.010</td>\n",
       "</tr>\n",
       "<tr>\n",
       "  <th>length_minutes_sc</th> <td>    0.1625</td> <td>    0.018</td> <td>    8.853</td> <td> 0.000</td> <td>    0.126</td> <td>    0.199</td>\n",
       "</tr>\n",
       "<tr>\n",
       "  <th>total_reviews_sc</th>  <td>    0.2513</td> <td>    0.018</td> <td>   13.976</td> <td> 0.000</td> <td>    0.216</td> <td>    0.287</td>\n",
       "</tr>\n",
       "<tr>\n",
       "  <th>word_count_sc</th>     <td>   -0.1148</td> <td>    0.017</td> <td>   -6.572</td> <td> 0.000</td> <td>   -0.149</td> <td>   -0.080</td>\n",
       "</tr>\n",
       "</table>\n",
       "<table class=\"simpletable\">\n",
       "<tr>\n",
       "  <th>Omnibus:</th>       <td>13.448</td> <th>  Durbin-Watson:     </th> <td>   2.042</td>\n",
       "</tr>\n",
       "<tr>\n",
       "  <th>Prob(Omnibus):</th> <td> 0.001</td> <th>  Jarque-Bera (JB):  </th> <td>  15.864</td>\n",
       "</tr>\n",
       "<tr>\n",
       "  <th>Skew:</th>          <td>-0.237</td> <th>  Prob(JB):          </th> <td>0.000359</td>\n",
       "</tr>\n",
       "<tr>\n",
       "  <th>Kurtosis:</th>      <td> 3.532</td> <th>  Cond. No.          </th> <td>    211.</td>\n",
       "</tr>\n",
       "</table><br/><br/>Notes:<br/>[1] Standard Errors assume that the covariance matrix of the errors is correctly specified."
      ],
      "text/latex": [
       "\\begin{center}\n",
       "\\begin{tabular}{lclc}\n",
       "\\toprule\n",
       "\\textbf{Dep. Variable:}      &      rating      & \\textbf{  R-squared:         } &     0.484   \\\\\n",
       "\\textbf{Model:}              &       OLS        & \\textbf{  Adj. R-squared:    } &     0.475   \\\\\n",
       "\\textbf{Method:}             &  Least Squares   & \\textbf{  F-statistic:       } &     53.17   \\\\\n",
       "\\textbf{Date:}               & Sun, 11 Feb 2024 & \\textbf{  Prob (F-statistic):} &  1.29e-96   \\\\\n",
       "\\textbf{Time:}               &     17:06:59     & \\textbf{  Log-Likelihood:    } &   -458.36   \\\\\n",
       "\\textbf{No. Observations:}   &         750      & \\textbf{  AIC:               } &     944.7   \\\\\n",
       "\\textbf{Df Residuals:}       &         736      & \\textbf{  BIC:               } &     1009.   \\\\\n",
       "\\textbf{Df Model:}           &          13      & \\textbf{                     } &             \\\\\n",
       "\\textbf{Covariance Type:}    &    nonrobust     & \\textbf{                     } &             \\\\\n",
       "\\bottomrule\n",
       "\\end{tabular}\n",
       "\\begin{tabular}{lcccccc}\n",
       "                             & \\textbf{coef} & \\textbf{std err} & \\textbf{t} & \\textbf{P$> |$t$|$} & \\textbf{[0.025} & \\textbf{0.975]}  \\\\\n",
       "\\midrule\n",
       "\\textbf{Intercept}           &       2.4132  &        0.079     &    30.634  &         0.000        &        2.259    &        2.568     \\\\\n",
       "\\textbf{genre[T.Comedy]}     &       0.5201  &        0.065     &     8.033  &         0.000        &        0.393    &        0.647     \\\\\n",
       "\\textbf{genre[T.Drama]}      &       0.5655  &        0.044     &    12.818  &         0.000        &        0.479    &        0.652     \\\\\n",
       "\\textbf{genre[T.Horror]}     &       0.0069  &        0.078     &     0.089  &         0.929        &       -0.146    &        0.160     \\\\\n",
       "\\textbf{genre[T.Kids]}       &      -0.0373  &        0.065     &    -0.571  &         0.568        &       -0.165    &        0.091     \\\\\n",
       "\\textbf{genre[T.Other]}      &       0.0075  &        0.073     &     0.103  &         0.918        &       -0.136    &        0.151     \\\\\n",
       "\\textbf{genre[T.Romance]}    &       0.0236  &        0.070     &     0.337  &         0.736        &       -0.114    &        0.161     \\\\\n",
       "\\textbf{genre[T.Sci-Fi]}     &      -0.0173  &        0.079     &    -0.220  &         0.826        &       -0.172    &        0.137     \\\\\n",
       "\\textbf{review\\_year\\_0}     &       0.0096  &        0.003     &     2.957  &         0.003        &        0.003    &        0.016     \\\\\n",
       "\\textbf{release\\_year\\_0}    &       0.0110  &        0.002     &     5.874  &         0.000        &        0.007    &        0.015     \\\\\n",
       "\\textbf{age\\_sc}             &      -0.0428  &        0.017     &    -2.551  &         0.011        &       -0.076    &       -0.010     \\\\\n",
       "\\textbf{length\\_minutes\\_sc} &       0.1625  &        0.018     &     8.853  &         0.000        &        0.126    &        0.199     \\\\\n",
       "\\textbf{total\\_reviews\\_sc}  &       0.2513  &        0.018     &    13.976  &         0.000        &        0.216    &        0.287     \\\\\n",
       "\\textbf{word\\_count\\_sc}     &      -0.1148  &        0.017     &    -6.572  &         0.000        &       -0.149    &       -0.080     \\\\\n",
       "\\bottomrule\n",
       "\\end{tabular}\n",
       "\\begin{tabular}{lclc}\n",
       "\\textbf{Omnibus:}       & 13.448 & \\textbf{  Durbin-Watson:     } &    2.042  \\\\\n",
       "\\textbf{Prob(Omnibus):} &  0.001 & \\textbf{  Jarque-Bera (JB):  } &   15.864  \\\\\n",
       "\\textbf{Skew:}          & -0.237 & \\textbf{  Prob(JB):          } & 0.000359  \\\\\n",
       "\\textbf{Kurtosis:}      &  3.532 & \\textbf{  Cond. No.          } &     211.  \\\\\n",
       "\\bottomrule\n",
       "\\end{tabular}\n",
       "%\\caption{OLS Regression Results}\n",
       "\\end{center}\n",
       "\n",
       "Notes: \\newline\n",
       " [1] Standard Errors assume that the covariance matrix of the errors is correctly specified."
      ],
      "text/plain": [
       "<class 'statsmodels.iolib.summary.Summary'>\n",
       "\"\"\"\n",
       "                            OLS Regression Results                            \n",
       "==============================================================================\n",
       "Dep. Variable:                 rating   R-squared:                       0.484\n",
       "Model:                            OLS   Adj. R-squared:                  0.475\n",
       "Method:                 Least Squares   F-statistic:                     53.17\n",
       "Date:                Sun, 11 Feb 2024   Prob (F-statistic):           1.29e-96\n",
       "Time:                        17:06:59   Log-Likelihood:                -458.36\n",
       "No. Observations:                 750   AIC:                             944.7\n",
       "Df Residuals:                     736   BIC:                             1009.\n",
       "Df Model:                          13                                         \n",
       "Covariance Type:            nonrobust                                         \n",
       "=====================================================================================\n",
       "                        coef    std err          t      P>|t|      [0.025      0.975]\n",
       "-------------------------------------------------------------------------------------\n",
       "Intercept             2.4132      0.079     30.634      0.000       2.259       2.568\n",
       "genre[T.Comedy]       0.5201      0.065      8.033      0.000       0.393       0.647\n",
       "genre[T.Drama]        0.5655      0.044     12.818      0.000       0.479       0.652\n",
       "genre[T.Horror]       0.0069      0.078      0.089      0.929      -0.146       0.160\n",
       "genre[T.Kids]        -0.0373      0.065     -0.571      0.568      -0.165       0.091\n",
       "genre[T.Other]        0.0075      0.073      0.103      0.918      -0.136       0.151\n",
       "genre[T.Romance]      0.0236      0.070      0.337      0.736      -0.114       0.161\n",
       "genre[T.Sci-Fi]      -0.0173      0.079     -0.220      0.826      -0.172       0.137\n",
       "review_year_0         0.0096      0.003      2.957      0.003       0.003       0.016\n",
       "release_year_0        0.0110      0.002      5.874      0.000       0.007       0.015\n",
       "age_sc               -0.0428      0.017     -2.551      0.011      -0.076      -0.010\n",
       "length_minutes_sc     0.1625      0.018      8.853      0.000       0.126       0.199\n",
       "total_reviews_sc      0.2513      0.018     13.976      0.000       0.216       0.287\n",
       "word_count_sc        -0.1148      0.017     -6.572      0.000      -0.149      -0.080\n",
       "==============================================================================\n",
       "Omnibus:                       13.448   Durbin-Watson:                   2.042\n",
       "Prob(Omnibus):                  0.001   Jarque-Bera (JB):               15.864\n",
       "Skew:                          -0.237   Prob(JB):                     0.000359\n",
       "Kurtosis:                       3.532   Cond. No.                         211.\n",
       "==============================================================================\n",
       "\n",
       "Notes:\n",
       "[1] Standard Errors assume that the covariance matrix of the errors is correctly specified.\n",
       "\"\"\""
      ]
     },
     "execution_count": 4,
     "metadata": {},
     "output_type": "execute_result"
    }
   ],
   "source": [
    "model_train_reg.summary()"
   ]
  },
  {
   "cell_type": "code",
   "execution_count": 5,
   "metadata": {},
   "outputs": [
    {
     "name": "stderr",
     "output_type": "stream",
     "text": [
      "/Users/micl/anaconda3/envs/book-of-models/lib/python3.12/site-packages/dalex/_explainer/object.py:138: UserWarning: \n",
      "  -> predicted values  : 'predict_function' returns an Error when executed: \n",
      "predict requires that you use a DataFrame when predicting from a model\n",
      "that was created using the formula api.\n",
      "\n",
      "The original error message returned by patsy is:\n",
      "Error evaluating factor: NameError: name 'genre' is not defined\n",
      "    rating ~ review_year_0     + release_year_0     + age_sc     + length_minutes_sc     + total_reviews_sc     + word_count_sc     + genre\n",
      "                                                                                                                                      ^^^^^\n",
      "  checks.check_predict_function_and_model_type(predict_function, model_type,\n",
      "/Users/micl/anaconda3/envs/book-of-models/lib/python3.12/site-packages/dalex/_explainer/object.py:138: UserWarning: \n",
      "  -> predicted values  : 'predict_function' must return numpy.ndarray (1d)\n",
      "  checks.check_predict_function_and_model_type(predict_function, model_type,\n"
     ]
    },
    {
     "name": "stdout",
     "output_type": "stream",
     "text": [
      "predict requires that you use a DataFrame when predicting from a model\n",
      "that was created using the formula api.\n",
      "\n",
      "The original error message returned by patsy is:\n",
      "Error evaluating factor: NameError: name 'genre' is not defined\n",
      "    rating ~ review_year_0     + release_year_0     + age_sc     + length_minutes_sc     + total_reviews_sc     + word_count_sc     + genre\n",
      "                                                                                                                                      ^^^^^\n"
     ]
    },
    {
     "ename": "PatsyError",
     "evalue": "predict requires that you use a DataFrame when predicting from a model\nthat was created using the formula api.\n\nThe original error message returned by patsy is:\nError evaluating factor: NameError: name 'genre' is not defined\n    rating ~ review_year_0     + release_year_0     + age_sc     + length_minutes_sc     + total_reviews_sc     + word_count_sc     + genre\n                                                                                                                                      ^^^^^",
     "output_type": "error",
     "traceback": [
      "\u001b[0;31m---------------------------------------------------------------------------\u001b[0m",
      "\u001b[0;31mNameError\u001b[0m                                 Traceback (most recent call last)",
      "File \u001b[0;32m~/anaconda3/envs/book-of-models/lib/python3.12/site-packages/patsy/compat.py:36\u001b[0m, in \u001b[0;36mcall_and_wrap_exc\u001b[0;34m(msg, origin, f, *args, **kwargs)\u001b[0m\n\u001b[1;32m     35\u001b[0m \u001b[38;5;28;01mtry\u001b[39;00m:\n\u001b[0;32m---> 36\u001b[0m     \u001b[38;5;28;01mreturn\u001b[39;00m \u001b[43mf\u001b[49m\u001b[43m(\u001b[49m\u001b[38;5;241;43m*\u001b[39;49m\u001b[43margs\u001b[49m\u001b[43m,\u001b[49m\u001b[43m \u001b[49m\u001b[38;5;241;43m*\u001b[39;49m\u001b[38;5;241;43m*\u001b[39;49m\u001b[43mkwargs\u001b[49m\u001b[43m)\u001b[49m\n\u001b[1;32m     37\u001b[0m \u001b[38;5;28;01mexcept\u001b[39;00m \u001b[38;5;167;01mException\u001b[39;00m \u001b[38;5;28;01mas\u001b[39;00m e:\n",
      "File \u001b[0;32m~/anaconda3/envs/book-of-models/lib/python3.12/site-packages/patsy/eval.py:169\u001b[0m, in \u001b[0;36mEvalEnvironment.eval\u001b[0;34m(self, expr, source_name, inner_namespace)\u001b[0m\n\u001b[1;32m    168\u001b[0m code \u001b[38;5;241m=\u001b[39m \u001b[38;5;28mcompile\u001b[39m(expr, source_name, \u001b[38;5;124m\"\u001b[39m\u001b[38;5;124meval\u001b[39m\u001b[38;5;124m\"\u001b[39m, \u001b[38;5;28mself\u001b[39m\u001b[38;5;241m.\u001b[39mflags, \u001b[38;5;28;01mFalse\u001b[39;00m)\n\u001b[0;32m--> 169\u001b[0m \u001b[38;5;28;01mreturn\u001b[39;00m \u001b[38;5;28;43meval\u001b[39;49m\u001b[43m(\u001b[49m\u001b[43mcode\u001b[49m\u001b[43m,\u001b[49m\u001b[43m \u001b[49m\u001b[43m{\u001b[49m\u001b[43m}\u001b[49m\u001b[43m,\u001b[49m\u001b[43m \u001b[49m\u001b[43mVarLookupDict\u001b[49m\u001b[43m(\u001b[49m\u001b[43m[\u001b[49m\u001b[43minner_namespace\u001b[49m\u001b[43m]\u001b[49m\n\u001b[1;32m    170\u001b[0m \u001b[43m                                    \u001b[49m\u001b[38;5;241;43m+\u001b[39;49m\u001b[43m \u001b[49m\u001b[38;5;28;43mself\u001b[39;49m\u001b[38;5;241;43m.\u001b[39;49m\u001b[43m_namespaces\u001b[49m\u001b[43m)\u001b[49m\u001b[43m)\u001b[49m\n",
      "File \u001b[0;32m<string>:1\u001b[0m\n",
      "\u001b[0;31mNameError\u001b[0m: name 'genre' is not defined",
      "\nThe above exception was the direct cause of the following exception:\n",
      "\u001b[0;31mPatsyError\u001b[0m                                Traceback (most recent call last)",
      "File \u001b[0;32m~/anaconda3/envs/book-of-models/lib/python3.12/site-packages/statsmodels/base/model.py:1104\u001b[0m, in \u001b[0;36mResults._transform_predict_exog\u001b[0;34m(self, exog, transform)\u001b[0m\n\u001b[1;32m   1103\u001b[0m \u001b[38;5;28;01mtry\u001b[39;00m:\n\u001b[0;32m-> 1104\u001b[0m     exog \u001b[38;5;241m=\u001b[39m \u001b[43mdmatrix\u001b[49m\u001b[43m(\u001b[49m\u001b[43mdesign_info\u001b[49m\u001b[43m,\u001b[49m\u001b[43m \u001b[49m\u001b[43mexog\u001b[49m\u001b[43m,\u001b[49m\u001b[43m \u001b[49m\u001b[43mreturn_type\u001b[49m\u001b[38;5;241;43m=\u001b[39;49m\u001b[38;5;124;43m\"\u001b[39;49m\u001b[38;5;124;43mdataframe\u001b[39;49m\u001b[38;5;124;43m\"\u001b[39;49m\u001b[43m)\u001b[49m\n\u001b[1;32m   1105\u001b[0m \u001b[38;5;28;01mexcept\u001b[39;00m \u001b[38;5;167;01mException\u001b[39;00m \u001b[38;5;28;01mas\u001b[39;00m exc:\n",
      "File \u001b[0;32m~/anaconda3/envs/book-of-models/lib/python3.12/site-packages/patsy/highlevel.py:290\u001b[0m, in \u001b[0;36mdmatrix\u001b[0;34m(formula_like, data, eval_env, NA_action, return_type)\u001b[0m\n\u001b[1;32m    289\u001b[0m eval_env \u001b[38;5;241m=\u001b[39m EvalEnvironment\u001b[38;5;241m.\u001b[39mcapture(eval_env, reference\u001b[38;5;241m=\u001b[39m\u001b[38;5;241m1\u001b[39m)\n\u001b[0;32m--> 290\u001b[0m (lhs, rhs) \u001b[38;5;241m=\u001b[39m \u001b[43m_do_highlevel_design\u001b[49m\u001b[43m(\u001b[49m\u001b[43mformula_like\u001b[49m\u001b[43m,\u001b[49m\u001b[43m \u001b[49m\u001b[43mdata\u001b[49m\u001b[43m,\u001b[49m\u001b[43m \u001b[49m\u001b[43meval_env\u001b[49m\u001b[43m,\u001b[49m\n\u001b[1;32m    291\u001b[0m \u001b[43m                                  \u001b[49m\u001b[43mNA_action\u001b[49m\u001b[43m,\u001b[49m\u001b[43m \u001b[49m\u001b[43mreturn_type\u001b[49m\u001b[43m)\u001b[49m\n\u001b[1;32m    292\u001b[0m \u001b[38;5;28;01mif\u001b[39;00m lhs\u001b[38;5;241m.\u001b[39mshape[\u001b[38;5;241m1\u001b[39m] \u001b[38;5;241m!=\u001b[39m \u001b[38;5;241m0\u001b[39m:\n",
      "File \u001b[0;32m~/anaconda3/envs/book-of-models/lib/python3.12/site-packages/patsy/highlevel.py:167\u001b[0m, in \u001b[0;36m_do_highlevel_design\u001b[0;34m(formula_like, data, eval_env, NA_action, return_type)\u001b[0m\n\u001b[1;32m    166\u001b[0m \u001b[38;5;28;01mif\u001b[39;00m design_infos \u001b[38;5;129;01mis\u001b[39;00m \u001b[38;5;129;01mnot\u001b[39;00m \u001b[38;5;28;01mNone\u001b[39;00m:\n\u001b[0;32m--> 167\u001b[0m     \u001b[38;5;28;01mreturn\u001b[39;00m \u001b[43mbuild_design_matrices\u001b[49m\u001b[43m(\u001b[49m\u001b[43mdesign_infos\u001b[49m\u001b[43m,\u001b[49m\u001b[43m \u001b[49m\u001b[43mdata\u001b[49m\u001b[43m,\u001b[49m\n\u001b[1;32m    168\u001b[0m \u001b[43m                                 \u001b[49m\u001b[43mNA_action\u001b[49m\u001b[38;5;241;43m=\u001b[39;49m\u001b[43mNA_action\u001b[49m\u001b[43m,\u001b[49m\n\u001b[1;32m    169\u001b[0m \u001b[43m                                 \u001b[49m\u001b[43mreturn_type\u001b[49m\u001b[38;5;241;43m=\u001b[39;49m\u001b[43mreturn_type\u001b[49m\u001b[43m)\u001b[49m\n\u001b[1;32m    170\u001b[0m \u001b[38;5;28;01melse\u001b[39;00m:\n\u001b[1;32m    171\u001b[0m     \u001b[38;5;66;03m# No builders, but maybe we can still get matrices\u001b[39;00m\n",
      "File \u001b[0;32m~/anaconda3/envs/book-of-models/lib/python3.12/site-packages/patsy/build.py:888\u001b[0m, in \u001b[0;36mbuild_design_matrices\u001b[0;34m(design_infos, data, NA_action, return_type, dtype)\u001b[0m\n\u001b[1;32m    887\u001b[0m \u001b[38;5;28;01mif\u001b[39;00m factor_info \u001b[38;5;129;01mnot\u001b[39;00m \u001b[38;5;129;01min\u001b[39;00m factor_info_to_values:\n\u001b[0;32m--> 888\u001b[0m     value, is_NA \u001b[38;5;241m=\u001b[39m \u001b[43m_eval_factor\u001b[49m\u001b[43m(\u001b[49m\u001b[43mfactor_info\u001b[49m\u001b[43m,\u001b[49m\u001b[43m \u001b[49m\u001b[43mdata\u001b[49m\u001b[43m,\u001b[49m\u001b[43m \u001b[49m\u001b[43mNA_action\u001b[49m\u001b[43m)\u001b[49m\n\u001b[1;32m    889\u001b[0m     factor_info_to_isNAs[factor_info] \u001b[38;5;241m=\u001b[39m is_NA\n",
      "File \u001b[0;32m~/anaconda3/envs/book-of-models/lib/python3.12/site-packages/patsy/build.py:63\u001b[0m, in \u001b[0;36m_eval_factor\u001b[0;34m(factor_info, data, NA_action)\u001b[0m\n\u001b[1;32m     62\u001b[0m factor \u001b[38;5;241m=\u001b[39m factor_info\u001b[38;5;241m.\u001b[39mfactor\n\u001b[0;32m---> 63\u001b[0m result \u001b[38;5;241m=\u001b[39m \u001b[43mfactor\u001b[49m\u001b[38;5;241;43m.\u001b[39;49m\u001b[43meval\u001b[49m\u001b[43m(\u001b[49m\u001b[43mfactor_info\u001b[49m\u001b[38;5;241;43m.\u001b[39;49m\u001b[43mstate\u001b[49m\u001b[43m,\u001b[49m\u001b[43m \u001b[49m\u001b[43mdata\u001b[49m\u001b[43m)\u001b[49m\n\u001b[1;32m     64\u001b[0m \u001b[38;5;66;03m# Returns either a 2d ndarray, or a DataFrame, plus is_NA mask\u001b[39;00m\n",
      "File \u001b[0;32m~/anaconda3/envs/book-of-models/lib/python3.12/site-packages/patsy/eval.py:568\u001b[0m, in \u001b[0;36mEvalFactor.eval\u001b[0;34m(self, memorize_state, data)\u001b[0m\n\u001b[1;32m    567\u001b[0m \u001b[38;5;28;01mdef\u001b[39;00m \u001b[38;5;21meval\u001b[39m(\u001b[38;5;28mself\u001b[39m, memorize_state, data):\n\u001b[0;32m--> 568\u001b[0m     \u001b[38;5;28;01mreturn\u001b[39;00m \u001b[38;5;28;43mself\u001b[39;49m\u001b[38;5;241;43m.\u001b[39;49m\u001b[43m_eval\u001b[49m\u001b[43m(\u001b[49m\u001b[43mmemorize_state\u001b[49m\u001b[43m[\u001b[49m\u001b[38;5;124;43m\"\u001b[39;49m\u001b[38;5;124;43meval_code\u001b[39;49m\u001b[38;5;124;43m\"\u001b[39;49m\u001b[43m]\u001b[49m\u001b[43m,\u001b[49m\n\u001b[1;32m    569\u001b[0m \u001b[43m                      \u001b[49m\u001b[43mmemorize_state\u001b[49m\u001b[43m,\u001b[49m\n\u001b[1;32m    570\u001b[0m \u001b[43m                      \u001b[49m\u001b[43mdata\u001b[49m\u001b[43m)\u001b[49m\n",
      "File \u001b[0;32m~/anaconda3/envs/book-of-models/lib/python3.12/site-packages/patsy/eval.py:551\u001b[0m, in \u001b[0;36mEvalFactor._eval\u001b[0;34m(self, code, memorize_state, data)\u001b[0m\n\u001b[1;32m    550\u001b[0m inner_namespace \u001b[38;5;241m=\u001b[39m VarLookupDict([data, memorize_state[\u001b[38;5;124m\"\u001b[39m\u001b[38;5;124mtransforms\u001b[39m\u001b[38;5;124m\"\u001b[39m]])\n\u001b[0;32m--> 551\u001b[0m \u001b[38;5;28;01mreturn\u001b[39;00m \u001b[43mcall_and_wrap_exc\u001b[49m\u001b[43m(\u001b[49m\u001b[38;5;124;43m\"\u001b[39;49m\u001b[38;5;124;43mError evaluating factor\u001b[39;49m\u001b[38;5;124;43m\"\u001b[39;49m\u001b[43m,\u001b[49m\n\u001b[1;32m    552\u001b[0m \u001b[43m                         \u001b[49m\u001b[38;5;28;43mself\u001b[39;49m\u001b[43m,\u001b[49m\n\u001b[1;32m    553\u001b[0m \u001b[43m                         \u001b[49m\u001b[43mmemorize_state\u001b[49m\u001b[43m[\u001b[49m\u001b[38;5;124;43m\"\u001b[39;49m\u001b[38;5;124;43meval_env\u001b[39;49m\u001b[38;5;124;43m\"\u001b[39;49m\u001b[43m]\u001b[49m\u001b[38;5;241;43m.\u001b[39;49m\u001b[43meval\u001b[49m\u001b[43m,\u001b[49m\n\u001b[1;32m    554\u001b[0m \u001b[43m                         \u001b[49m\u001b[43mcode\u001b[49m\u001b[43m,\u001b[49m\n\u001b[1;32m    555\u001b[0m \u001b[43m                         \u001b[49m\u001b[43minner_namespace\u001b[49m\u001b[38;5;241;43m=\u001b[39;49m\u001b[43minner_namespace\u001b[49m\u001b[43m)\u001b[49m\n",
      "File \u001b[0;32m~/anaconda3/envs/book-of-models/lib/python3.12/site-packages/patsy/compat.py:43\u001b[0m, in \u001b[0;36mcall_and_wrap_exc\u001b[0;34m(msg, origin, f, *args, **kwargs)\u001b[0m\n\u001b[1;32m     42\u001b[0m     \u001b[38;5;66;03m# Use 'exec' to hide this syntax from the Python 2 parser:\u001b[39;00m\n\u001b[0;32m---> 43\u001b[0m     \u001b[43mexec\u001b[49m\u001b[43m(\u001b[49m\u001b[38;5;124;43m\"\u001b[39;49m\u001b[38;5;124;43mraise new_exc from e\u001b[39;49m\u001b[38;5;124;43m\"\u001b[39;49m\u001b[43m)\u001b[49m\n\u001b[1;32m     44\u001b[0m \u001b[38;5;28;01melse\u001b[39;00m:\n\u001b[1;32m     45\u001b[0m     \u001b[38;5;66;03m# In python 2, we just let the original exception escape -- better\u001b[39;00m\n\u001b[1;32m     46\u001b[0m     \u001b[38;5;66;03m# than destroying the traceback. But if it's a PatsyError, we can\u001b[39;00m\n\u001b[1;32m     47\u001b[0m     \u001b[38;5;66;03m# at least set the origin properly.\u001b[39;00m\n",
      "File \u001b[0;32m<string>:1\u001b[0m\n",
      "\u001b[0;31mPatsyError\u001b[0m: Error evaluating factor: NameError: name 'genre' is not defined\n    rating ~ review_year_0     + release_year_0     + age_sc     + length_minutes_sc     + total_reviews_sc     + word_count_sc     + genre\n                                                                                                                                      ^^^^^",
      "\nDuring handling of the above exception, another exception occurred:\n",
      "\u001b[0;31mPatsyError\u001b[0m                                Traceback (most recent call last)",
      "Cell \u001b[0;32mIn[5], line 25\u001b[0m\n\u001b[1;32m     16\u001b[0m X[X\u001b[38;5;241m.\u001b[39mselect_dtypes(include\u001b[38;5;241m=\u001b[39m\u001b[38;5;124m'\u001b[39m\u001b[38;5;124mobject\u001b[39m\u001b[38;5;124m'\u001b[39m)\u001b[38;5;241m.\u001b[39mcolumns] \u001b[38;5;241m=\u001b[39m X\u001b[38;5;241m.\u001b[39mselect_dtypes(include\u001b[38;5;241m=\u001b[39m\u001b[38;5;124m'\u001b[39m\u001b[38;5;124mobject\u001b[39m\u001b[38;5;124m'\u001b[39m)\u001b[38;5;241m.\u001b[39mastype(\u001b[38;5;124m'\u001b[39m\u001b[38;5;124mcategory\u001b[39m\u001b[38;5;124m'\u001b[39m)\n\u001b[1;32m     18\u001b[0m train_explain \u001b[38;5;241m=\u001b[39m dx\u001b[38;5;241m.\u001b[39mExplainer(\n\u001b[1;32m     19\u001b[0m     model_train_reg, \n\u001b[1;32m     20\u001b[0m     data \u001b[38;5;241m=\u001b[39m X, \n\u001b[1;32m     21\u001b[0m     y \u001b[38;5;241m=\u001b[39m training_data\u001b[38;5;241m.\u001b[39mrating,\n\u001b[1;32m     22\u001b[0m     verbose \u001b[38;5;241m=\u001b[39m \u001b[38;5;28;01mFalse\u001b[39;00m\n\u001b[1;32m     23\u001b[0m )\n\u001b[0;32m---> 25\u001b[0m train_performance \u001b[38;5;241m=\u001b[39m \u001b[43mtrain_explain\u001b[49m\u001b[38;5;241;43m.\u001b[39;49m\u001b[43mmodel_performance\u001b[49m\u001b[43m(\u001b[49m\u001b[43m)\u001b[49m\n\u001b[1;32m     27\u001b[0m perf_plot \u001b[38;5;241m=\u001b[39m train_performance\u001b[38;5;241m.\u001b[39mplot()\n",
      "File \u001b[0;32m~/anaconda3/envs/book-of-models/lib/python3.12/site-packages/dalex/_explainer/object.py:493\u001b[0m, in \u001b[0;36mExplainer.model_performance\u001b[0;34m(self, model_type, cutoff, label)\u001b[0m\n\u001b[1;32m    487\u001b[0m     model_type \u001b[38;5;241m=\u001b[39m \u001b[38;5;28mself\u001b[39m\u001b[38;5;241m.\u001b[39mmodel_type\n\u001b[1;32m    489\u001b[0m _model_performance \u001b[38;5;241m=\u001b[39m ModelPerformance(\n\u001b[1;32m    490\u001b[0m     model_type\u001b[38;5;241m=\u001b[39mmodel_type,\n\u001b[1;32m    491\u001b[0m     cutoff\u001b[38;5;241m=\u001b[39mcutoff\n\u001b[1;32m    492\u001b[0m )\n\u001b[0;32m--> 493\u001b[0m \u001b[43m_model_performance\u001b[49m\u001b[38;5;241;43m.\u001b[39;49m\u001b[43mfit\u001b[49m\u001b[43m(\u001b[49m\u001b[38;5;28;43mself\u001b[39;49m\u001b[43m)\u001b[49m\n\u001b[1;32m    495\u001b[0m \u001b[38;5;28;01mif\u001b[39;00m label:\n\u001b[1;32m    496\u001b[0m     _model_performance\u001b[38;5;241m.\u001b[39mresult[\u001b[38;5;124m'\u001b[39m\u001b[38;5;124mlabel\u001b[39m\u001b[38;5;124m'\u001b[39m] \u001b[38;5;241m=\u001b[39m label\n",
      "File \u001b[0;32m~/anaconda3/envs/book-of-models/lib/python3.12/site-packages/dalex/model_explanations/_model_performance/object.py:65\u001b[0m, in \u001b[0;36mModelPerformance.fit\u001b[0;34m(self, explainer)\u001b[0m\n\u001b[1;32m     63\u001b[0m     y_pred \u001b[38;5;241m=\u001b[39m explainer\u001b[38;5;241m.\u001b[39my_hat\n\u001b[1;32m     64\u001b[0m \u001b[38;5;28;01melse\u001b[39;00m:\n\u001b[0;32m---> 65\u001b[0m     y_pred \u001b[38;5;241m=\u001b[39m \u001b[43mexplainer\u001b[49m\u001b[38;5;241;43m.\u001b[39;49m\u001b[43mpredict\u001b[49m\u001b[43m(\u001b[49m\u001b[43mexplainer\u001b[49m\u001b[38;5;241;43m.\u001b[39;49m\u001b[43mdata\u001b[49m\u001b[43m)\u001b[49m\n\u001b[1;32m     67\u001b[0m \u001b[38;5;28;01mif\u001b[39;00m explainer\u001b[38;5;241m.\u001b[39mresiduals \u001b[38;5;129;01mis\u001b[39;00m \u001b[38;5;129;01mnot\u001b[39;00m \u001b[38;5;28;01mNone\u001b[39;00m:\n\u001b[1;32m     68\u001b[0m     _residuals \u001b[38;5;241m=\u001b[39m explainer\u001b[38;5;241m.\u001b[39mresiduals\n",
      "File \u001b[0;32m~/anaconda3/envs/book-of-models/lib/python3.12/site-packages/dalex/_explainer/object.py:187\u001b[0m, in \u001b[0;36mExplainer.predict\u001b[0;34m(self, data)\u001b[0m\n\u001b[1;32m    170\u001b[0m \u001b[38;5;250m\u001b[39m\u001b[38;5;124;03m\"\"\"Make a prediction\u001b[39;00m\n\u001b[1;32m    171\u001b[0m \n\u001b[1;32m    172\u001b[0m \u001b[38;5;124;03mThis function uses the `predict_function` attribute.\u001b[39;00m\n\u001b[0;32m   (...)\u001b[0m\n\u001b[1;32m    182\u001b[0m \u001b[38;5;124;03m    Model predictions for given `data`.\u001b[39;00m\n\u001b[1;32m    183\u001b[0m \u001b[38;5;124;03m\"\"\"\u001b[39;00m\n\u001b[1;32m    185\u001b[0m checks\u001b[38;5;241m.\u001b[39mcheck_method_data(data)\n\u001b[0;32m--> 187\u001b[0m \u001b[38;5;28;01mreturn\u001b[39;00m \u001b[38;5;28;43mself\u001b[39;49m\u001b[38;5;241;43m.\u001b[39;49m\u001b[43mpredict_function\u001b[49m\u001b[43m(\u001b[49m\u001b[38;5;28;43mself\u001b[39;49m\u001b[38;5;241;43m.\u001b[39;49m\u001b[43mmodel\u001b[49m\u001b[43m,\u001b[49m\u001b[43m \u001b[49m\u001b[43mdata\u001b[49m\u001b[43m)\u001b[49m\n",
      "File \u001b[0;32m~/anaconda3/envs/book-of-models/lib/python3.12/site-packages/dalex/_explainer/yhat.py:6\u001b[0m, in \u001b[0;36myhat_default\u001b[0;34m(m, d)\u001b[0m\n\u001b[1;32m      5\u001b[0m \u001b[38;5;28;01mdef\u001b[39;00m \u001b[38;5;21myhat_default\u001b[39m(m, d):\n\u001b[0;32m----> 6\u001b[0m     \u001b[38;5;28;01mreturn\u001b[39;00m \u001b[43mm\u001b[49m\u001b[38;5;241;43m.\u001b[39;49m\u001b[43mpredict\u001b[49m\u001b[43m(\u001b[49m\u001b[43md\u001b[49m\u001b[43m)\u001b[49m\n",
      "File \u001b[0;32m~/anaconda3/envs/book-of-models/lib/python3.12/site-packages/statsmodels/base/model.py:1173\u001b[0m, in \u001b[0;36mResults.predict\u001b[0;34m(self, exog, transform, *args, **kwargs)\u001b[0m\n\u001b[1;32m   1128\u001b[0m \u001b[38;5;28;01mdef\u001b[39;00m \u001b[38;5;21mpredict\u001b[39m(\u001b[38;5;28mself\u001b[39m, exog\u001b[38;5;241m=\u001b[39m\u001b[38;5;28;01mNone\u001b[39;00m, transform\u001b[38;5;241m=\u001b[39m\u001b[38;5;28;01mTrue\u001b[39;00m, \u001b[38;5;241m*\u001b[39margs, \u001b[38;5;241m*\u001b[39m\u001b[38;5;241m*\u001b[39mkwargs):\n\u001b[1;32m   1129\u001b[0m \u001b[38;5;250m    \u001b[39m\u001b[38;5;124;03m\"\"\"\u001b[39;00m\n\u001b[1;32m   1130\u001b[0m \u001b[38;5;124;03m    Call self.model.predict with self.params as the first argument.\u001b[39;00m\n\u001b[1;32m   1131\u001b[0m \n\u001b[0;32m   (...)\u001b[0m\n\u001b[1;32m   1171\u001b[0m \u001b[38;5;124;03m    returned prediction.\u001b[39;00m\n\u001b[1;32m   1172\u001b[0m \u001b[38;5;124;03m    \"\"\"\u001b[39;00m\n\u001b[0;32m-> 1173\u001b[0m     exog, exog_index \u001b[38;5;241m=\u001b[39m \u001b[38;5;28;43mself\u001b[39;49m\u001b[38;5;241;43m.\u001b[39;49m\u001b[43m_transform_predict_exog\u001b[49m\u001b[43m(\u001b[49m\u001b[43mexog\u001b[49m\u001b[43m,\u001b[49m\n\u001b[1;32m   1174\u001b[0m \u001b[43m                                                    \u001b[49m\u001b[43mtransform\u001b[49m\u001b[38;5;241;43m=\u001b[39;49m\u001b[43mtransform\u001b[49m\u001b[43m)\u001b[49m\n\u001b[1;32m   1176\u001b[0m     predict_results \u001b[38;5;241m=\u001b[39m \u001b[38;5;28mself\u001b[39m\u001b[38;5;241m.\u001b[39mmodel\u001b[38;5;241m.\u001b[39mpredict(\u001b[38;5;28mself\u001b[39m\u001b[38;5;241m.\u001b[39mparams, exog, \u001b[38;5;241m*\u001b[39margs,\n\u001b[1;32m   1177\u001b[0m                                          \u001b[38;5;241m*\u001b[39m\u001b[38;5;241m*\u001b[39mkwargs)\n\u001b[1;32m   1179\u001b[0m     \u001b[38;5;28;01mif\u001b[39;00m exog_index \u001b[38;5;129;01mis\u001b[39;00m \u001b[38;5;129;01mnot\u001b[39;00m \u001b[38;5;28;01mNone\u001b[39;00m \u001b[38;5;129;01mand\u001b[39;00m \u001b[38;5;129;01mnot\u001b[39;00m \u001b[38;5;28mhasattr\u001b[39m(predict_results,\n\u001b[1;32m   1180\u001b[0m                                               \u001b[38;5;124m'\u001b[39m\u001b[38;5;124mpredicted_values\u001b[39m\u001b[38;5;124m'\u001b[39m):\n",
      "File \u001b[0;32m~/anaconda3/envs/book-of-models/lib/python3.12/site-packages/statsmodels/base/model.py:1111\u001b[0m, in \u001b[0;36mResults._transform_predict_exog\u001b[0;34m(self, exog, transform)\u001b[0m\n\u001b[1;32m   1105\u001b[0m \u001b[38;5;28;01mexcept\u001b[39;00m \u001b[38;5;167;01mException\u001b[39;00m \u001b[38;5;28;01mas\u001b[39;00m exc:\n\u001b[1;32m   1106\u001b[0m     msg \u001b[38;5;241m=\u001b[39m (\u001b[38;5;124m'\u001b[39m\u001b[38;5;124mpredict requires that you use a DataFrame when \u001b[39m\u001b[38;5;124m'\u001b[39m\n\u001b[1;32m   1107\u001b[0m            \u001b[38;5;124m'\u001b[39m\u001b[38;5;124mpredicting from a model\u001b[39m\u001b[38;5;130;01m\\n\u001b[39;00m\u001b[38;5;124mthat was created using the \u001b[39m\u001b[38;5;124m'\u001b[39m\n\u001b[1;32m   1108\u001b[0m            \u001b[38;5;124m'\u001b[39m\u001b[38;5;124mformula api.\u001b[39m\u001b[38;5;124m'\u001b[39m\n\u001b[1;32m   1109\u001b[0m            \u001b[38;5;124m'\u001b[39m\u001b[38;5;130;01m\\n\u001b[39;00m\u001b[38;5;130;01m\\n\u001b[39;00m\u001b[38;5;124mThe original error message returned by patsy is:\u001b[39m\u001b[38;5;130;01m\\n\u001b[39;00m\u001b[38;5;124m'\u001b[39m\n\u001b[1;32m   1110\u001b[0m            \u001b[38;5;124m'\u001b[39m\u001b[38;5;132;01m{0}\u001b[39;00m\u001b[38;5;124m'\u001b[39m\u001b[38;5;241m.\u001b[39mformat(\u001b[38;5;28mstr\u001b[39m(\u001b[38;5;28mstr\u001b[39m(exc))))\n\u001b[0;32m-> 1111\u001b[0m     \u001b[38;5;28;01mraise\u001b[39;00m exc\u001b[38;5;241m.\u001b[39m\u001b[38;5;18m__class__\u001b[39m(msg)\n\u001b[1;32m   1112\u001b[0m \u001b[38;5;28;01mif\u001b[39;00m orig_exog_len \u001b[38;5;241m>\u001b[39m \u001b[38;5;28mlen\u001b[39m(exog) \u001b[38;5;129;01mand\u001b[39;00m \u001b[38;5;129;01mnot\u001b[39;00m is_dict:\n\u001b[1;32m   1113\u001b[0m     \u001b[38;5;28;01mif\u001b[39;00m exog_index \u001b[38;5;129;01mis\u001b[39;00m \u001b[38;5;28;01mNone\u001b[39;00m:\n",
      "\u001b[0;31mPatsyError\u001b[0m: predict requires that you use a DataFrame when predicting from a model\nthat was created using the formula api.\n\nThe original error message returned by patsy is:\nError evaluating factor: NameError: name 'genre' is not defined\n    rating ~ review_year_0     + release_year_0     + age_sc     + length_minutes_sc     + total_reviews_sc     + word_count_sc     + genre\n                                                                                                                                      ^^^^^"
     ]
    }
   ],
   "source": [
    "import dalex as dx\n",
    "import matplotlib.pyplot as plt\n",
    "\n",
    "features = [\n",
    "    \"review_year_0\", \n",
    "    \"release_year_0\",\n",
    "    \"age_sc\", \n",
    "    \"length_minutes_sc\", \n",
    "    \"total_reviews_sc\", \n",
    "    \"word_count_sc\", \n",
    "    # \"genre\", \n",
    "    ]\n",
    "\n",
    "X = training_data[features]\n",
    "\n",
    "X[X.select_dtypes(include='object').columns] = X.select_dtypes(include='object').astype('category')\n",
    "\n",
    "train_explain = dx.Explainer(\n",
    "    model_train_reg, \n",
    "    data = X, \n",
    "    y = training_data.rating,\n",
    "    verbose = False\n",
    ")\n",
    "\n",
    "train_performance = train_explain.model_performance()\n",
    "\n",
    "perf_plot = train_performance.plot()\n"
   ]
  },
  {
   "cell_type": "code",
   "execution_count": null,
   "metadata": {},
   "outputs": [],
   "source": [
    "break_down_plot = train_explain.predict_parts(\n",
    "    new_observation = X.loc[1,features]\n",
    ")"
   ]
  },
  {
   "cell_type": "code",
   "execution_count": null,
   "metadata": {},
   "outputs": [
    {
     "data": {
      "application/vnd.plotly.v1+json": {
       "config": {
        "displaylogo": false,
        "modeBarButtonsToRemove": [
         "sendDataToCloud",
         "lasso2d",
         "autoScale2d",
         "select2d",
         "zoom2d",
         "pan2d",
         "zoomIn2d",
         "zoomOut2d",
         "resetScale2d",
         "toggleSpikelines",
         "hoverCompareCartesian",
         "hoverClosestCartesian"
        ],
        "plotlyServerURL": "https://plot.ly",
        "staticPlot": false,
        "toImageButtonOptions": {
         "height": null,
         "width": null
        }
       },
       "data": [
        {
         "base": 3.0594666666666677,
         "connector": {
          "line": {
           "color": "#371ea3",
           "dash": "solid",
           "width": 1
          },
          "mode": "spanning"
         },
         "decreasing": {
          "marker": {
           "color": "#f05a71"
          }
         },
         "hoverinfo": "text+delta",
         "hoverlabel": {
          "bgcolor": "rgba(0,0,0,0.8)"
         },
         "hovertext": [
          "Average response: 3.059<br>Prediction: 3.432",
          "total_reviews_sc = 0.9402<br>increases average response by",
          "release_year_0 = 36.0<br>increases average response by",
          "word_count_sc = -0.2591<br>increases average response by",
          "review_year_0 = 14.0<br>decreases average response by",
          "age_sc = -0.2148<br>increases average response by",
          "length_minutes_sc = -0.0001735<br>increases average response by",
          "Average response: 3.059<br>Prediction: 3.432"
         ],
         "increasing": {
          "marker": {
           "color": "#8bdcbe"
          }
         },
         "measure": [
          "relative",
          "relative",
          "relative",
          "relative",
          "relative",
          "relative",
          "relative",
          "total"
         ],
         "orientation": "h",
         "showlegend": false,
         "text": [
          "3.059",
          "+0.193",
          "+0.146",
          "+0.042",
          "-0.017",
          "+0.007",
          "+0.002",
          "3.432"
         ],
         "textposition": "outside",
         "totals": {
          "marker": {
           "color": "#371ea3"
          }
         },
         "type": "waterfall",
         "x": [
          0,
          0.193,
          0.146,
          0.042,
          -0.017,
          0.007,
          0.002,
          0.372
         ],
         "xaxis": "x",
         "y": [
          "intercept",
          "total_reviews_sc = 0.9402",
          "release_year_0 = 36.0",
          "word_count_sc = -0.2591",
          "review_year_0 = 14.0",
          "age_sc = -0.2148",
          "length_minutes_sc = -0.0001735",
          "prediction"
         ],
         "yaxis": "y"
        }
       ],
       "layout": {
        "annotations": [
         {
          "font": {
           "size": 16
          },
          "showarrow": false,
          "text": "RegressionResultsWrapper",
          "x": 0.5,
          "xanchor": "center",
          "xref": "paper",
          "y": 1,
          "yanchor": "bottom",
          "yref": "paper"
         },
         {
          "font": {
           "size": 16
          },
          "showarrow": false,
          "text": "contribution",
          "x": 0.5,
          "xanchor": "center",
          "xref": "paper",
          "y": 0,
          "yanchor": "top",
          "yref": "paper",
          "yshift": -30
         }
        ],
        "font": {
         "color": "#371ea3"
        },
        "height": 313,
        "margin": {
         "b": 71,
         "r": 30,
         "t": 78
        },
        "shapes": [
         {
          "line": {
           "color": "#371ea3",
           "dash": "dot",
           "width": 1.5
          },
          "type": "line",
          "x0": 3.0594666666666677,
          "x1": 3.0594666666666677,
          "xref": "x",
          "y0": -1,
          "y1": 8,
          "yref": "y"
         }
        ],
        "template": {
         "data": {
          "scatter": [
           {
            "type": "scatter"
           }
          ]
         }
        },
        "title": {
         "text": "Break Down",
         "x": 0.15
        },
        "xaxis": {
         "anchor": "y",
         "automargin": true,
         "domain": [
          0,
          1
         ],
         "fixedrange": true,
         "gridwidth": 2,
         "range": [
          3.00185,
          3.49715
         ],
         "tickcolor": "white",
         "ticklen": 3,
         "ticks": "outside",
         "type": "linear",
         "zeroline": false
        },
        "yaxis": {
         "anchor": "x",
         "automargin": true,
         "autorange": "reversed",
         "domain": [
          0,
          1
         ],
         "fixedrange": true,
         "gridwidth": 2,
         "tickcolor": "white",
         "ticklen": 10,
         "ticks": "outside",
         "type": "category"
        }
       }
      }
     },
     "metadata": {},
     "output_type": "display_data"
    }
   ],
   "source": [
    "break_down_plot.plot(\n",
    "\n",
    ")"
   ]
  },
  {
   "cell_type": "code",
   "execution_count": null,
   "metadata": {},
   "outputs": [
    {
     "data": {
      "text/html": [
       "<table class=\"simpletable\">\n",
       "<caption>Generalized Linear Model Regression Results</caption>\n",
       "<tr>\n",
       "  <th>Dep. Variable:</th>      <td>rating_good</td>   <th>  No. Observations:  </th>  <td>   750</td> \n",
       "</tr>\n",
       "<tr>\n",
       "  <th>Model:</th>                  <td>GLM</td>       <th>  Df Residuals:      </th>  <td>   736</td> \n",
       "</tr>\n",
       "<tr>\n",
       "  <th>Model Family:</th>        <td>Binomial</td>     <th>  Df Model:          </th>  <td>    13</td> \n",
       "</tr>\n",
       "<tr>\n",
       "  <th>Link Function:</th>         <td>Logit</td>      <th>  Scale:             </th> <td>  1.0000</td>\n",
       "</tr>\n",
       "<tr>\n",
       "  <th>Method:</th>                <td>IRLS</td>       <th>  Log-Likelihood:    </th> <td> -367.76</td>\n",
       "</tr>\n",
       "<tr>\n",
       "  <th>Date:</th>            <td>Thu, 08 Feb 2024</td> <th>  Deviance:          </th> <td>  735.52</td>\n",
       "</tr>\n",
       "<tr>\n",
       "  <th>Time:</th>                <td>20:44:46</td>     <th>  Pearson chi2:      </th>  <td>  672.</td> \n",
       "</tr>\n",
       "<tr>\n",
       "  <th>No. Iterations:</th>          <td>6</td>        <th>  Pseudo R-squ. (CS):</th>  <td>0.3189</td> \n",
       "</tr>\n",
       "<tr>\n",
       "  <th>Covariance Type:</th>     <td>nonrobust</td>    <th>                     </th>     <td> </td>   \n",
       "</tr>\n",
       "</table>\n",
       "<table class=\"simpletable\">\n",
       "<tr>\n",
       "          <td></td>             <th>coef</th>     <th>std err</th>      <th>z</th>      <th>P>|z|</th>  <th>[0.025</th>    <th>0.975]</th>  \n",
       "</tr>\n",
       "<tr>\n",
       "  <th>Intercept</th>         <td>   -1.7239</td> <td>    0.439</td> <td>   -3.931</td> <td> 0.000</td> <td>   -2.583</td> <td>   -0.864</td>\n",
       "</tr>\n",
       "<tr>\n",
       "  <th>genre[T.Comedy]</th>   <td>    2.4492</td> <td>    0.448</td> <td>    5.462</td> <td> 0.000</td> <td>    1.570</td> <td>    3.328</td>\n",
       "</tr>\n",
       "<tr>\n",
       "  <th>genre[T.Drama]</th>    <td>    1.9952</td> <td>    0.256</td> <td>    7.789</td> <td> 0.000</td> <td>    1.493</td> <td>    2.497</td>\n",
       "</tr>\n",
       "<tr>\n",
       "  <th>genre[T.Horror]</th>   <td>   -0.0215</td> <td>    0.397</td> <td>   -0.054</td> <td> 0.957</td> <td>   -0.799</td> <td>    0.756</td>\n",
       "</tr>\n",
       "<tr>\n",
       "  <th>genre[T.Kids]</th>     <td>   -0.1908</td> <td>    0.358</td> <td>   -0.533</td> <td> 0.594</td> <td>   -0.893</td> <td>    0.511</td>\n",
       "</tr>\n",
       "<tr>\n",
       "  <th>genre[T.Other]</th>    <td>    0.0147</td> <td>    0.363</td> <td>    0.041</td> <td> 0.968</td> <td>   -0.696</td> <td>    0.726</td>\n",
       "</tr>\n",
       "<tr>\n",
       "  <th>genre[T.Romance]</th>  <td>    0.1751</td> <td>    0.385</td> <td>    0.455</td> <td> 0.649</td> <td>   -0.579</td> <td>    0.929</td>\n",
       "</tr>\n",
       "<tr>\n",
       "  <th>genre[T.Sci-Fi]</th>   <td>    0.2399</td> <td>    0.416</td> <td>    0.577</td> <td> 0.564</td> <td>   -0.575</td> <td>    1.055</td>\n",
       "</tr>\n",
       "<tr>\n",
       "  <th>review_year_0</th>     <td>    0.0272</td> <td>    0.018</td> <td>    1.529</td> <td> 0.126</td> <td>   -0.008</td> <td>    0.062</td>\n",
       "</tr>\n",
       "<tr>\n",
       "  <th>release_year_0</th>    <td>    0.0355</td> <td>    0.011</td> <td>    3.370</td> <td> 0.001</td> <td>    0.015</td> <td>    0.056</td>\n",
       "</tr>\n",
       "<tr>\n",
       "  <th>age_sc</th>            <td>   -0.2167</td> <td>    0.094</td> <td>   -2.296</td> <td> 0.022</td> <td>   -0.402</td> <td>   -0.032</td>\n",
       "</tr>\n",
       "<tr>\n",
       "  <th>length_minutes_sc</th> <td>    0.5661</td> <td>    0.106</td> <td>    5.360</td> <td> 0.000</td> <td>    0.359</td> <td>    0.773</td>\n",
       "</tr>\n",
       "<tr>\n",
       "  <th>total_reviews_sc</th>  <td>    0.9022</td> <td>    0.109</td> <td>    8.312</td> <td> 0.000</td> <td>    0.689</td> <td>    1.115</td>\n",
       "</tr>\n",
       "<tr>\n",
       "  <th>word_count_sc</th>     <td>   -0.5834</td> <td>    0.106</td> <td>   -5.522</td> <td> 0.000</td> <td>   -0.790</td> <td>   -0.376</td>\n",
       "</tr>\n",
       "</table>"
      ],
      "text/latex": [
       "\\begin{center}\n",
       "\\begin{tabular}{lclc}\n",
       "\\toprule\n",
       "\\textbf{Dep. Variable:}      &   rating\\_good   & \\textbf{  No. Observations:  } &      750    \\\\\n",
       "\\textbf{Model:}              &       GLM        & \\textbf{  Df Residuals:      } &      736    \\\\\n",
       "\\textbf{Model Family:}       &     Binomial     & \\textbf{  Df Model:          } &       13    \\\\\n",
       "\\textbf{Link Function:}      &      Logit       & \\textbf{  Scale:             } &    1.0000   \\\\\n",
       "\\textbf{Method:}             &       IRLS       & \\textbf{  Log-Likelihood:    } &   -367.76   \\\\\n",
       "\\textbf{Date:}               & Thu, 08 Feb 2024 & \\textbf{  Deviance:          } &    735.52   \\\\\n",
       "\\textbf{Time:}               &     20:44:46     & \\textbf{  Pearson chi2:      } &     672.    \\\\\n",
       "\\textbf{No. Iterations:}     &        6         & \\textbf{  Pseudo R-squ. (CS):} &   0.3189    \\\\\n",
       "\\textbf{Covariance Type:}    &    nonrobust     & \\textbf{                     } &             \\\\\n",
       "\\bottomrule\n",
       "\\end{tabular}\n",
       "\\begin{tabular}{lcccccc}\n",
       "                             & \\textbf{coef} & \\textbf{std err} & \\textbf{z} & \\textbf{P$> |$z$|$} & \\textbf{[0.025} & \\textbf{0.975]}  \\\\\n",
       "\\midrule\n",
       "\\textbf{Intercept}           &      -1.7239  &        0.439     &    -3.931  &         0.000        &       -2.583    &       -0.864     \\\\\n",
       "\\textbf{genre[T.Comedy]}     &       2.4492  &        0.448     &     5.462  &         0.000        &        1.570    &        3.328     \\\\\n",
       "\\textbf{genre[T.Drama]}      &       1.9952  &        0.256     &     7.789  &         0.000        &        1.493    &        2.497     \\\\\n",
       "\\textbf{genre[T.Horror]}     &      -0.0215  &        0.397     &    -0.054  &         0.957        &       -0.799    &        0.756     \\\\\n",
       "\\textbf{genre[T.Kids]}       &      -0.1908  &        0.358     &    -0.533  &         0.594        &       -0.893    &        0.511     \\\\\n",
       "\\textbf{genre[T.Other]}      &       0.0147  &        0.363     &     0.041  &         0.968        &       -0.696    &        0.726     \\\\\n",
       "\\textbf{genre[T.Romance]}    &       0.1751  &        0.385     &     0.455  &         0.649        &       -0.579    &        0.929     \\\\\n",
       "\\textbf{genre[T.Sci-Fi]}     &       0.2399  &        0.416     &     0.577  &         0.564        &       -0.575    &        1.055     \\\\\n",
       "\\textbf{review\\_year\\_0}     &       0.0272  &        0.018     &     1.529  &         0.126        &       -0.008    &        0.062     \\\\\n",
       "\\textbf{release\\_year\\_0}    &       0.0355  &        0.011     &     3.370  &         0.001        &        0.015    &        0.056     \\\\\n",
       "\\textbf{age\\_sc}             &      -0.2167  &        0.094     &    -2.296  &         0.022        &       -0.402    &       -0.032     \\\\\n",
       "\\textbf{length\\_minutes\\_sc} &       0.5661  &        0.106     &     5.360  &         0.000        &        0.359    &        0.773     \\\\\n",
       "\\textbf{total\\_reviews\\_sc}  &       0.9022  &        0.109     &     8.312  &         0.000        &        0.689    &        1.115     \\\\\n",
       "\\textbf{word\\_count\\_sc}     &      -0.5834  &        0.106     &    -5.522  &         0.000        &       -0.790    &       -0.376     \\\\\n",
       "\\bottomrule\n",
       "\\end{tabular}\n",
       "%\\caption{Generalized Linear Model Regression Results}\n",
       "\\end{center}"
      ],
      "text/plain": [
       "<class 'statsmodels.iolib.summary.Summary'>\n",
       "\"\"\"\n",
       "                 Generalized Linear Model Regression Results                  \n",
       "==============================================================================\n",
       "Dep. Variable:            rating_good   No. Observations:                  750\n",
       "Model:                            GLM   Df Residuals:                      736\n",
       "Model Family:                Binomial   Df Model:                           13\n",
       "Link Function:                  Logit   Scale:                          1.0000\n",
       "Method:                          IRLS   Log-Likelihood:                -367.76\n",
       "Date:                Thu, 08 Feb 2024   Deviance:                       735.52\n",
       "Time:                        20:44:46   Pearson chi2:                     672.\n",
       "No. Iterations:                     6   Pseudo R-squ. (CS):             0.3189\n",
       "Covariance Type:            nonrobust                                         \n",
       "=====================================================================================\n",
       "                        coef    std err          z      P>|z|      [0.025      0.975]\n",
       "-------------------------------------------------------------------------------------\n",
       "Intercept            -1.7239      0.439     -3.931      0.000      -2.583      -0.864\n",
       "genre[T.Comedy]       2.4492      0.448      5.462      0.000       1.570       3.328\n",
       "genre[T.Drama]        1.9952      0.256      7.789      0.000       1.493       2.497\n",
       "genre[T.Horror]      -0.0215      0.397     -0.054      0.957      -0.799       0.756\n",
       "genre[T.Kids]        -0.1908      0.358     -0.533      0.594      -0.893       0.511\n",
       "genre[T.Other]        0.0147      0.363      0.041      0.968      -0.696       0.726\n",
       "genre[T.Romance]      0.1751      0.385      0.455      0.649      -0.579       0.929\n",
       "genre[T.Sci-Fi]       0.2399      0.416      0.577      0.564      -0.575       1.055\n",
       "review_year_0         0.0272      0.018      1.529      0.126      -0.008       0.062\n",
       "release_year_0        0.0355      0.011      3.370      0.001       0.015       0.056\n",
       "age_sc               -0.2167      0.094     -2.296      0.022      -0.402      -0.032\n",
       "length_minutes_sc     0.5661      0.106      5.360      0.000       0.359       0.773\n",
       "total_reviews_sc      0.9022      0.109      8.312      0.000       0.689       1.115\n",
       "word_count_sc        -0.5834      0.106     -5.522      0.000      -0.790      -0.376\n",
       "=====================================================================================\n",
       "\"\"\""
      ]
     },
     "execution_count": 42,
     "metadata": {},
     "output_type": "execute_result"
    }
   ],
   "source": [
    "import statsmodels.api as sm\n",
    "import statsmodels.formula.api as smf\n",
    "\n",
    "features = [\n",
    "    \"review_year_0\", \n",
    "    \"release_year_0\",\n",
    "    \"age_sc\", \n",
    "    \"length_minutes_sc\", \n",
    "    \"total_reviews_sc\", \n",
    "    \"word_count_sc\", \n",
    "    \"genre\", \n",
    "    ]\n",
    "\n",
    "model =  'rating_good ~ ' + \" + \".join(features)\n",
    "\n",
    "model_train_class = smf.glm(\n",
    "    formula = model,\n",
    "    data = training_data,\n",
    "    family = sm.families.Binomial()\n",
    ").fit(maxiter= 2000, tol = 1e-12)\n",
    "\n",
    "model_train_class.summary() "
   ]
  },
  {
   "cell_type": "code",
   "execution_count": 7,
   "metadata": {},
   "outputs": [
    {
     "data": {
      "text/html": [
       "<table class=\"simpletable\">\n",
       "<caption>Generalized Linear Model Regression Results</caption>\n",
       "<tr>\n",
       "  <th>Dep. Variable:</th>      <td>rating_good</td>   <th>  No. Observations:  </th>  <td>   750</td> \n",
       "</tr>\n",
       "<tr>\n",
       "  <th>Model:</th>                  <td>GLM</td>       <th>  Df Residuals:      </th>  <td>   743</td> \n",
       "</tr>\n",
       "<tr>\n",
       "  <th>Model Family:</th>        <td>Binomial</td>     <th>  Df Model:          </th>  <td>     6</td> \n",
       "</tr>\n",
       "<tr>\n",
       "  <th>Link Function:</th>         <td>Logit</td>      <th>  Scale:             </th> <td>  1.0000</td>\n",
       "</tr>\n",
       "<tr>\n",
       "  <th>Method:</th>                <td>IRLS</td>       <th>  Log-Likelihood:    </th> <td> -425.64</td>\n",
       "</tr>\n",
       "<tr>\n",
       "  <th>Date:</th>            <td>Sun, 11 Feb 2024</td> <th>  Deviance:          </th> <td>  851.29</td>\n",
       "</tr>\n",
       "<tr>\n",
       "  <th>Time:</th>                <td>17:07:59</td>     <th>  Pearson chi2:      </th>  <td>  750.</td> \n",
       "</tr>\n",
       "<tr>\n",
       "  <th>No. Iterations:</th>          <td>4</td>        <th>  Pseudo R-squ. (CS):</th>  <td>0.2052</td> \n",
       "</tr>\n",
       "<tr>\n",
       "  <th>Covariance Type:</th>     <td>nonrobust</td>    <th>                     </th>     <td> </td>   \n",
       "</tr>\n",
       "</table>\n",
       "<table class=\"simpletable\">\n",
       "<tr>\n",
       "          <td></td>             <th>coef</th>     <th>std err</th>      <th>z</th>      <th>P>|z|</th>  <th>[0.025</th>    <th>0.975]</th>  \n",
       "</tr>\n",
       "<tr>\n",
       "  <th>Intercept</th>         <td>   -1.0450</td> <td>    0.361</td> <td>   -2.893</td> <td> 0.004</td> <td>   -1.753</td> <td>   -0.337</td>\n",
       "</tr>\n",
       "<tr>\n",
       "  <th>review_year_0</th>     <td>    0.0218</td> <td>    0.016</td> <td>    1.337</td> <td> 0.181</td> <td>   -0.010</td> <td>    0.054</td>\n",
       "</tr>\n",
       "<tr>\n",
       "  <th>release_year_0</th>    <td>    0.0418</td> <td>    0.009</td> <td>    4.497</td> <td> 0.000</td> <td>    0.024</td> <td>    0.060</td>\n",
       "</tr>\n",
       "<tr>\n",
       "  <th>age_sc</th>            <td>   -0.1363</td> <td>    0.084</td> <td>   -1.615</td> <td> 0.106</td> <td>   -0.302</td> <td>    0.029</td>\n",
       "</tr>\n",
       "<tr>\n",
       "  <th>length_minutes_sc</th> <td>    0.5261</td> <td>    0.092</td> <td>    5.693</td> <td> 0.000</td> <td>    0.345</td> <td>    0.707</td>\n",
       "</tr>\n",
       "<tr>\n",
       "  <th>total_reviews_sc</th>  <td>    0.6006</td> <td>    0.089</td> <td>    6.748</td> <td> 0.000</td> <td>    0.426</td> <td>    0.775</td>\n",
       "</tr>\n",
       "<tr>\n",
       "  <th>word_count_sc</th>     <td>   -0.6498</td> <td>    0.097</td> <td>   -6.719</td> <td> 0.000</td> <td>   -0.839</td> <td>   -0.460</td>\n",
       "</tr>\n",
       "</table>"
      ],
      "text/latex": [
       "\\begin{center}\n",
       "\\begin{tabular}{lclc}\n",
       "\\toprule\n",
       "\\textbf{Dep. Variable:}      &   rating\\_good   & \\textbf{  No. Observations:  } &      750    \\\\\n",
       "\\textbf{Model:}              &       GLM        & \\textbf{  Df Residuals:      } &      743    \\\\\n",
       "\\textbf{Model Family:}       &     Binomial     & \\textbf{  Df Model:          } &        6    \\\\\n",
       "\\textbf{Link Function:}      &      Logit       & \\textbf{  Scale:             } &    1.0000   \\\\\n",
       "\\textbf{Method:}             &       IRLS       & \\textbf{  Log-Likelihood:    } &   -425.64   \\\\\n",
       "\\textbf{Date:}               & Sun, 11 Feb 2024 & \\textbf{  Deviance:          } &    851.29   \\\\\n",
       "\\textbf{Time:}               &     17:07:59     & \\textbf{  Pearson chi2:      } &     750.    \\\\\n",
       "\\textbf{No. Iterations:}     &        4         & \\textbf{  Pseudo R-squ. (CS):} &   0.2052    \\\\\n",
       "\\textbf{Covariance Type:}    &    nonrobust     & \\textbf{                     } &             \\\\\n",
       "\\bottomrule\n",
       "\\end{tabular}\n",
       "\\begin{tabular}{lcccccc}\n",
       "                             & \\textbf{coef} & \\textbf{std err} & \\textbf{z} & \\textbf{P$> |$z$|$} & \\textbf{[0.025} & \\textbf{0.975]}  \\\\\n",
       "\\midrule\n",
       "\\textbf{Intercept}           &      -1.0450  &        0.361     &    -2.893  &         0.004        &       -1.753    &       -0.337     \\\\\n",
       "\\textbf{review\\_year\\_0}     &       0.0218  &        0.016     &     1.337  &         0.181        &       -0.010    &        0.054     \\\\\n",
       "\\textbf{release\\_year\\_0}    &       0.0418  &        0.009     &     4.497  &         0.000        &        0.024    &        0.060     \\\\\n",
       "\\textbf{age\\_sc}             &      -0.1363  &        0.084     &    -1.615  &         0.106        &       -0.302    &        0.029     \\\\\n",
       "\\textbf{length\\_minutes\\_sc} &       0.5261  &        0.092     &     5.693  &         0.000        &        0.345    &        0.707     \\\\\n",
       "\\textbf{total\\_reviews\\_sc}  &       0.6006  &        0.089     &     6.748  &         0.000        &        0.426    &        0.775     \\\\\n",
       "\\textbf{word\\_count\\_sc}     &      -0.6498  &        0.097     &    -6.719  &         0.000        &       -0.839    &       -0.460     \\\\\n",
       "\\bottomrule\n",
       "\\end{tabular}\n",
       "%\\caption{Generalized Linear Model Regression Results}\n",
       "\\end{center}"
      ],
      "text/plain": [
       "<class 'statsmodels.iolib.summary.Summary'>\n",
       "\"\"\"\n",
       "                 Generalized Linear Model Regression Results                  \n",
       "==============================================================================\n",
       "Dep. Variable:            rating_good   No. Observations:                  750\n",
       "Model:                            GLM   Df Residuals:                      743\n",
       "Model Family:                Binomial   Df Model:                            6\n",
       "Link Function:                  Logit   Scale:                          1.0000\n",
       "Method:                          IRLS   Log-Likelihood:                -425.64\n",
       "Date:                Sun, 11 Feb 2024   Deviance:                       851.29\n",
       "Time:                        17:07:59   Pearson chi2:                     750.\n",
       "No. Iterations:                     4   Pseudo R-squ. (CS):             0.2052\n",
       "Covariance Type:            nonrobust                                         \n",
       "=====================================================================================\n",
       "                        coef    std err          z      P>|z|      [0.025      0.975]\n",
       "-------------------------------------------------------------------------------------\n",
       "Intercept            -1.0450      0.361     -2.893      0.004      -1.753      -0.337\n",
       "review_year_0         0.0218      0.016      1.337      0.181      -0.010       0.054\n",
       "release_year_0        0.0418      0.009      4.497      0.000       0.024       0.060\n",
       "age_sc               -0.1363      0.084     -1.615      0.106      -0.302       0.029\n",
       "length_minutes_sc     0.5261      0.092      5.693      0.000       0.345       0.707\n",
       "total_reviews_sc      0.6006      0.089      6.748      0.000       0.426       0.775\n",
       "word_count_sc        -0.6498      0.097     -6.719      0.000      -0.839      -0.460\n",
       "=====================================================================================\n",
       "\"\"\""
      ]
     },
     "execution_count": 7,
     "metadata": {},
     "output_type": "execute_result"
    }
   ],
   "source": [
    "import statsmodels.api as sm\n",
    "import statsmodels.formula.api as smf\n",
    "\n",
    "model =  'rating_good ~ ' + \" + \".join(features)\n",
    "\n",
    "model_train_class = smf.glm(\n",
    "    formula = model,\n",
    "    data = training_data,\n",
    "    family = sm.families.Binomial()\n",
    ").fit()\n",
    "\n",
    "\n",
    "model_train_class.summary() "
   ]
  },
  {
   "cell_type": "code",
   "execution_count": 13,
   "metadata": {},
   "outputs": [
    {
     "ename": "TypeError",
     "evalue": "cannot call `map_groups` when grouping by an expression",
     "output_type": "error",
     "traceback": [
      "\u001b[0;31m---------------------------------------------------------------------------\u001b[0m",
      "\u001b[0;31mTypeError\u001b[0m                                 Traceback (most recent call last)",
      "Cell \u001b[0;32mIn[13], line 4\u001b[0m\n\u001b[1;32m      1\u001b[0m \u001b[38;5;28;01mfrom\u001b[39;00m \u001b[38;5;21;01mmarginaleffects\u001b[39;00m \u001b[38;5;28;01mimport\u001b[39;00m avg_slopes, comparisons\n\u001b[1;32m      3\u001b[0m \u001b[38;5;66;03m# avg_slopes(model_train_class, variables = \"word_count_sc\")\u001b[39;00m\n\u001b[0;32m----> 4\u001b[0m \u001b[43mcomparisons\u001b[49m\u001b[43m(\u001b[49m\u001b[43mmodel_train_class\u001b[49m\u001b[43m,\u001b[49m\u001b[43m \u001b[49m\u001b[43mvariables\u001b[49m\u001b[43m \u001b[49m\u001b[38;5;241;43m=\u001b[39;49m\u001b[43m \u001b[49m\u001b[43m{\u001b[49m\u001b[38;5;124;43m\"\u001b[39;49m\u001b[38;5;124;43mword_count_sc\u001b[39;49m\u001b[38;5;124;43m\"\u001b[39;49m\u001b[43m:\u001b[49m\u001b[43m \u001b[49m\u001b[38;5;124;43m'\u001b[39;49m\u001b[38;5;124;43msd\u001b[39;49m\u001b[38;5;124;43m'\u001b[39;49m\u001b[43m}\u001b[49m\u001b[43m)\u001b[49m\n",
      "File \u001b[0;32m~/anaconda3/envs/book-of-models/lib/python3.12/site-packages/marginaleffects/comparisons.py:291\u001b[0m, in \u001b[0;36mcomparisons\u001b[0;34m(model, variables, newdata, comparison, vcov, conf_level, by, wts, hypothesis, equivalence, transform, eps, eps_vcov)\u001b[0m\n\u001b[1;32m    288\u001b[0m \u001b[38;5;28;01mdef\u001b[39;00m \u001b[38;5;21mouter\u001b[39m(x):\n\u001b[1;32m    289\u001b[0m     \u001b[38;5;28;01mreturn\u001b[39;00m inner(x, by\u001b[38;5;241m=\u001b[39mby, hypothesis\u001b[38;5;241m=\u001b[39mhypothesis, wts\u001b[38;5;241m=\u001b[39mwts, nd\u001b[38;5;241m=\u001b[39mnd)\n\u001b[0;32m--> 291\u001b[0m out \u001b[38;5;241m=\u001b[39m \u001b[43mouter\u001b[49m\u001b[43m(\u001b[49m\u001b[43mmodel\u001b[49m\u001b[38;5;241;43m.\u001b[39;49m\u001b[43mcoef\u001b[49m\u001b[43m)\u001b[49m\n\u001b[1;32m    293\u001b[0m \u001b[38;5;28;01mif\u001b[39;00m vcov \u001b[38;5;129;01mis\u001b[39;00m \u001b[38;5;129;01mnot\u001b[39;00m \u001b[38;5;28;01mNone\u001b[39;00m \u001b[38;5;129;01mand\u001b[39;00m vcov \u001b[38;5;129;01mis\u001b[39;00m \u001b[38;5;129;01mnot\u001b[39;00m \u001b[38;5;28;01mFalse\u001b[39;00m:\n\u001b[1;32m    294\u001b[0m     J \u001b[38;5;241m=\u001b[39m get_jacobian(func\u001b[38;5;241m=\u001b[39mouter, coefs\u001b[38;5;241m=\u001b[39mmodel\u001b[38;5;241m.\u001b[39mcoef, eps_vcov\u001b[38;5;241m=\u001b[39meps_vcov)\n",
      "File \u001b[0;32m~/anaconda3/envs/book-of-models/lib/python3.12/site-packages/marginaleffects/comparisons.py:289\u001b[0m, in \u001b[0;36mcomparisons.<locals>.outer\u001b[0;34m(x)\u001b[0m\n\u001b[1;32m    288\u001b[0m \u001b[38;5;28;01mdef\u001b[39;00m \u001b[38;5;21mouter\u001b[39m(x):\n\u001b[0;32m--> 289\u001b[0m     \u001b[38;5;28;01mreturn\u001b[39;00m \u001b[43minner\u001b[49m\u001b[43m(\u001b[49m\u001b[43mx\u001b[49m\u001b[43m,\u001b[49m\u001b[43m \u001b[49m\u001b[43mby\u001b[49m\u001b[38;5;241;43m=\u001b[39;49m\u001b[43mby\u001b[49m\u001b[43m,\u001b[49m\u001b[43m \u001b[49m\u001b[43mhypothesis\u001b[49m\u001b[38;5;241;43m=\u001b[39;49m\u001b[43mhypothesis\u001b[49m\u001b[43m,\u001b[49m\u001b[43m \u001b[49m\u001b[43mwts\u001b[49m\u001b[38;5;241;43m=\u001b[39;49m\u001b[43mwts\u001b[49m\u001b[43m,\u001b[49m\u001b[43m \u001b[49m\u001b[43mnd\u001b[49m\u001b[38;5;241;43m=\u001b[39;49m\u001b[43mnd\u001b[49m\u001b[43m)\u001b[49m\n",
      "File \u001b[0;32m~/anaconda3/envs/book-of-models/lib/python3.12/site-packages/marginaleffects/comparisons.py:282\u001b[0m, in \u001b[0;36mcomparisons.<locals>.inner\u001b[0;34m(coefs, by, hypothesis, wts, nd)\u001b[0m\n\u001b[1;32m    280\u001b[0m \u001b[38;5;66;03m# maintain_order is extremely important\u001b[39;00m\n\u001b[1;32m    281\u001b[0m by \u001b[38;5;241m=\u001b[39m [x \u001b[38;5;28;01mfor\u001b[39;00m x \u001b[38;5;129;01min\u001b[39;00m by \u001b[38;5;28;01mif\u001b[39;00m x \u001b[38;5;129;01min\u001b[39;00m tmp\u001b[38;5;241m.\u001b[39mcolumns]\n\u001b[0;32m--> 282\u001b[0m tmp \u001b[38;5;241m=\u001b[39m \u001b[43mtmp\u001b[49m\u001b[38;5;241;43m.\u001b[39;49m\u001b[43mgroup_by\u001b[49m\u001b[43m(\u001b[49m\u001b[43mby\u001b[49m\u001b[43m,\u001b[49m\u001b[43m \u001b[49m\u001b[43mmaintain_order\u001b[49m\u001b[38;5;241;43m=\u001b[39;49m\u001b[38;5;28;43;01mTrue\u001b[39;49;00m\u001b[43m)\u001b[49m\u001b[38;5;241;43m.\u001b[39;49m\u001b[43mmap_groups\u001b[49m\u001b[43m(\u001b[49m\u001b[43mapplyfun_outer\u001b[49m\u001b[43m)\u001b[49m\n\u001b[1;32m    284\u001b[0m tmp \u001b[38;5;241m=\u001b[39m get_hypothesis(tmp, hypothesis\u001b[38;5;241m=\u001b[39mhypothesis)\n\u001b[1;32m    286\u001b[0m \u001b[38;5;28;01mreturn\u001b[39;00m tmp\n",
      "File \u001b[0;32m~/anaconda3/envs/book-of-models/lib/python3.12/site-packages/polars/dataframe/group_by.py:319\u001b[0m, in \u001b[0;36mGroupBy.map_groups\u001b[0;34m(self, function)\u001b[0m\n\u001b[1;32m    317\u001b[0m \u001b[38;5;28;01mif\u001b[39;00m \u001b[38;5;129;01mnot\u001b[39;00m \u001b[38;5;28mall\u001b[39m(\u001b[38;5;28misinstance\u001b[39m(c, \u001b[38;5;28mstr\u001b[39m) \u001b[38;5;28;01mfor\u001b[39;00m c \u001b[38;5;129;01min\u001b[39;00m \u001b[38;5;28mself\u001b[39m\u001b[38;5;241m.\u001b[39mby):\n\u001b[1;32m    318\u001b[0m     msg \u001b[38;5;241m=\u001b[39m \u001b[38;5;124m\"\u001b[39m\u001b[38;5;124mcannot call `map_groups` when grouping by an expression\u001b[39m\u001b[38;5;124m\"\u001b[39m\n\u001b[0;32m--> 319\u001b[0m     \u001b[38;5;28;01mraise\u001b[39;00m \u001b[38;5;167;01mTypeError\u001b[39;00m(msg)\n\u001b[1;32m    321\u001b[0m \u001b[38;5;28;01mreturn\u001b[39;00m \u001b[38;5;28mself\u001b[39m\u001b[38;5;241m.\u001b[39mdf\u001b[38;5;241m.\u001b[39m\u001b[38;5;18m__class__\u001b[39m\u001b[38;5;241m.\u001b[39m_from_pydf(\n\u001b[1;32m    322\u001b[0m     \u001b[38;5;28mself\u001b[39m\u001b[38;5;241m.\u001b[39mdf\u001b[38;5;241m.\u001b[39m_df\u001b[38;5;241m.\u001b[39mgroup_by_map_groups(\n\u001b[1;32m    323\u001b[0m         \u001b[38;5;28mlist\u001b[39m(\u001b[38;5;28mself\u001b[39m\u001b[38;5;241m.\u001b[39mby), function, \u001b[38;5;28mself\u001b[39m\u001b[38;5;241m.\u001b[39mmaintain_order\n\u001b[1;32m    324\u001b[0m     )\n\u001b[1;32m    325\u001b[0m )\n",
      "\u001b[0;31mTypeError\u001b[0m: cannot call `map_groups` when grouping by an expression"
     ]
    }
   ],
   "source": [
    "from marginaleffects import avg_slopes, comparisons\n",
    "\n",
    "# avg_slopes(model_train_class, variables = \"word_count_sc\")\n",
    "comparisons(model_train_class, variables = {\"word_count_sc\": 'sd'})"
   ]
  }
 ],
 "metadata": {
  "kernelspec": {
   "display_name": "Python 3",
   "language": "python",
   "name": "python3"
  },
  "language_info": {
   "codemirror_mode": {
    "name": "ipython",
    "version": 3
   },
   "file_extension": ".py",
   "mimetype": "text/x-python",
   "name": "python",
   "nbconvert_exporter": "python",
   "pygments_lexer": "ipython3",
   "version": "3.12.1"
  }
 },
 "nbformat": 4,
 "nbformat_minor": 2
}
