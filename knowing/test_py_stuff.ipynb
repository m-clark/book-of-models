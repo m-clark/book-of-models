{
 "cells": [
  {
   "cell_type": "code",
   "execution_count": 1,
   "metadata": {},
   "outputs": [],
   "source": [
    "import pandas as pd\n",
    "import numpy as np\n",
    "\n",
    "from sklearn.model_selection import train_test_split\n",
    "\n",
    "df_reviews = pd.read_csv(\"data/movie_reviews_processed.csv\")\n",
    "\n",
    "training_data, testing_data = train_test_split(\n",
    "    df_reviews, \n",
    "    test_size = 0.25, \n",
    "    random_state = 123\n",
    ")"
   ]
  },
  {
   "cell_type": "code",
   "execution_count": null,
   "metadata": {},
   "outputs": [],
   "source": [
    "#| label: python-regression-model-train\n",
    "import statsmodels.api as sm\n",
    "import statsmodels.formula.api as smf\n",
    "\n",
    "# features = [\"review_year_0\", \"release_year_0\",\n",
    "#   \"age_sc\", \"length_minutes_sc\", \n",
    "#   \"total_reviews_sc\", \"word_count_sc\", \n",
    "#   \"genre\", \"gender\", \n",
    "#   \"reviewer_type\", \"work_status\", \n",
    "#   \"season\"]\n",
    "\n",
    "model_train = smf.ols(\n",
    "    formula = 'rating ~ review_year_0 \\\n",
    "    + release_year_0 \\\n",
    "    + age_sc \\\n",
    "    + length_minutes_sc \\\n",
    "    + total_reviews_sc \\\n",
    "    + word_count_sc \\\n",
    "    + genre'\n",
    "    ,\n",
    "    data = training_data\n",
    ").fit()"
   ]
  }
 ],
 "metadata": {
  "kernelspec": {
   "display_name": "Python 3",
   "language": "python",
   "name": "python3"
  },
  "language_info": {
   "codemirror_mode": {
    "name": "ipython",
    "version": 3
   },
   "file_extension": ".py",
   "mimetype": "text/x-python",
   "name": "python",
   "nbconvert_exporter": "python",
   "pygments_lexer": "ipython3",
   "version": "3.11.3"
  }
 },
 "nbformat": 4,
 "nbformat_minor": 2
}
