{
 "cells": [
  {
   "cell_type": "markdown",
   "metadata": {},
   "source": [
    "## Movie Reviews"
   ]
  },
  {
   "cell_type": "markdown",
   "metadata": {},
   "source": [
    "This demonstrates a model that uses a transformer to embed the text of a movie reviews, uses additional emeddings for categorical features, and finally concats the result with other features through and MLP. The target whether the rating is good or not. The transformer is pretrained on a large corpus of text and then fine-tuned on the movie reviews dataset. A generic form of the architecture is shown below:"
   ]
  },
  {
   "cell_type": "markdown",
   "metadata": {},
   "source": [
    "![](../../../img/torch_frame_architecture.png){width=25%}"
   ]
  },
  {
   "cell_type": "markdown",
   "metadata": {},
   "source": [
    "## Imports"
   ]
  },
  {
   "cell_type": "code",
   "execution_count": 1,
   "metadata": {},
   "outputs": [],
   "source": [
    "import torch\n",
    "import torch.nn.functional as F\n",
    "from torch import Tensor\n",
    "\n",
    "import torch_frame\n",
    "from torch_frame import stype\n",
    "from torch_frame.nn.encoder import (\n",
    "    EmbeddingEncoder,\n",
    "    LinearEmbeddingEncoder,\n",
    "    LinearEncoder,\n",
    ")\n",
    "\n",
    "from torch_frame.data import Dataset\n",
    "from torch_frame.data import DataLoader\n",
    "from torch_frame import torch_frame\n",
    "\n",
    "\n",
    "from typing import Any, Dict, List\n",
    "from tqdm import tqdm\n",
    "import pandas as pd\n",
    "import numpy as np\n",
    "import random"
   ]
  },
  {
   "cell_type": "code",
   "execution_count": 2,
   "metadata": {},
   "outputs": [],
   "source": [
    "# Set random seed for reproducibility\n",
    "def set_seed(seed):\n",
    "    random.seed(seed)\n",
    "    np.random.seed(seed)\n",
    "    torch.manual_seed(seed)\n",
    "    if torch.cuda.is_available():\n",
    "        torch.cuda.manual_seed(seed)\n",
    "        torch.cuda.manual_seed_all(seed)\n",
    "\n",
    "set_seed(42)"
   ]
  },
  {
   "cell_type": "markdown",
   "metadata": {},
   "source": [
    "## Data Setup"
   ]
  },
  {
   "cell_type": "code",
   "execution_count": 3,
   "metadata": {},
   "outputs": [
    {
     "data": {
      "text/html": [
       "<div>\n",
       "<style scoped>\n",
       "    .dataframe tbody tr th:only-of-type {\n",
       "        vertical-align: middle;\n",
       "    }\n",
       "\n",
       "    .dataframe tbody tr th {\n",
       "        vertical-align: top;\n",
       "    }\n",
       "\n",
       "    .dataframe thead th {\n",
       "        text-align: right;\n",
       "    }\n",
       "</style>\n",
       "<table border=\"1\" class=\"dataframe\">\n",
       "  <thead>\n",
       "    <tr style=\"text-align: right;\">\n",
       "      <th></th>\n",
       "      <th>title</th>\n",
       "      <th>review_year</th>\n",
       "      <th>age</th>\n",
       "      <th>children_in_home</th>\n",
       "      <th>education</th>\n",
       "      <th>gender</th>\n",
       "      <th>work_status</th>\n",
       "      <th>genre</th>\n",
       "      <th>release_year</th>\n",
       "      <th>length_minutes</th>\n",
       "      <th>...</th>\n",
       "      <th>rating</th>\n",
       "      <th>review_text</th>\n",
       "      <th>word_count</th>\n",
       "      <th>review_year_0</th>\n",
       "      <th>release_year_0</th>\n",
       "      <th>age_sc</th>\n",
       "      <th>length_minutes_sc</th>\n",
       "      <th>total_reviews_sc</th>\n",
       "      <th>word_count_sc</th>\n",
       "      <th>rating_good</th>\n",
       "    </tr>\n",
       "  </thead>\n",
       "  <tbody>\n",
       "    <tr>\n",
       "      <th>0</th>\n",
       "      <td>Visions of Valor</td>\n",
       "      <td>2019</td>\n",
       "      <td>27</td>\n",
       "      <td>2</td>\n",
       "      <td>Post-Graduate</td>\n",
       "      <td>female</td>\n",
       "      <td>Employed</td>\n",
       "      <td>Action/Adventure</td>\n",
       "      <td>1987</td>\n",
       "      <td>120</td>\n",
       "      <td>...</td>\n",
       "      <td>2.7</td>\n",
       "      <td>I wanted to like this movie, but it was a letd...</td>\n",
       "      <td>21</td>\n",
       "      <td>19</td>\n",
       "      <td>4</td>\n",
       "      <td>-1.090556</td>\n",
       "      <td>-0.086929</td>\n",
       "      <td>-0.827284</td>\n",
       "      <td>2.107438</td>\n",
       "      <td>0</td>\n",
       "    </tr>\n",
       "    <tr>\n",
       "      <th>1</th>\n",
       "      <td>Hilarity Unleashed</td>\n",
       "      <td>2014</td>\n",
       "      <td>43</td>\n",
       "      <td>1</td>\n",
       "      <td>Completed College</td>\n",
       "      <td>female</td>\n",
       "      <td>Employed</td>\n",
       "      <td>Comedy</td>\n",
       "      <td>2019</td>\n",
       "      <td>121</td>\n",
       "      <td>...</td>\n",
       "      <td>4.2</td>\n",
       "      <td>Pure cinematic joy that brought tears to my eyes.</td>\n",
       "      <td>9</td>\n",
       "      <td>14</td>\n",
       "      <td>36</td>\n",
       "      <td>-0.214827</td>\n",
       "      <td>-0.000174</td>\n",
       "      <td>0.940224</td>\n",
       "      <td>-0.259140</td>\n",
       "      <td>1</td>\n",
       "    </tr>\n",
       "    <tr>\n",
       "      <th>2</th>\n",
       "      <td>Soulbound</td>\n",
       "      <td>2019</td>\n",
       "      <td>65</td>\n",
       "      <td>0</td>\n",
       "      <td>Post-Graduate</td>\n",
       "      <td>male</td>\n",
       "      <td>Employed</td>\n",
       "      <td>Drama</td>\n",
       "      <td>2010</td>\n",
       "      <td>131</td>\n",
       "      <td>...</td>\n",
       "      <td>3.7</td>\n",
       "      <td>An emotional rollercoaster that left me in awe...</td>\n",
       "      <td>32</td>\n",
       "      <td>19</td>\n",
       "      <td>27</td>\n",
       "      <td>0.989300</td>\n",
       "      <td>0.867377</td>\n",
       "      <td>-1.164154</td>\n",
       "      <td>4.276801</td>\n",
       "      <td>1</td>\n",
       "    </tr>\n",
       "    <tr>\n",
       "      <th>3</th>\n",
       "      <td>Amour Forever</td>\n",
       "      <td>2011</td>\n",
       "      <td>43</td>\n",
       "      <td>1</td>\n",
       "      <td>Post-Graduate</td>\n",
       "      <td>female</td>\n",
       "      <td>Employed</td>\n",
       "      <td>Romance</td>\n",
       "      <td>2004</td>\n",
       "      <td>134</td>\n",
       "      <td>...</td>\n",
       "      <td>2.7</td>\n",
       "      <td>A movie that failed to live up to its potentia...</td>\n",
       "      <td>11</td>\n",
       "      <td>11</td>\n",
       "      <td>21</td>\n",
       "      <td>-0.214827</td>\n",
       "      <td>1.127643</td>\n",
       "      <td>0.468395</td>\n",
       "      <td>0.135289</td>\n",
       "      <td>0</td>\n",
       "    </tr>\n",
       "    <tr>\n",
       "      <th>4</th>\n",
       "      <td>In Search of Truth</td>\n",
       "      <td>2003</td>\n",
       "      <td>54</td>\n",
       "      <td>1</td>\n",
       "      <td>Completed College</td>\n",
       "      <td>female</td>\n",
       "      <td>Employed</td>\n",
       "      <td>Other</td>\n",
       "      <td>2007</td>\n",
       "      <td>112</td>\n",
       "      <td>...</td>\n",
       "      <td>2.4</td>\n",
       "      <td>A movie that left me uninterested and thorough...</td>\n",
       "      <td>9</td>\n",
       "      <td>3</td>\n",
       "      <td>24</td>\n",
       "      <td>0.387236</td>\n",
       "      <td>-0.780969</td>\n",
       "      <td>0.394044</td>\n",
       "      <td>-0.259140</td>\n",
       "      <td>0</td>\n",
       "    </tr>\n",
       "  </tbody>\n",
       "</table>\n",
       "<p>5 rows × 22 columns</p>\n",
       "</div>"
      ],
      "text/plain": [
       "                title  review_year  age  children_in_home          education  \\\n",
       "0    Visions of Valor         2019   27                 2      Post-Graduate   \n",
       "1  Hilarity Unleashed         2014   43                 1  Completed College   \n",
       "2           Soulbound         2019   65                 0      Post-Graduate   \n",
       "3       Amour Forever         2011   43                 1      Post-Graduate   \n",
       "4  In Search of Truth         2003   54                 1  Completed College   \n",
       "\n",
       "   gender work_status             genre  release_year  length_minutes  ...  \\\n",
       "0  female    Employed  Action/Adventure          1987             120  ...   \n",
       "1  female    Employed            Comedy          2019             121  ...   \n",
       "2    male    Employed             Drama          2010             131  ...   \n",
       "3  female    Employed           Romance          2004             134  ...   \n",
       "4  female    Employed             Other          2007             112  ...   \n",
       "\n",
       "  rating                                        review_text  word_count  \\\n",
       "0    2.7  I wanted to like this movie, but it was a letd...          21   \n",
       "1    4.2  Pure cinematic joy that brought tears to my eyes.           9   \n",
       "2    3.7  An emotional rollercoaster that left me in awe...          32   \n",
       "3    2.7  A movie that failed to live up to its potentia...          11   \n",
       "4    2.4  A movie that left me uninterested and thorough...           9   \n",
       "\n",
       "  review_year_0  release_year_0    age_sc  length_minutes_sc  \\\n",
       "0            19               4 -1.090556          -0.086929   \n",
       "1            14              36 -0.214827          -0.000174   \n",
       "2            19              27  0.989300           0.867377   \n",
       "3            11              21 -0.214827           1.127643   \n",
       "4             3              24  0.387236          -0.780969   \n",
       "\n",
       "   total_reviews_sc  word_count_sc  rating_good  \n",
       "0         -0.827284       2.107438            0  \n",
       "1          0.940224      -0.259140            1  \n",
       "2         -1.164154       4.276801            1  \n",
       "3          0.468395       0.135289            0  \n",
       "4          0.394044      -0.259140            0  \n",
       "\n",
       "[5 rows x 22 columns]"
      ]
     },
     "execution_count": 3,
     "metadata": {},
     "output_type": "execute_result"
    }
   ],
   "source": [
    "df_reviews = pd.read_csv('../../../data/movie_reviews.csv')\n",
    "df_reviews.shape\n",
    "df_reviews.head()"
   ]
  },
  {
   "cell_type": "code",
   "execution_count": 4,
   "metadata": {},
   "outputs": [
    {
     "data": {
      "text/plain": [
       "title                 object\n",
       "review_year            int64\n",
       "age                    int64\n",
       "children_in_home       int64\n",
       "education             object\n",
       "gender                object\n",
       "work_status           object\n",
       "genre                 object\n",
       "release_year           int64\n",
       "length_minutes         int64\n",
       "season                object\n",
       "total_reviews          int64\n",
       "rating               float64\n",
       "review_text           object\n",
       "word_count             int64\n",
       "review_year_0          int64\n",
       "release_year_0         int64\n",
       "age_sc               float64\n",
       "length_minutes_sc    float64\n",
       "total_reviews_sc     float64\n",
       "word_count_sc        float64\n",
       "rating_good            int64\n",
       "dtype: object"
      ]
     },
     "execution_count": 4,
     "metadata": {},
     "output_type": "execute_result"
    }
   ],
   "source": [
    "df_reviews.dtypes"
   ]
  },
  {
   "cell_type": "code",
   "execution_count": 5,
   "metadata": {},
   "outputs": [],
   "source": [
    "df_reviews_model = df_reviews[[\n",
    "    'review_year_0',\n",
    "    'age_sc',\n",
    "    'children_in_home',\n",
    "    'education',\n",
    "    'gender',\n",
    "    'work_status',\n",
    "    'genre',\n",
    "    'release_year_0',\n",
    "    'length_minutes_sc',\n",
    "    'season',\n",
    "    'total_reviews_sc',\n",
    "    'review_text',   \n",
    "    'rating_good'        \n",
    "]]"
   ]
  },
  {
   "cell_type": "code",
   "execution_count": 6,
   "metadata": {},
   "outputs": [
    {
     "name": "stderr",
     "output_type": "stream",
     "text": [
      "/Users/micl/anaconda3/envs/pytorch-tabular/lib/python3.12/site-packages/tqdm/auto.py:21: TqdmWarning: IProgress not found. Please update jupyter and ipywidgets. See https://ipywidgets.readthedocs.io/en/stable/user_install.html\n",
      "  from .autonotebook import tqdm as notebook_tqdm\n"
     ]
    }
   ],
   "source": [
    "from sentence_transformers import SentenceTransformer\n",
    "\n",
    "class TextToEmbedding:\n",
    "    def __init__(self, device: torch.device):\n",
    "        self.model = SentenceTransformer('all-distilroberta-v1', device=device)\n",
    "\n",
    "    def __call__(self, sentences: List[str]) -> Tensor:\n",
    "        # Encode a list of batch_size sentences into a PyTorch Tensor of\n",
    "        # size [batch_size, emb_dim]\n",
    "        embeddings = self.model.encode(\n",
    "            sentences,\n",
    "            convert_to_numpy=False,\n",
    "            convert_to_tensor=True,\n",
    "        )\n",
    "        return embeddings.cpu()"
   ]
  },
  {
   "cell_type": "code",
   "execution_count": 7,
   "metadata": {},
   "outputs": [],
   "source": [
    "from torch_frame.config.text_embedder import TextEmbedderConfig\n",
    "\n",
    "device = torch.device('cuda' if torch.cuda.is_available() else 'mps')\n",
    "\n",
    "col_to_text_embedder_cfg = TextEmbedderConfig(\n",
    "    text_embedder=TextToEmbedding(device),\n",
    "    batch_size=8,\n",
    ")"
   ]
  },
  {
   "cell_type": "code",
   "execution_count": 8,
   "metadata": {},
   "outputs": [
    {
     "data": {
      "text/html": [
       "<div>\n",
       "<style scoped>\n",
       "    .dataframe tbody tr th:only-of-type {\n",
       "        vertical-align: middle;\n",
       "    }\n",
       "\n",
       "    .dataframe tbody tr th {\n",
       "        vertical-align: top;\n",
       "    }\n",
       "\n",
       "    .dataframe thead th {\n",
       "        text-align: right;\n",
       "    }\n",
       "</style>\n",
       "<table border=\"1\" class=\"dataframe\">\n",
       "  <thead>\n",
       "    <tr style=\"text-align: right;\">\n",
       "      <th></th>\n",
       "      <th>review_year_0</th>\n",
       "      <th>age_sc</th>\n",
       "      <th>children_in_home</th>\n",
       "      <th>education</th>\n",
       "      <th>gender</th>\n",
       "      <th>work_status</th>\n",
       "      <th>genre</th>\n",
       "      <th>release_year_0</th>\n",
       "      <th>length_minutes_sc</th>\n",
       "      <th>season</th>\n",
       "      <th>total_reviews_sc</th>\n",
       "      <th>review_text</th>\n",
       "      <th>rating_good</th>\n",
       "    </tr>\n",
       "  </thead>\n",
       "  <tbody>\n",
       "    <tr>\n",
       "      <th>0</th>\n",
       "      <td>numerical</td>\n",
       "      <td>numerical</td>\n",
       "      <td>numerical</td>\n",
       "      <td>categorical</td>\n",
       "      <td>categorical</td>\n",
       "      <td>categorical</td>\n",
       "      <td>categorical</td>\n",
       "      <td>numerical</td>\n",
       "      <td>numerical</td>\n",
       "      <td>categorical</td>\n",
       "      <td>numerical</td>\n",
       "      <td>text_embedded</td>\n",
       "      <td>numerical</td>\n",
       "    </tr>\n",
       "  </tbody>\n",
       "</table>\n",
       "</div>"
      ],
      "text/plain": [
       "  review_year_0     age_sc children_in_home    education       gender  \\\n",
       "0     numerical  numerical        numerical  categorical  categorical   \n",
       "\n",
       "   work_status        genre release_year_0 length_minutes_sc       season  \\\n",
       "0  categorical  categorical      numerical         numerical  categorical   \n",
       "\n",
       "  total_reviews_sc    review_text rating_good  \n",
       "0        numerical  text_embedded   numerical  "
      ]
     },
     "execution_count": 8,
     "metadata": {},
     "output_type": "execute_result"
    }
   ],
   "source": [
    "# Specify the stype of each column with a dictionary.\n",
    "col_to_stype = {}\n",
    "\n",
    "for column in df_reviews_model.columns:\n",
    "    if df_reviews_model[column].dtype == 'object':\n",
    "        col_to_stype[column] = torch_frame.categorical\n",
    "    else:\n",
    "        col_to_stype[column] = torch_frame.numerical\n",
    "    if column == 'review_text':\n",
    "        col_to_stype[column] = torch_frame.text_embedded\n",
    "\n",
    "pd.DataFrame(col_to_stype, index=[0])"
   ]
  },
  {
   "cell_type": "code",
   "execution_count": 9,
   "metadata": {},
   "outputs": [
    {
     "name": "stderr",
     "output_type": "stream",
     "text": [
      "Embedding raw data in mini-batch: 100%|██████████| 125/125 [00:06<00:00, 20.44it/s]\n"
     ]
    }
   ],
   "source": [
    "# Set \"y\" as the target column.\n",
    "dataset = Dataset(\n",
    "    df_reviews_model, \n",
    "    col_to_stype=col_to_stype, \n",
    "    col_to_text_embedder_cfg=col_to_text_embedder_cfg,\n",
    "    target_col=\"rating_good\"\n",
    ")\n",
    "dataset.materialize() # call after Dataset is used\n",
    "\n",
    "dataset.shuffle()\n",
    "train_dataset, test_dataset = dataset[:0.75], dataset[0.75:]\n",
    "\n",
    "train_loader = DataLoader(train_dataset.tensor_frame, batch_size=64, shuffle=True)\n",
    "test_loader  = DataLoader(test_dataset.tensor_frame, batch_size=64)"
   ]
  },
  {
   "cell_type": "markdown",
   "metadata": {},
   "source": [
    "## Model Setup"
   ]
  },
  {
   "cell_type": "code",
   "execution_count": 10,
   "metadata": {},
   "outputs": [],
   "source": [
    "encoder_dict = {\n",
    "    stype.categorical: EmbeddingEncoder(),\n",
    "    stype.numerical: LinearEncoder(),\n",
    "    stype.embedding: LinearEmbeddingEncoder()\n",
    "}"
   ]
  },
  {
   "cell_type": "code",
   "execution_count": 11,
   "metadata": {},
   "outputs": [],
   "source": [
    "from torch_frame.nn import FTTransformer, Trompt\n",
    "\n",
    "model = FTTransformer(\n",
    "    channels=8,\n",
    "    out_channels=2,\n",
    "    num_layers=4,\n",
    "    # num_prompts = 2,\n",
    "    stype_encoder_dict= encoder_dict,\n",
    "    col_stats=train_dataset.col_stats,\n",
    "    col_names_dict=train_dataset.tensor_frame.col_names_dict,\n",
    ").to(device)\n",
    "\n",
    "optimizer = torch.optim.NAdam(model.parameters())\n"
   ]
  },
  {
   "cell_type": "markdown",
   "metadata": {},
   "source": [
    "## Model Training and Evaluation"
   ]
  },
  {
   "cell_type": "code",
   "execution_count": 12,
   "metadata": {},
   "outputs": [
    {
     "name": "stderr",
     "output_type": "stream",
     "text": [
      "                                                                      \r"
     ]
    }
   ],
   "source": [
    "losses = []\n",
    "\n",
    "for epoch in range(100):\n",
    "    progress_bar = tqdm(train_loader, desc=f'Epoch {epoch}', leave=False)\n",
    "    for tf in progress_bar:\n",
    "        tf = tf.to(device)\n",
    "        pred = model(tf)\n",
    "        loss = F.cross_entropy(pred, tf.y)\n",
    "        optimizer.zero_grad()\n",
    "        loss.backward()\n",
    "        optimizer.step()\n",
    "        progress_bar.set_postfix({'Loss': loss.item()})\n",
    "    \n",
    "    losses.append(loss.item())"
   ]
  },
  {
   "cell_type": "code",
   "execution_count": 13,
   "metadata": {},
   "outputs": [
    {
     "data": {
      "image/png": "[encoded data removed]",
      "text/plain": [
       "<Figure size 640x480 with 1 Axes>"
      ]
     },
     "metadata": {},
     "output_type": "display_data"
    }
   ],
   "source": [
    "import matplotlib.pyplot as plt\n",
    "\n",
    "# Plot the loss values\n",
    "plt.plot(losses)\n",
    "plt.xlabel('Epoch')\n",
    "plt.ylabel('Loss')\n",
    "plt.title('Loss per Epoch')\n",
    "plt.show()"
   ]
  },
  {
   "cell_type": "code",
   "execution_count": 14,
   "metadata": {},
   "outputs": [
    {
     "name": "stdout",
     "output_type": "stream",
     "text": [
      "Accuracy: 0.8680; Guessing: 0.5560\n"
     ]
    }
   ],
   "source": [
    "correct = 0\n",
    "for tf in test_loader:\n",
    "    tf = tf.to(device)\n",
    "    pred = model(tf)\n",
    "    pred_class = pred.argmax(dim=-1)\n",
    "    correct += (tf.y == pred_class).sum()\n",
    "\n",
    "acc = int(correct) / len(test_dataset)\n",
    "\n",
    "print(f'Accuracy: {acc:.4f}; Guessing: {(test_dataset.df['rating_good']==1).mean():.4f}')"
   ]
  },
  {
   "cell_type": "code",
   "execution_count": null,
   "metadata": {},
   "outputs": [],
   "source": []
  }
 ],
 "metadata": {
  "kernelspec": {
   "display_name": "pytorch-tabular",
   "language": "python",
   "name": "python3"
  },
  "language_info": {
   "codemirror_mode": {
    "name": "ipython",
    "version": 3
   },
   "file_extension": ".py",
   "mimetype": "text/x-python",
   "name": "python",
   "nbconvert_exporter": "python",
   "pygments_lexer": "ipython3",
   "version": "3.12.3"
  }
 },
 "nbformat": 4,
 "nbformat_minor": 2
}
