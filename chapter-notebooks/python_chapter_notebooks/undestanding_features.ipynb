{
 "cells": [
  {
   "cell_type": "code",
   "execution_count": 1,
   "metadata": {},
   "outputs": [],
   "source": [
    "import pandas as pd\n",
    "import numpy as np\n",
    "\n",
    "from sklearn.model_selection import train_test_split\n",
    "from sklearn.metrics import r2_score, mean_squared_error, root_mean_squared_error, mean_absolute_error, mean_absolute_percentage_error, confusion_matrix, roc_curve, auc, RocCurveDisplay\n",
    "\n",
    "import statsmodels.api as sm\n",
    "import statsmodels.formula.api as smf\n",
    "\n",
    "from pycm import ConfusionMatrix"
   ]
  },
  {
   "cell_type": "code",
   "execution_count": 2,
   "metadata": {},
   "outputs": [],
   "source": [
    "# all data found on github repo\n",
    "df_reviews = pd.read_csv('https://tinyurl.com/moviereviewsdata')\n",
    "\n",
    "df_train, df_test = train_test_split(\n",
    "    df_reviews, \n",
    "    test_size = 0.25, \n",
    "    random_state = 123\n",
    ")"
   ]
  },
  {
   "cell_type": "markdown",
   "metadata": {},
   "source": [
    "## Regression Metrics"
   ]
  },
  {
   "cell_type": "code",
   "execution_count": 3,
   "metadata": {},
   "outputs": [],
   "source": [
    "# we'll use 'features' later also\n",
    "features = [\n",
    "    \"review_year_0\", \n",
    "    \"release_year_0\",\n",
    "    \"age_sc\", \n",
    "    \"length_minutes_sc\", \n",
    "    \"total_reviews_sc\", \n",
    "    \"word_count_sc\", \n",
    "    \"genre\", \n",
    "    ]\n",
    "\n",
    "model =  'rating ~ ' + \" + \".join(features)\n",
    "\n",
    "model_lr_train = smf.ols(formula = model, data = df_train).fit()"
   ]
  },
  {
   "cell_type": "code",
   "execution_count": 4,
   "metadata": {},
   "outputs": [],
   "source": [
    "model =  'rating_good ~ ' + \" + \".join(features)\n",
    "\n",
    "model_class_train = smf.glm(\n",
    "    formula = model,\n",
    "    data = df_train,\n",
    "    family = sm.families.Binomial()\n",
    ").fit()"
   ]
  },
  {
   "cell_type": "markdown",
   "metadata": {},
   "source": [
    "## Understanding The Features"
   ]
  },
  {
   "cell_type": "markdown",
   "metadata": {},
   "source": [
    "### Average marginal effects"
   ]
  },
  {
   "cell_type": "code",
   "execution_count": 5,
   "metadata": {},
   "outputs": [
    {
     "data": {
      "text/plain": [
       "-0.09447284318194568"
      ]
     },
     "execution_count": 5,
     "metadata": {},
     "output_type": "execute_result"
    }
   ],
   "source": [
    "fudge_factor = 1e-3\n",
    "\n",
    "fudge_plus = model_class_train.predict(\n",
    "    df_train.assign(\n",
    "        word_count_sc = df_train.word_count_sc + fudge_factor/2\n",
    "    )\n",
    ")\n",
    "\n",
    "fudge_minus = model_class_train.predict(\n",
    "    df_train.assign(\n",
    "        word_count_sc = df_train.word_count_sc - fudge_factor/2\n",
    "    )\n",
    ")\n",
    "\n",
    "marginal_effect = np.mean(fudge_plus - fudge_minus) / fudge_factor\n",
    "\n",
    "marginal_effect"
   ]
  },
  {
   "cell_type": "markdown",
   "metadata": {},
   "source": [
    "### Marginal means"
   ]
  },
  {
   "cell_type": "code",
   "execution_count": 6,
   "metadata": {},
   "outputs": [
    {
     "data": {
      "text/html": [
       "<div>\n",
       "<style scoped>\n",
       "    .dataframe tbody tr th:only-of-type {\n",
       "        vertical-align: middle;\n",
       "    }\n",
       "\n",
       "    .dataframe tbody tr th {\n",
       "        vertical-align: top;\n",
       "    }\n",
       "\n",
       "    .dataframe thead th {\n",
       "        text-align: right;\n",
       "    }\n",
       "</style>\n",
       "<table border=\"1\" class=\"dataframe\">\n",
       "  <thead>\n",
       "    <tr style=\"text-align: right;\">\n",
       "      <th></th>\n",
       "      <th>genre</th>\n",
       "      <th>avg_pred</th>\n",
       "    </tr>\n",
       "  </thead>\n",
       "  <tbody>\n",
       "    <tr>\n",
       "      <th>0</th>\n",
       "      <td>Romance</td>\n",
       "      <td>2.864043</td>\n",
       "    </tr>\n",
       "    <tr>\n",
       "      <th>1</th>\n",
       "      <td>Other</td>\n",
       "      <td>2.847952</td>\n",
       "    </tr>\n",
       "    <tr>\n",
       "      <th>2</th>\n",
       "      <td>Sci-Fi</td>\n",
       "      <td>2.823101</td>\n",
       "    </tr>\n",
       "    <tr>\n",
       "      <th>3</th>\n",
       "      <td>Drama</td>\n",
       "      <td>3.405924</td>\n",
       "    </tr>\n",
       "    <tr>\n",
       "      <th>4</th>\n",
       "      <td>Horror</td>\n",
       "      <td>2.847344</td>\n",
       "    </tr>\n",
       "    <tr>\n",
       "      <th>5</th>\n",
       "      <td>Action/Adventure</td>\n",
       "      <td>2.840424</td>\n",
       "    </tr>\n",
       "    <tr>\n",
       "      <th>6</th>\n",
       "      <td>Kids</td>\n",
       "      <td>2.803119</td>\n",
       "    </tr>\n",
       "    <tr>\n",
       "      <th>7</th>\n",
       "      <td>Comedy</td>\n",
       "      <td>3.360565</td>\n",
       "    </tr>\n",
       "  </tbody>\n",
       "</table>\n",
       "</div>"
      ],
      "text/plain": [
       "              genre  avg_pred\n",
       "0           Romance  2.864043\n",
       "1             Other  2.847952\n",
       "2            Sci-Fi  2.823101\n",
       "3             Drama  3.405924\n",
       "4            Horror  2.847344\n",
       "5  Action/Adventure  2.840424\n",
       "6              Kids  2.803119\n",
       "7            Comedy  3.360565"
      ]
     },
     "execution_count": 6,
     "metadata": {},
     "output_type": "execute_result"
    }
   ],
   "source": [
    "marginal_means = pd.DataFrame({\n",
    "    \"genre\": df_train.genre.unique(),\n",
    "    \"avg_pred\": [\n",
    "        model_lr_train.predict(\n",
    "            df_train.assign(genre = g)\n",
    "        ).mean()\n",
    "        for g in df_train.genre.unique()\n",
    "    ]\n",
    "})\n",
    "\n",
    "marginal_means"
   ]
  },
  {
   "cell_type": "markdown",
   "metadata": {},
   "source": [
    "### Counterfactual Predictions"
   ]
  },
  {
   "cell_type": "code",
   "execution_count": 7,
   "metadata": {},
   "outputs": [
    {
     "data": {
      "text/html": [
       "<div>\n",
       "<style scoped>\n",
       "    .dataframe tbody tr th:only-of-type {\n",
       "        vertical-align: middle;\n",
       "    }\n",
       "\n",
       "    .dataframe tbody tr th {\n",
       "        vertical-align: top;\n",
       "    }\n",
       "\n",
       "    .dataframe thead th {\n",
       "        text-align: right;\n",
       "    }\n",
       "</style>\n",
       "<table border=\"1\" class=\"dataframe\">\n",
       "  <thead>\n",
       "    <tr style=\"text-align: right;\">\n",
       "      <th></th>\n",
       "      <th>country</th>\n",
       "      <th>base_predictions</th>\n",
       "      <th>switch_predictions</th>\n",
       "      <th>diff_in_happiness</th>\n",
       "    </tr>\n",
       "  </thead>\n",
       "  <tbody>\n",
       "    <tr>\n",
       "      <th>85</th>\n",
       "      <td>Russia</td>\n",
       "      <td>5.676</td>\n",
       "      <td>6.374</td>\n",
       "      <td>0.698</td>\n",
       "    </tr>\n",
       "    <tr>\n",
       "      <th>106</th>\n",
       "      <td>USA</td>\n",
       "      <td>6.798</td>\n",
       "      <td>6.100</td>\n",
       "      <td>-0.698</td>\n",
       "    </tr>\n",
       "  </tbody>\n",
       "</table>\n",
       "</div>"
      ],
      "text/plain": [
       "    country  base_predictions  switch_predictions  diff_in_happiness\n",
       "85   Russia             5.676               6.374              0.698\n",
       "106     USA             6.798               6.100             -0.698"
      ]
     },
     "execution_count": 7,
     "metadata": {},
     "output_type": "execute_result"
    }
   ],
   "source": [
    "df_happiness_2018 = pd.read_csv('https://tinyurl.com/527pbc4v')\n",
    "\n",
    "model_happiness = smf.ols(\n",
    "    formula = 'happiness_score ~ \\\n",
    "        log_gdp_per_capita \\\n",
    "        + healthy_life_expectancy_at_birth \\\n",
    "        + generosity \\\n",
    "        + freedom_to_make_life_choices \\\n",
    "        + confidence_in_national_government',\n",
    "    data = df_happiness_2018\n",
    ").fit()\n",
    "\n",
    "df_us_russia = df_happiness_2018[\n",
    "        df_happiness_2018.country.isin(['United States', 'Russia'])\n",
    "    ]\n",
    "\n",
    "happiness_gdp_freedom_values = df_happiness_2018.loc[\n",
    "    df_happiness_2018.country.isin(['United States', 'Russia']),\n",
    "    ['log_gdp_per_capita', 'freedom_to_make_life_choices']\n",
    "]\n",
    "\n",
    "base_predictions = model_happiness.predict(df_us_russia)\n",
    "\n",
    "# switch up their GDP and freedom!\n",
    "df_switch = df_us_russia.copy()\n",
    "\n",
    "df_switch[['log_gdp_per_capita', 'freedom_to_make_life_choices']] = (\n",
    "    df_switch[['log_gdp_per_capita', 'freedom_to_make_life_choices']].values[::-1]\n",
    ")    \n",
    "\n",
    "switch_predictions = model_happiness.predict(df_switch)\n",
    "\n",
    "pd.DataFrame({\n",
    "    'country': ['Russia', 'USA'],\n",
    "    'base_predictions': base_predictions,\n",
    "    'switch_predictions': switch_predictions,\n",
    "    'diff_in_happiness': switch_predictions - base_predictions\n",
    "}).round(3)"
   ]
  },
  {
   "cell_type": "markdown",
   "metadata": {},
   "source": [
    "### SHAP Values"
   ]
  },
  {
   "cell_type": "markdown",
   "metadata": {},
   "source": [
    "Redo previous model using raw scale data."
   ]
  },
  {
   "cell_type": "code",
   "execution_count": 8,
   "metadata": {},
   "outputs": [],
   "source": [
    "model_lr_3feat = smf.ols(\n",
    "    formula = 'rating ~ \\\n",
    "    age \\\n",
    "    + release_year \\\n",
    "    + length_minutes',\n",
    "    data = df_reviews\n",
    ").fit()"
   ]
  },
  {
   "cell_type": "code",
   "execution_count": 9,
   "metadata": {},
   "outputs": [],
   "source": [
    "# first we need to get the average prediction\n",
    "avg_pred = model_lr_3feat.predict(df_reviews).mean()\n",
    "\n",
    "# observation of interest we want shap values for\n",
    "obs_of_interest = pd.DataFrame({\n",
    "    'age': 30,\n",
    "    'release_year': 2020,\n",
    "    'length_minutes': 110\n",
    "}, index = ['new_observation'])\n",
    "\n",
    "# then we need to get the prediction for the feature value of interest\n",
    "# for all observations, and average them\n",
    "pred_age_30 = model_lr_3feat.predict(\n",
    "    df_reviews.assign(\n",
    "        age = obs_of_interest.loc['new_observation', 'age']\n",
    "    )\n",
    ")\n",
    "\n",
    "pred_year_2022 = model_lr_3feat.predict(\n",
    "    df_reviews.assign(\n",
    "        release_year = obs_of_interest.loc['new_observation', 'release_year']\n",
    "    )\n",
    ")\n",
    "\n",
    "pred_length_110 = model_lr_3feat.predict(\n",
    "    df_reviews.assign(\n",
    "        length_minutes = obs_of_interest.loc['new_observation', 'length_minutes']\n",
    "    )\n",
    ")\n",
    "\n",
    "# then we can calculate the shap values\n",
    "shap_value_ours = pd.DataFrame({\n",
    "    'age': pred_age_30.mean() - avg_pred,\n",
    "    'release_year': pred_year_2022.mean() - avg_pred,\n",
    "    'length_minutes': pred_length_110.mean() - avg_pred\n",
    "}, index = ['new_observation'])\n"
   ]
  },
  {
   "cell_type": "code",
   "execution_count": 10,
   "metadata": {},
   "outputs": [
    {
     "data": {
      "text/html": [
       "<div>\n",
       "<style scoped>\n",
       "    .dataframe tbody tr th:only-of-type {\n",
       "        vertical-align: middle;\n",
       "    }\n",
       "\n",
       "    .dataframe tbody tr th {\n",
       "        vertical-align: top;\n",
       "    }\n",
       "\n",
       "    .dataframe thead th {\n",
       "        text-align: right;\n",
       "    }\n",
       "</style>\n",
       "<table border=\"1\" class=\"dataframe\">\n",
       "  <thead>\n",
       "    <tr style=\"text-align: right;\">\n",
       "      <th></th>\n",
       "      <th>age</th>\n",
       "      <th>release_year</th>\n",
       "      <th>length_minutes</th>\n",
       "    </tr>\n",
       "  </thead>\n",
       "  <tbody>\n",
       "    <tr>\n",
       "      <th>new_observation</th>\n",
       "      <td>0.063</td>\n",
       "      <td>0.206</td>\n",
       "      <td>-0.141</td>\n",
       "    </tr>\n",
       "    <tr>\n",
       "      <th>new_observation</th>\n",
       "      <td>0.063</td>\n",
       "      <td>0.206</td>\n",
       "      <td>-0.141</td>\n",
       "    </tr>\n",
       "  </tbody>\n",
       "</table>\n",
       "</div>"
      ],
      "text/plain": [
       "                   age  release_year  length_minutes\n",
       "new_observation  0.063         0.206          -0.141\n",
       "new_observation  0.063         0.206          -0.141"
      ]
     },
     "execution_count": 10,
     "metadata": {},
     "output_type": "execute_result"
    }
   ],
   "source": [
    "\n",
    "# now use the shap package for this; it does not work with statsmodels though,\n",
    "# and single feature models are a bit cumbersome, \n",
    "# but we still get there in the end!\n",
    "import shap\n",
    "from sklearn.linear_model import LinearRegression\n",
    "\n",
    "# set data up for shap and sklearn\n",
    "fnames = [\n",
    "    'age', \n",
    "    'release_year', \n",
    "    'length_minutes'\n",
    "]\n",
    "\n",
    "X = df_reviews[fnames]\n",
    "y = df_reviews['rating']\n",
    "\n",
    "# use a linear model that works with shap\n",
    "model_reviews = LinearRegression().fit(X, y)\n",
    "\n",
    "# 1000 instances for use as the 'background distribution'\n",
    "X_sample = shap.maskers.Independent(data = X, max_samples = 1000)  \n",
    "\n",
    "# # compute the SHAP values for the linear model\n",
    "explainer = shap.Explainer(\n",
    "    model_reviews.predict, \n",
    "    X_sample   \n",
    ")\n",
    "\n",
    "shap_values = explainer(obs_of_interest)\n",
    "\n",
    "shap_value_package = pd.DataFrame(\n",
    "    shap_values.values[0, :], \n",
    "    index = fnames, \n",
    "    columns = ['new_observation']\n",
    ").T\n",
    "\n",
    "pd.concat([shap_value_ours, shap_value_package]).round(3)"
   ]
  },
  {
   "cell_type": "markdown",
   "metadata": {},
   "source": [
    "### Global assessment of feature importance"
   ]
  },
  {
   "cell_type": "code",
   "execution_count": 11,
   "metadata": {},
   "outputs": [],
   "source": [
    "model_importance = smf.ols(\n",
    "    formula = 'rating ~ \\\n",
    "        word_count \\\n",
    "        + age \\\n",
    "        + review_year \\\n",
    "        + release_year \\\n",
    "        + length_minutes \\\n",
    "        + children_in_home \\\n",
    "        + total_reviews',\n",
    "    data = df_reviews\n",
    ").fit()"
   ]
  },
  {
   "cell_type": "code",
   "execution_count": 12,
   "metadata": {},
   "outputs": [
    {
     "data": {
      "text/plain": [
       "<Axes: >"
      ]
     },
     "execution_count": 12,
     "metadata": {},
     "output_type": "execute_result"
    },
    {
     "data": {
      "image/png": "[encoded data removed]",
      "text/plain": [
       "<Figure size 640x480 with 1 Axes>"
      ]
     },
     "metadata": {},
     "output_type": "display_data"
    }
   ],
   "source": [
    "\n",
    "from sklearn.linear_model import LinearRegression\n",
    "from sklearn.inspection import permutation_importance\n",
    "import pandas as pd\n",
    "\n",
    "y = df_reviews['rating']\n",
    "X = df_reviews[['word_count', 'age', 'review_year', 'release_year', 'length_minutes', 'children_in_home', 'total_reviews']]\n",
    "model = LinearRegression().fit(X, y)\n",
    "\n",
    "importance = permutation_importance(model, X, y, n_repeats=30, random_state=0)\n",
    "\n",
    "(\n",
    "    pd.DataFrame(\n",
    "        importance.importances_mean, \n",
    "        index=X.columns\n",
    "    )\n",
    "    .sort_values(by=0, ascending=False)\n",
    "    .plot(kind='bar')\n",
    ")"
   ]
  }
 ],
 "metadata": {
  "kernelspec": {
   "display_name": "book-of-models",
   "language": "python",
   "name": "python3"
  },
  "language_info": {
   "codemirror_mode": {
    "name": "ipython",
    "version": 3
   },
   "file_extension": ".py",
   "mimetype": "text/x-python",
   "name": "python",
   "nbconvert_exporter": "python",
   "pygments_lexer": "ipython3",
   "version": "3.12.1"
  }
 },
 "nbformat": 4,
 "nbformat_minor": 2
}
