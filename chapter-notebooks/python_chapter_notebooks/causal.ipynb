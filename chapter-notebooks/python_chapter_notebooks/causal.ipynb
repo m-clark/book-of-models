{
 "cells": [
  {
   "cell_type": "markdown",
   "metadata": {},
   "source": [
    "## Causal Modeling"
   ]
  },
  {
   "cell_type": "code",
   "execution_count": 2,
   "metadata": {},
   "outputs": [],
   "source": [
    "from numpy.random import normal as rnorm\n",
    "import numpy as np\n",
    "import pandas as pd\n",
    "import statsmodels.api as sm\n",
    "\n"
   ]
  },
  {
   "cell_type": "markdown",
   "metadata": {},
   "source": [
    "### Confounding Demo"
   ]
  },
  {
   "cell_type": "code",
   "execution_count": 11,
   "metadata": {},
   "outputs": [
    {
     "data": {
      "text/html": [
       "<div>\n",
       "<style scoped>\n",
       "    .dataframe tbody tr th:only-of-type {\n",
       "        vertical-align: middle;\n",
       "    }\n",
       "\n",
       "    .dataframe tbody tr th {\n",
       "        vertical-align: top;\n",
       "    }\n",
       "\n",
       "    .dataframe thead th {\n",
       "        text-align: right;\n",
       "    }\n",
       "</style>\n",
       "<table border=\"1\" class=\"dataframe\">\n",
       "  <thead>\n",
       "    <tr style=\"text-align: right;\">\n",
       "      <th></th>\n",
       "      <th>true</th>\n",
       "      <th>estimate_1</th>\n",
       "      <th>estimate_2</th>\n",
       "    </tr>\n",
       "  </thead>\n",
       "  <tbody>\n",
       "    <tr>\n",
       "      <th>X</th>\n",
       "      <td>1</td>\n",
       "      <td>1.4</td>\n",
       "      <td>1.0</td>\n",
       "    </tr>\n",
       "  </tbody>\n",
       "</table>\n",
       "</div>"
      ],
      "text/plain": [
       "   true  estimate_1  estimate_2\n",
       "X     1         1.4         1.0"
      ]
     },
     "execution_count": 11,
     "metadata": {},
     "output_type": "execute_result"
    }
   ],
   "source": [
    "def get_coefs(n = 100, true = 1):\n",
    "    U = rnorm(size=n)                 # Unmeasured confounder\n",
    "    X = 0.5 * U + rnorm(size=n)       # Treatment influenced by U\n",
    "    Y = true * X + U + rnorm(size=n)  # Outcome influenced by X and U\n",
    "\n",
    "    data = pd.DataFrame({'X': X, 'U': U, 'Y': Y})\n",
    "\n",
    "    # Fit a linear regression model with and \n",
    "    # without adjusting for the unmeasured confounder\n",
    "    model = sm.OLS(data['Y'], sm.add_constant(data['X'])).fit()\n",
    "    model2 = sm.OLS(data['Y'], sm.add_constant(data[['X', 'U']])).fit()\n",
    "    return model.params['X'], model2.params['X']\n",
    "\n",
    "def simulate_confounding(nreps = 100, n = 100, true=1):\n",
    "    results = []\n",
    "    for _ in range(nreps):\n",
    "        results.append(get_coefs(n, true))\n",
    "\n",
    "    results = np.mean(results, axis=0)\n",
    "\n",
    "    return pd.DataFrame({\n",
    "        'true': true,\n",
    "        'estimate_1': results[0],\n",
    "        'estimate_2': results[1],        \n",
    "    }, index=['X']).round(3)\n",
    "        \n",
    "        \n",
    "simulate_confounding(n=1000, nreps=500)"
   ]
  },
  {
   "cell_type": "markdown",
   "metadata": {},
   "source": [
    "## Guided Exploration"
   ]
  },
  {
   "cell_type": "code",
   "execution_count": 9,
   "metadata": {},
   "outputs": [
    {
     "data": {
      "text/html": [
       "<div>\n",
       "<style scoped>\n",
       "    .dataframe tbody tr th:only-of-type {\n",
       "        vertical-align: middle;\n",
       "    }\n",
       "\n",
       "    .dataframe tbody tr th {\n",
       "        vertical-align: top;\n",
       "    }\n",
       "\n",
       "    .dataframe thead th {\n",
       "        text-align: right;\n",
       "    }\n",
       "</style>\n",
       "<table border=\"1\" class=\"dataframe\">\n",
       "  <thead>\n",
       "    <tr style=\"text-align: right;\">\n",
       "      <th></th>\n",
       "      <th>estimate_1</th>\n",
       "      <th>estimate_2</th>\n",
       "    </tr>\n",
       "  </thead>\n",
       "  <tbody>\n",
       "    <tr>\n",
       "      <th>x</th>\n",
       "      <td>-0.011</td>\n",
       "      <td>-0.495</td>\n",
       "    </tr>\n",
       "  </tbody>\n",
       "</table>\n",
       "</div>"
      ],
      "text/plain": [
       "   estimate_1  estimate_2\n",
       "x      -0.011      -0.495"
      ]
     },
     "execution_count": 9,
     "metadata": {},
     "output_type": "execute_result"
    }
   ],
   "source": [
    "import numpy as np\n",
    "import pandas as pd\n",
    "from sklearn.linear_model import LinearRegression\n",
    "\n",
    "# Set seed for reproducibility\n",
    "np.random.seed(42)\n",
    "\n",
    "# Generate synthetic data\n",
    "n = 2500\n",
    "x = np.random.normal(size=n)          # the feature\n",
    "y = np.random.normal(size=n)          # the target (no relation to x)\n",
    "z = x + y + np.random.normal(size=n)  # the collider\n",
    "\n",
    "data = pd.DataFrame({'x': x, 'y': y, 'z': z})\n",
    "\n",
    "# Fit linear models\n",
    "model_without_z = LinearRegression().fit(data[['x']], data['y'])\n",
    "model_with_z = LinearRegression().fit(data[['x', 'z']], data['y'])\n",
    "\n",
    "# Compare x coefficients\n",
    "pd.DataFrame({\n",
    "    'estimate_1': model_without_z.coef_[0],\n",
    "    'estimate_2': model_with_z.coef_[0]\n",
    "}, index=['x']).round(3)"
   ]
  }
 ],
 "metadata": {
  "kernelspec": {
   "display_name": "book-of-models",
   "language": "python",
   "name": "python3"
  },
  "language_info": {
   "codemirror_mode": {
    "name": "ipython",
    "version": 3
   },
   "file_extension": ".py",
   "mimetype": "text/x-python",
   "name": "python",
   "nbconvert_exporter": "python",
   "pygments_lexer": "ipython3",
   "version": "3.12.1"
  }
 },
 "nbformat": 4,
 "nbformat_minor": 2
}
