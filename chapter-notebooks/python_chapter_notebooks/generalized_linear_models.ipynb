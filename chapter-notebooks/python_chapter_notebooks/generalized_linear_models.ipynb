{
 "cells": [
  {
   "cell_type": "markdown",
   "metadata": {},
   "source": [
    "# Generalized Linear Models"
   ]
  },
  {
   "cell_type": "code",
   "execution_count": 1,
   "metadata": {},
   "outputs": [],
   "source": [
    "import pandas as pd\n",
    "import numpy as np\n",
    "\n",
    "import statsmodels.api as sm\n",
    "import statsmodels.formula.api as smf\n",
    "\n",
    "from scipy.optimize import minimize\n",
    "from scipy.stats import poisson, binom"
   ]
  },
  {
   "cell_type": "markdown",
   "metadata": {},
   "source": [
    "## Logistic Regression"
   ]
  },
  {
   "cell_type": "markdown",
   "metadata": {},
   "source": [
    "### The Binoial Distribution"
   ]
  },
  {
   "cell_type": "code",
   "execution_count": 2,
   "metadata": {},
   "outputs": [
    {
     "data": {
      "text/plain": [
       "array([0, 1, 1, 1, 1, 1])"
      ]
     },
     "execution_count": 2,
     "metadata": {},
     "output_type": "execute_result"
    }
   ],
   "source": [
    "np.random.seed(123)\n",
    "\n",
    "# produces a count whose mean is n*p\n",
    "np.random.binomial(n = 100, p = .75, size = 6)\n",
    "\n",
    "# produces a binary 0, 1 as seen in logistic regression target (with mean p)\n",
    "np.random.binomial(n = 1, p = .75, size = 6) "
   ]
  },
  {
   "cell_type": "markdown",
   "metadata": {},
   "source": [
    "### Odds Ratios"
   ]
  },
  {
   "cell_type": "code",
   "execution_count": null,
   "metadata": {},
   "outputs": [],
   "source": [
    "def calculate_odds_ratio(p_1, p_2):\n",
    "    odds_1 = p_1 / (1 - p_1)\n",
    "    odds_2 = p_2 / (1 - p_2)\n",
    "    odds_ratio = odds_2 / odds_1\n",
    "    \n",
    "    return pd.DataFrame({\n",
    "        'value': ['1', '2'],\n",
    "        'p': [p_1, p_2],\n",
    "        'odds': [odds_1, odds_2],\n",
    "        'log_odds': [np.log(odds_1), np.log(odds_2)],\n",
    "        'odds_ratio': [np.nan, odds_ratio]\n",
    "    })\n",
    "\n",
    "result_A = calculate_odds_ratio(.5, .6)\n",
    "result_B = calculate_odds_ratio(.1, .2)  \n",
    "result_C = calculate_odds_ratio(.9, .8)  # inverse of the .1, .2 example\n",
    "\n",
    "result_A"
   ]
  },
  {
   "cell_type": "markdown",
   "metadata": {},
   "source": [
    "### Logistic Regression Model"
   ]
  },
  {
   "cell_type": "code",
   "execution_count": 4,
   "metadata": {},
   "outputs": [],
   "source": [
    "df_reviews = pd.read_csv('https://tinyurl.com/moviereviewsraw')\n",
    "\n",
    "# for the by-hand option later\n",
    "X = (\n",
    "    df_reviews[['word_count', 'gender']]\n",
    "    .rename(columns = {'gender': 'male'})\n",
    "    .assign(male = np.where(df_reviews[['gender']] == 'male', 1, 0))\n",
    ")\n",
    "\n",
    "y = df_reviews['rating_good']"
   ]
  },
  {
   "cell_type": "code",
   "execution_count": 5,
   "metadata": {},
   "outputs": [
    {
     "data": {
      "text/html": [
       "<table class=\"simpletable\">\n",
       "<caption>Generalized Linear Model Regression Results</caption>\n",
       "<tr>\n",
       "  <th>Dep. Variable:</th>      <td>rating_good</td>   <th>  No. Observations:  </th>  <td>  1000</td> \n",
       "</tr>\n",
       "<tr>\n",
       "  <th>Model:</th>                  <td>GLM</td>       <th>  Df Residuals:      </th>  <td>   997</td> \n",
       "</tr>\n",
       "<tr>\n",
       "  <th>Model Family:</th>        <td>Binomial</td>     <th>  Df Model:          </th>  <td>     2</td> \n",
       "</tr>\n",
       "<tr>\n",
       "  <th>Link Function:</th>         <td>Logit</td>      <th>  Scale:             </th> <td>  1.0000</td>\n",
       "</tr>\n",
       "<tr>\n",
       "  <th>Method:</th>                <td>IRLS</td>       <th>  Log-Likelihood:    </th> <td> -628.70</td>\n",
       "</tr>\n",
       "<tr>\n",
       "  <th>Date:</th>            <td>Mon, 14 Oct 2024</td> <th>  Deviance:          </th> <td>  1257.4</td>\n",
       "</tr>\n",
       "<tr>\n",
       "  <th>Time:</th>                <td>16:16:34</td>     <th>  Pearson chi2:      </th> <td>1.02e+03</td>\n",
       "</tr>\n",
       "<tr>\n",
       "  <th>No. Iterations:</th>          <td>4</td>        <th>  Pseudo R-squ. (CS):</th>  <td>0.1068</td> \n",
       "</tr>\n",
       "<tr>\n",
       "  <th>Covariance Type:</th>     <td>nonrobust</td>    <th>                     </th>     <td> </td>   \n",
       "</tr>\n",
       "</table>\n",
       "<table class=\"simpletable\">\n",
       "<tr>\n",
       "         <td></td>           <th>coef</th>     <th>std err</th>      <th>z</th>      <th>P>|z|</th>  <th>[0.025</th>    <th>0.975]</th>  \n",
       "</tr>\n",
       "<tr>\n",
       "  <th>Intercept</th>      <td>    1.7124</td> <td>    0.181</td> <td>    9.442</td> <td> 0.000</td> <td>    1.357</td> <td>    2.068</td>\n",
       "</tr>\n",
       "<tr>\n",
       "  <th>gender[T.male]</th> <td>    0.1189</td> <td>    0.138</td> <td>    0.865</td> <td> 0.387</td> <td>   -0.151</td> <td>    0.388</td>\n",
       "</tr>\n",
       "<tr>\n",
       "  <th>word_count</th>     <td>   -0.1464</td> <td>    0.016</td> <td>   -9.436</td> <td> 0.000</td> <td>   -0.177</td> <td>   -0.116</td>\n",
       "</tr>\n",
       "</table>"
      ],
      "text/latex": [
       "\\begin{center}\n",
       "\\begin{tabular}{lclc}\n",
       "\\toprule\n",
       "\\textbf{Dep. Variable:}   &   rating\\_good   & \\textbf{  No. Observations:  } &     1000    \\\\\n",
       "\\textbf{Model:}           &       GLM        & \\textbf{  Df Residuals:      } &      997    \\\\\n",
       "\\textbf{Model Family:}    &     Binomial     & \\textbf{  Df Model:          } &        2    \\\\\n",
       "\\textbf{Link Function:}   &      Logit       & \\textbf{  Scale:             } &    1.0000   \\\\\n",
       "\\textbf{Method:}          &       IRLS       & \\textbf{  Log-Likelihood:    } &   -628.70   \\\\\n",
       "\\textbf{Date:}            & Mon, 14 Oct 2024 & \\textbf{  Deviance:          } &    1257.4   \\\\\n",
       "\\textbf{Time:}            &     16:16:34     & \\textbf{  Pearson chi2:      } &  1.02e+03   \\\\\n",
       "\\textbf{No. Iterations:}  &        4         & \\textbf{  Pseudo R-squ. (CS):} &   0.1068    \\\\\n",
       "\\textbf{Covariance Type:} &    nonrobust     & \\textbf{                     } &             \\\\\n",
       "\\bottomrule\n",
       "\\end{tabular}\n",
       "\\begin{tabular}{lcccccc}\n",
       "                        & \\textbf{coef} & \\textbf{std err} & \\textbf{z} & \\textbf{P$> |$z$|$} & \\textbf{[0.025} & \\textbf{0.975]}  \\\\\n",
       "\\midrule\n",
       "\\textbf{Intercept}      &       1.7124  &        0.181     &     9.442  &         0.000        &        1.357    &        2.068     \\\\\n",
       "\\textbf{gender[T.male]} &       0.1189  &        0.138     &     0.865  &         0.387        &       -0.151    &        0.388     \\\\\n",
       "\\textbf{word\\_count}    &      -0.1464  &        0.016     &    -9.436  &         0.000        &       -0.177    &       -0.116     \\\\\n",
       "\\bottomrule\n",
       "\\end{tabular}\n",
       "%\\caption{Generalized Linear Model Regression Results}\n",
       "\\end{center}"
      ],
      "text/plain": [
       "<class 'statsmodels.iolib.summary.Summary'>\n",
       "\"\"\"\n",
       "                 Generalized Linear Model Regression Results                  \n",
       "==============================================================================\n",
       "Dep. Variable:            rating_good   No. Observations:                 1000\n",
       "Model:                            GLM   Df Residuals:                      997\n",
       "Model Family:                Binomial   Df Model:                            2\n",
       "Link Function:                  Logit   Scale:                          1.0000\n",
       "Method:                          IRLS   Log-Likelihood:                -628.70\n",
       "Date:                Mon, 14 Oct 2024   Deviance:                       1257.4\n",
       "Time:                        16:16:34   Pearson chi2:                 1.02e+03\n",
       "No. Iterations:                     4   Pseudo R-squ. (CS):             0.1068\n",
       "Covariance Type:            nonrobust                                         \n",
       "==================================================================================\n",
       "                     coef    std err          z      P>|z|      [0.025      0.975]\n",
       "----------------------------------------------------------------------------------\n",
       "Intercept          1.7124      0.181      9.442      0.000       1.357       2.068\n",
       "gender[T.male]     0.1189      0.138      0.865      0.387      -0.151       0.388\n",
       "word_count        -0.1464      0.016     -9.436      0.000      -0.177      -0.116\n",
       "==================================================================================\n",
       "\"\"\""
      ]
     },
     "execution_count": 5,
     "metadata": {},
     "output_type": "execute_result"
    }
   ],
   "source": [
    "model_logistic = smf.glm(\n",
    "    'rating_good ~ word_count + gender', \n",
    "    data = df_reviews,\n",
    "    family = sm.families.Binomial()\n",
    ").fit()\n",
    "\n",
    "model_logistic.summary()"
   ]
  },
  {
   "cell_type": "markdown",
   "metadata": {},
   "source": [
    "## Poisson Regression Model"
   ]
  },
  {
   "cell_type": "code",
   "execution_count": 6,
   "metadata": {},
   "outputs": [
    {
     "data": {
      "text/plain": [
       "<Axes: >"
      ]
     },
     "execution_count": 6,
     "metadata": {},
     "output_type": "execute_result"
    },
    {
     "data": {
      "image/png": "[encoded data removed]",
      "text/plain": [
       "<Figure size 640x480 with 1 Axes>"
      ]
     },
     "metadata": {},
     "output_type": "display_data"
    }
   ],
   "source": [
    "df_reviews['poss_pronoun'] = (\n",
    "    df_reviews['review_text']\n",
    "    .str.count('\\\\bI\\\\b|\\\\bme\\\\b|\\\\b[Mm]y\\\\b|\\\\bmine\\\\b|\\\\bmyself\\\\b')\n",
    "    )\n",
    "\n",
    "df_reviews['poss_pronoun'].hist()"
   ]
  },
  {
   "cell_type": "code",
   "execution_count": 8,
   "metadata": {},
   "outputs": [
    {
     "data": {
      "text/html": [
       "<table class=\"simpletable\">\n",
       "<caption>Generalized Linear Model Regression Results</caption>\n",
       "<tr>\n",
       "  <th>Dep. Variable:</th>     <td>poss_pronoun</td>   <th>  No. Observations:  </th>  <td>  1000</td> \n",
       "</tr>\n",
       "<tr>\n",
       "  <th>Model:</th>                  <td>GLM</td>       <th>  Df Residuals:      </th>  <td>   997</td> \n",
       "</tr>\n",
       "<tr>\n",
       "  <th>Model Family:</th>         <td>Poisson</td>     <th>  Df Model:          </th>  <td>     2</td> \n",
       "</tr>\n",
       "<tr>\n",
       "  <th>Link Function:</th>          <td>Log</td>       <th>  Scale:             </th> <td>  1.0000</td>\n",
       "</tr>\n",
       "<tr>\n",
       "  <th>Method:</th>                <td>IRLS</td>       <th>  Log-Likelihood:    </th> <td> -847.43</td>\n",
       "</tr>\n",
       "<tr>\n",
       "  <th>Date:</th>            <td>Mon, 14 Oct 2024</td> <th>  Deviance:          </th> <td>  775.38</td>\n",
       "</tr>\n",
       "<tr>\n",
       "  <th>Time:</th>                <td>16:16:43</td>     <th>  Pearson chi2:      </th>  <td>  717.</td> \n",
       "</tr>\n",
       "<tr>\n",
       "  <th>No. Iterations:</th>          <td>5</td>        <th>  Pseudo R-squ. (CS):</th>  <td>0.1981</td> \n",
       "</tr>\n",
       "<tr>\n",
       "  <th>Covariance Type:</th>     <td>nonrobust</td>    <th>                     </th>     <td> </td>   \n",
       "</tr>\n",
       "</table>\n",
       "<table class=\"simpletable\">\n",
       "<tr>\n",
       "         <td></td>           <th>coef</th>     <th>std err</th>      <th>z</th>      <th>P>|z|</th>  <th>[0.025</th>    <th>0.975]</th>  \n",
       "</tr>\n",
       "<tr>\n",
       "  <th>Intercept</th>      <td>   -1.8877</td> <td>    0.109</td> <td>  -17.395</td> <td> 0.000</td> <td>   -2.100</td> <td>   -1.675</td>\n",
       "</tr>\n",
       "<tr>\n",
       "  <th>gender[T.male]</th> <td>    0.0798</td> <td>    0.088</td> <td>    0.906</td> <td> 0.365</td> <td>   -0.093</td> <td>    0.252</td>\n",
       "</tr>\n",
       "<tr>\n",
       "  <th>word_count</th>     <td>    0.1036</td> <td>    0.006</td> <td>   16.053</td> <td> 0.000</td> <td>    0.091</td> <td>    0.116</td>\n",
       "</tr>\n",
       "</table>"
      ],
      "text/latex": [
       "\\begin{center}\n",
       "\\begin{tabular}{lclc}\n",
       "\\toprule\n",
       "\\textbf{Dep. Variable:}   &  poss\\_pronoun   & \\textbf{  No. Observations:  } &     1000    \\\\\n",
       "\\textbf{Model:}           &       GLM        & \\textbf{  Df Residuals:      } &      997    \\\\\n",
       "\\textbf{Model Family:}    &     Poisson      & \\textbf{  Df Model:          } &        2    \\\\\n",
       "\\textbf{Link Function:}   &       Log        & \\textbf{  Scale:             } &    1.0000   \\\\\n",
       "\\textbf{Method:}          &       IRLS       & \\textbf{  Log-Likelihood:    } &   -847.43   \\\\\n",
       "\\textbf{Date:}            & Mon, 14 Oct 2024 & \\textbf{  Deviance:          } &    775.38   \\\\\n",
       "\\textbf{Time:}            &     16:16:43     & \\textbf{  Pearson chi2:      } &     717.    \\\\\n",
       "\\textbf{No. Iterations:}  &        5         & \\textbf{  Pseudo R-squ. (CS):} &   0.1981    \\\\\n",
       "\\textbf{Covariance Type:} &    nonrobust     & \\textbf{                     } &             \\\\\n",
       "\\bottomrule\n",
       "\\end{tabular}\n",
       "\\begin{tabular}{lcccccc}\n",
       "                        & \\textbf{coef} & \\textbf{std err} & \\textbf{z} & \\textbf{P$> |$z$|$} & \\textbf{[0.025} & \\textbf{0.975]}  \\\\\n",
       "\\midrule\n",
       "\\textbf{Intercept}      &      -1.8877  &        0.109     &   -17.395  &         0.000        &       -2.100    &       -1.675     \\\\\n",
       "\\textbf{gender[T.male]} &       0.0798  &        0.088     &     0.906  &         0.365        &       -0.093    &        0.252     \\\\\n",
       "\\textbf{word\\_count}    &       0.1036  &        0.006     &    16.053  &         0.000        &        0.091    &        0.116     \\\\\n",
       "\\bottomrule\n",
       "\\end{tabular}\n",
       "%\\caption{Generalized Linear Model Regression Results}\n",
       "\\end{center}"
      ],
      "text/plain": [
       "<class 'statsmodels.iolib.summary.Summary'>\n",
       "\"\"\"\n",
       "                 Generalized Linear Model Regression Results                  \n",
       "==============================================================================\n",
       "Dep. Variable:           poss_pronoun   No. Observations:                 1000\n",
       "Model:                            GLM   Df Residuals:                      997\n",
       "Model Family:                 Poisson   Df Model:                            2\n",
       "Link Function:                    Log   Scale:                          1.0000\n",
       "Method:                          IRLS   Log-Likelihood:                -847.43\n",
       "Date:                Mon, 14 Oct 2024   Deviance:                       775.38\n",
       "Time:                        16:16:43   Pearson chi2:                     717.\n",
       "No. Iterations:                     5   Pseudo R-squ. (CS):             0.1981\n",
       "Covariance Type:            nonrobust                                         \n",
       "==================================================================================\n",
       "                     coef    std err          z      P>|z|      [0.025      0.975]\n",
       "----------------------------------------------------------------------------------\n",
       "Intercept         -1.8877      0.109    -17.395      0.000      -2.100      -1.675\n",
       "gender[T.male]     0.0798      0.088      0.906      0.365      -0.093       0.252\n",
       "word_count         0.1036      0.006     16.053      0.000       0.091       0.116\n",
       "==================================================================================\n",
       "\"\"\""
      ]
     },
     "execution_count": 8,
     "metadata": {},
     "output_type": "execute_result"
    }
   ],
   "source": [
    "model_poisson = smf.glm(\n",
    "    formula = 'poss_pronoun ~ word_count + gender',\n",
    "    data = df_reviews,\n",
    "    family = sm.families.Poisson()\n",
    ").fit()\n",
    "\n",
    "model_poisson.summary()"
   ]
  },
  {
   "cell_type": "code",
   "execution_count": 9,
   "metadata": {},
   "outputs": [
    {
     "data": {
      "text/plain": [
       "Intercept         0.151424\n",
       "gender[T.male]    1.083073\n",
       "word_count        1.109207\n",
       "dtype: float64"
      ]
     },
     "execution_count": 9,
     "metadata": {},
     "output_type": "execute_result"
    }
   ],
   "source": [
    "np.exp(model_poisson.params)"
   ]
  },
  {
   "cell_type": "markdown",
   "metadata": {},
   "source": [
    "## DIY"
   ]
  },
  {
   "cell_type": "code",
   "execution_count": 7,
   "metadata": {},
   "outputs": [],
   "source": [
    "def glm_simple(par, X, y, family = 'binomial'):\n",
    "    # add an column for the intercept\n",
    "    X = np.column_stack((np.ones(X.shape[0]), X))\n",
    "\n",
    "    # Calculate the linear predictor\n",
    "    mu = X @ par  # @ is matrix multiplication\n",
    "    \n",
    "    # get the likelihood for the binomial or poisson distribution\n",
    "    if family == 'binomial':\n",
    "        p = 1 / (1 + np.exp(-mu))\n",
    "        L = binom.logpmf(y, 1, p)\n",
    "    elif family == 'poisson':\n",
    "        lambda_ = np.exp(mu)\n",
    "        L = poisson.logpmf(y, lambda_)\n",
    "    \n",
    "    # return the negative sum of the log-likelihood (for minimization)\n",
    "    value = -np.sum(L)\n",
    "    \n",
    "    return value"
   ]
  },
  {
   "cell_type": "markdown",
   "metadata": {},
   "source": [
    "Logistic Model"
   ]
  },
  {
   "cell_type": "code",
   "execution_count": null,
   "metadata": {},
   "outputs": [],
   "source": [
    "init = np.zeros(X.shape[1] + 1)\n",
    "\n",
    "fit_logistic = minimize(\n",
    "    fun = glm_simple,\n",
    "    x0 = init,\n",
    "    args = (X, y),\n",
    "    method = 'BFGS'\n",
    ")\n",
    "\n",
    "fit_logistic['x']"
   ]
  },
  {
   "cell_type": "markdown",
   "metadata": {},
   "source": [
    "Poission Model"
   ]
  },
  {
   "cell_type": "code",
   "execution_count": null,
   "metadata": {},
   "outputs": [],
   "source": [
    "fit_poisson = minimize(\n",
    "    fun = glm_simple,\n",
    "    x0 = init,\n",
    "    args = (\n",
    "        X, \n",
    "        df_reviews['poss_pronoun'], \n",
    "        'poisson'\n",
    "    )\n",
    ")\n",
    "\n",
    "fit_poisson['x']"
   ]
  }
 ],
 "metadata": {
  "kernelspec": {
   "display_name": "book-of-models",
   "language": "python",
   "name": "python3"
  },
  "language_info": {
   "codemirror_mode": {
    "name": "ipython",
    "version": 3
   },
   "file_extension": ".py",
   "mimetype": "text/x-python",
   "name": "python",
   "nbconvert_exporter": "python",
   "pygments_lexer": "ipython3",
   "version": "3.12.1"
  }
 },
 "nbformat": 4,
 "nbformat_minor": 2
}
