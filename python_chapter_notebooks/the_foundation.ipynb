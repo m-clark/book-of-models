{
 "cells": [
  {
   "cell_type": "markdown",
   "metadata": {},
   "source": [
    "# The Foundation"
   ]
  },
  {
   "cell_type": "code",
   "execution_count": 1,
   "metadata": {},
   "outputs": [],
   "source": [
    "# core processing\n",
    "import numpy as np\n",
    "import pandas as pd\n",
    "import matplotlib.pyplot as plt\n",
    "\n",
    "# model\n",
    "import statsmodels.api as sm\n",
    "import statsmodels.formula.api as smf\n",
    "\n"
   ]
  },
  {
   "cell_type": "markdown",
   "metadata": {},
   "source": [
    "## Main Model"
   ]
  },
  {
   "cell_type": "code",
   "execution_count": 2,
   "metadata": {},
   "outputs": [
    {
     "data": {
      "text/html": [
       "<table class=\"simpletable\">\n",
       "<caption>OLS Regression Results</caption>\n",
       "<tr>\n",
       "  <th>Dep. Variable:</th>     <td>rating</td>   <th>  R-squared:         </th> <td>   0.118</td>\n",
       "</tr>\n",
       "<tr>\n",
       "  <th>Model:</th>               <td>OLS</td>    <th>  Adj. R-squared:    </th> <td>   0.118</td>\n",
       "</tr>\n",
       "<tr>\n",
       "  <th>No. Observations:</th>  <td>  1000</td>   <th>  F-statistic:       </th> <td>   134.1</td>\n",
       "</tr>\n",
       "<tr>\n",
       "  <th>Covariance Type:</th>  <td>nonrobust</td> <th>  Prob (F-statistic):</th> <td>3.47e-29</td>\n",
       "</tr>\n",
       "</table>\n",
       "<table class=\"simpletable\">\n",
       "<tr>\n",
       "       <td></td>         <th>coef</th>     <th>std err</th>      <th>t</th>      <th>P>|t|</th>  <th>[0.025</th>    <th>0.975]</th>  \n",
       "</tr>\n",
       "<tr>\n",
       "  <th>Intercept</th>  <td>    3.4916</td> <td>    0.042</td> <td>   82.431</td> <td> 0.000</td> <td>    3.409</td> <td>    3.575</td>\n",
       "</tr>\n",
       "<tr>\n",
       "  <th>word_count</th> <td>   -0.0427</td> <td>    0.004</td> <td>  -11.580</td> <td> 0.000</td> <td>   -0.050</td> <td>   -0.035</td>\n",
       "</tr>\n",
       "</table><br/><br/>Notes:<br/>[1] Standard Errors assume that the covariance matrix of the errors is correctly specified."
      ],
      "text/latex": [
       "\\begin{center}\n",
       "\\begin{tabular}{lclc}\n",
       "\\toprule\n",
       "\\textbf{Dep. Variable:}    &     rating    & \\textbf{  R-squared:         } &     0.118   \\\\\n",
       "\\textbf{Model:}            &      OLS      & \\textbf{  Adj. R-squared:    } &     0.118   \\\\\n",
       "\\textbf{No. Observations:} &       1000    & \\textbf{  F-statistic:       } &     134.1   \\\\\n",
       "\\textbf{Covariance Type:}  &   nonrobust   & \\textbf{  Prob (F-statistic):} &  3.47e-29   \\\\\n",
       "\\bottomrule\n",
       "\\end{tabular}\n",
       "\\begin{tabular}{lcccccc}\n",
       "                     & \\textbf{coef} & \\textbf{std err} & \\textbf{t} & \\textbf{P$> |$t$|$} & \\textbf{[0.025} & \\textbf{0.975]}  \\\\\n",
       "\\midrule\n",
       "\\textbf{Intercept}   &       3.4916  &        0.042     &    82.431  &         0.000        &        3.409    &        3.575     \\\\\n",
       "\\textbf{word\\_count} &      -0.0427  &        0.004     &   -11.580  &         0.000        &       -0.050    &       -0.035     \\\\\n",
       "\\bottomrule\n",
       "\\end{tabular}\n",
       "%\\caption{OLS Regression Results}\n",
       "\\end{center}\n",
       "\n",
       "Notes: \\newline\n",
       " [1] Standard Errors assume that the covariance matrix of the errors is correctly specified."
      ],
      "text/plain": [
       "<class 'statsmodels.iolib.summary.Summary'>\n",
       "\"\"\"\n",
       "                            OLS Regression Results                            \n",
       "==============================================================================\n",
       "Dep. Variable:                 rating   R-squared:                       0.118\n",
       "Model:                            OLS   Adj. R-squared:                  0.118\n",
       "No. Observations:                1000   F-statistic:                     134.1\n",
       "Covariance Type:            nonrobust   Prob (F-statistic):           3.47e-29\n",
       "==============================================================================\n",
       "                 coef    std err          t      P>|t|      [0.025      0.975]\n",
       "------------------------------------------------------------------------------\n",
       "Intercept      3.4916      0.042     82.431      0.000       3.409       3.575\n",
       "word_count    -0.0427      0.004    -11.580      0.000      -0.050      -0.035\n",
       "==============================================================================\n",
       "\n",
       "Notes:\n",
       "[1] Standard Errors assume that the covariance matrix of the errors is correctly specified.\n",
       "\"\"\""
      ]
     },
     "execution_count": 2,
     "metadata": {},
     "output_type": "execute_result"
    }
   ],
   "source": [
    "# all data found on github repo\n",
    "df_reviews = pd.read_csv('https://tinyurl.com/moviereviewsdata')\n",
    "\n",
    "model_lr_rating = smf.ols('rating ~ word_count', data = df_reviews).fit()\n",
    "\n",
    "model_lr_rating.summary(slim = True)"
   ]
  },
  {
   "cell_type": "code",
   "execution_count": 4,
   "metadata": {},
   "outputs": [],
   "source": [
    "all_predictions = model_lr_rating.predict()\n",
    "\n",
    "df_prediction = pd.DataFrame({'word_count': [5]})\n",
    "single_prediction = model_lr_rating.predict(df_prediction)"
   ]
  },
  {
   "cell_type": "code",
   "execution_count": 7,
   "metadata": {},
   "outputs": [
    {
     "data": {
      "text/html": [
       "<div>\n",
       "<style scoped>\n",
       "    .dataframe tbody tr th:only-of-type {\n",
       "        vertical-align: middle;\n",
       "    }\n",
       "\n",
       "    .dataframe tbody tr th {\n",
       "        vertical-align: top;\n",
       "    }\n",
       "\n",
       "    .dataframe thead th {\n",
       "        text-align: right;\n",
       "    }\n",
       "</style>\n",
       "<table border=\"1\" class=\"dataframe\">\n",
       "  <thead>\n",
       "    <tr style=\"text-align: right;\">\n",
       "      <th></th>\n",
       "      <th>mean</th>\n",
       "      <th>mean_se</th>\n",
       "      <th>mean_ci_lower</th>\n",
       "      <th>mean_ci_upper</th>\n",
       "      <th>obs_ci_lower</th>\n",
       "      <th>obs_ci_upper</th>\n",
       "    </tr>\n",
       "  </thead>\n",
       "  <tbody>\n",
       "    <tr>\n",
       "      <th>0</th>\n",
       "      <td>3.278219</td>\n",
       "      <td>0.027067</td>\n",
       "      <td>3.225105</td>\n",
       "      <td>3.331334</td>\n",
       "      <td>2.11779</td>\n",
       "      <td>4.438649</td>\n",
       "    </tr>\n",
       "  </tbody>\n",
       "</table>\n",
       "</div>"
      ],
      "text/plain": [
       "       mean   mean_se  mean_ci_lower  mean_ci_upper  obs_ci_lower  \\\n",
       "0  3.278219  0.027067       3.225105       3.331334       2.11779   \n",
       "\n",
       "   obs_ci_upper  \n",
       "0      4.438649  "
      ]
     },
     "execution_count": 7,
     "metadata": {},
     "output_type": "execute_result"
    }
   ],
   "source": [
    "pred_intervals = (\n",
    "    model_lr_rating\n",
    "    .get_prediction(df_prediction)\n",
    "    .summary_frame(alpha = 0.05)\n",
    ")\n",
    "\n",
    "pred_intervals"
   ]
  },
  {
   "cell_type": "code",
   "execution_count": 5,
   "metadata": {},
   "outputs": [
    {
     "data": {
      "text/plain": [
       "<matplotlib.collections.PathCollection at 0x156466510>"
      ]
     },
     "execution_count": 5,
     "metadata": {},
     "output_type": "execute_result"
    },
    {
     "data": {
      "image/png": "[encoded data removed]",
      "text/plain": [
       "<Figure size 640x480 with 1 Axes>"
      ]
     },
     "metadata": {},
     "output_type": "display_data"
    }
   ],
   "source": [
    "predictions = model_lr_rating.predict()\n",
    "y = df_reviews.rating\n",
    "\n",
    "plt.scatter(y, predictions)"
   ]
  },
  {
   "cell_type": "code",
   "execution_count": 6,
   "metadata": {},
   "outputs": [
    {
     "data": {
      "text/plain": [
       "0.590728780660127"
      ]
     },
     "execution_count": 6,
     "metadata": {},
     "output_type": "execute_result"
    }
   ],
   "source": [
    "np.sqrt(model_lr_rating.scale)   # RMSE"
   ]
  },
  {
   "cell_type": "markdown",
   "metadata": {},
   "source": [
    "## Multiple Features"
   ]
  },
  {
   "cell_type": "code",
   "execution_count": 7,
   "metadata": {},
   "outputs": [
    {
     "data": {
      "text/html": [
       "<table class=\"simpletable\">\n",
       "<caption>OLS Regression Results</caption>\n",
       "<tr>\n",
       "  <th>Dep. Variable:</th>     <td>rating</td>   <th>  R-squared:         </th> <td>   0.321</td>\n",
       "</tr>\n",
       "<tr>\n",
       "  <th>Model:</th>               <td>OLS</td>    <th>  Adj. R-squared:    </th> <td>   0.316</td>\n",
       "</tr>\n",
       "<tr>\n",
       "  <th>No. Observations:</th>  <td>  1000</td>   <th>  F-statistic:       </th> <td>   67.02</td>\n",
       "</tr>\n",
       "<tr>\n",
       "  <th>Covariance Type:</th>  <td>nonrobust</td> <th>  Prob (F-statistic):</th> <td>3.73e-79</td>\n",
       "</tr>\n",
       "</table>\n",
       "<table class=\"simpletable\">\n",
       "<tr>\n",
       "          <td></td>            <th>coef</th>     <th>std err</th>      <th>t</th>      <th>P>|t|</th>  <th>[0.025</th>    <th>0.975]</th>  \n",
       "</tr>\n",
       "<tr>\n",
       "  <th>Intercept</th>        <td>  -45.5688</td> <td>    7.463</td> <td>   -6.106</td> <td> 0.000</td> <td>  -60.215</td> <td>  -30.923</td>\n",
       "</tr>\n",
       "<tr>\n",
       "  <th>word_count</th>       <td>   -0.0303</td> <td>    0.003</td> <td>   -9.102</td> <td> 0.000</td> <td>   -0.037</td> <td>   -0.024</td>\n",
       "</tr>\n",
       "<tr>\n",
       "  <th>age</th>              <td>   -0.0017</td> <td>    0.001</td> <td>   -1.825</td> <td> 0.068</td> <td>   -0.004</td> <td>    0.000</td>\n",
       "</tr>\n",
       "<tr>\n",
       "  <th>review_year</th>      <td>    0.0099</td> <td>    0.003</td> <td>    3.055</td> <td> 0.002</td> <td>    0.004</td> <td>    0.016</td>\n",
       "</tr>\n",
       "<tr>\n",
       "  <th>release_year</th>     <td>    0.0133</td> <td>    0.002</td> <td>    7.434</td> <td> 0.000</td> <td>    0.010</td> <td>    0.017</td>\n",
       "</tr>\n",
       "<tr>\n",
       "  <th>length_minutes</th>   <td>    0.0167</td> <td>    0.002</td> <td>   10.897</td> <td> 0.000</td> <td>    0.014</td> <td>    0.020</td>\n",
       "</tr>\n",
       "<tr>\n",
       "  <th>children_in_home</th> <td>    0.1028</td> <td>    0.025</td> <td>    4.051</td> <td> 0.000</td> <td>    0.053</td> <td>    0.153</td>\n",
       "</tr>\n",
       "<tr>\n",
       "  <th>total_reviews</th>    <td> 7.616e-05</td> <td> 6.16e-06</td> <td>   12.362</td> <td> 0.000</td> <td> 6.41e-05</td> <td> 8.83e-05</td>\n",
       "</tr>\n",
       "</table><br/><br/>Notes:<br/>[1] Standard Errors assume that the covariance matrix of the errors is correctly specified.<br/>[2] The condition number is large, 2.82e+06. This might indicate that there are<br/>strong multicollinearity or other numerical problems."
      ],
      "text/latex": [
       "\\begin{center}\n",
       "\\begin{tabular}{lclc}\n",
       "\\toprule\n",
       "\\textbf{Dep. Variable:}     &     rating    & \\textbf{  R-squared:         } &     0.321   \\\\\n",
       "\\textbf{Model:}             &      OLS      & \\textbf{  Adj. R-squared:    } &     0.316   \\\\\n",
       "\\textbf{No. Observations:}  &       1000    & \\textbf{  F-statistic:       } &     67.02   \\\\\n",
       "\\textbf{Covariance Type:}   &   nonrobust   & \\textbf{  Prob (F-statistic):} &  3.73e-79   \\\\\n",
       "\\bottomrule\n",
       "\\end{tabular}\n",
       "\\begin{tabular}{lcccccc}\n",
       "                            & \\textbf{coef} & \\textbf{std err} & \\textbf{t} & \\textbf{P$> |$t$|$} & \\textbf{[0.025} & \\textbf{0.975]}  \\\\\n",
       "\\midrule\n",
       "\\textbf{Intercept}          &     -45.5688  &        7.463     &    -6.106  &         0.000        &      -60.215    &      -30.923     \\\\\n",
       "\\textbf{word\\_count}        &      -0.0303  &        0.003     &    -9.102  &         0.000        &       -0.037    &       -0.024     \\\\\n",
       "\\textbf{age}                &      -0.0017  &        0.001     &    -1.825  &         0.068        &       -0.004    &        0.000     \\\\\n",
       "\\textbf{review\\_year}       &       0.0099  &        0.003     &     3.055  &         0.002        &        0.004    &        0.016     \\\\\n",
       "\\textbf{release\\_year}      &       0.0133  &        0.002     &     7.434  &         0.000        &        0.010    &        0.017     \\\\\n",
       "\\textbf{length\\_minutes}    &       0.0167  &        0.002     &    10.897  &         0.000        &        0.014    &        0.020     \\\\\n",
       "\\textbf{children\\_in\\_home} &       0.1028  &        0.025     &     4.051  &         0.000        &        0.053    &        0.153     \\\\\n",
       "\\textbf{total\\_reviews}     &    7.616e-05  &     6.16e-06     &    12.362  &         0.000        &     6.41e-05    &     8.83e-05     \\\\\n",
       "\\bottomrule\n",
       "\\end{tabular}\n",
       "%\\caption{OLS Regression Results}\n",
       "\\end{center}\n",
       "\n",
       "Notes: \\newline\n",
       " [1] Standard Errors assume that the covariance matrix of the errors is correctly specified. \\newline\n",
       " [2] The condition number is large, 2.82e+06. This might indicate that there are \\newline\n",
       " strong multicollinearity or other numerical problems."
      ],
      "text/plain": [
       "<class 'statsmodels.iolib.summary.Summary'>\n",
       "\"\"\"\n",
       "                            OLS Regression Results                            \n",
       "==============================================================================\n",
       "Dep. Variable:                 rating   R-squared:                       0.321\n",
       "Model:                            OLS   Adj. R-squared:                  0.316\n",
       "No. Observations:                1000   F-statistic:                     67.02\n",
       "Covariance Type:            nonrobust   Prob (F-statistic):           3.73e-79\n",
       "====================================================================================\n",
       "                       coef    std err          t      P>|t|      [0.025      0.975]\n",
       "------------------------------------------------------------------------------------\n",
       "Intercept          -45.5688      7.463     -6.106      0.000     -60.215     -30.923\n",
       "word_count          -0.0303      0.003     -9.102      0.000      -0.037      -0.024\n",
       "age                 -0.0017      0.001     -1.825      0.068      -0.004       0.000\n",
       "review_year          0.0099      0.003      3.055      0.002       0.004       0.016\n",
       "release_year         0.0133      0.002      7.434      0.000       0.010       0.017\n",
       "length_minutes       0.0167      0.002     10.897      0.000       0.014       0.020\n",
       "children_in_home     0.1028      0.025      4.051      0.000       0.053       0.153\n",
       "total_reviews     7.616e-05   6.16e-06     12.362      0.000    6.41e-05    8.83e-05\n",
       "====================================================================================\n",
       "\n",
       "Notes:\n",
       "[1] Standard Errors assume that the covariance matrix of the errors is correctly specified.\n",
       "[2] The condition number is large, 2.82e+06. This might indicate that there are\n",
       "strong multicollinearity or other numerical problems.\n",
       "\"\"\""
      ]
     },
     "execution_count": 7,
     "metadata": {},
     "output_type": "execute_result"
    }
   ],
   "source": [
    "model_lr_rating_extra = smf.ols(\n",
    "    formula = 'rating ~ word_count \\\n",
    "        + age \\\n",
    "        + review_year \\\n",
    "        + release_year \\\n",
    "        + length_minutes \\\n",
    "        + children_in_home \\\n",
    "        + total_reviews',\n",
    "    data = df_reviews\n",
    ").fit()\n",
    "\n",
    "model_lr_rating_extra.summary(slim = True)"
   ]
  },
  {
   "cell_type": "code",
   "execution_count": 8,
   "metadata": {},
   "outputs": [
    {
     "data": {
      "text/plain": [
       "new_observation    3.259518\n",
       "dtype: float64"
      ]
     },
     "execution_count": 8,
     "metadata": {},
     "output_type": "execute_result"
    }
   ],
   "source": [
    "predict_observation = pd.DataFrame(\n",
    "    {\n",
    "        'word_count': 12,\n",
    "        'age': 30,\n",
    "        'children_in_home': 1,\n",
    "        'review_year': 2020,\n",
    "        'release_year': 2015,\n",
    "        'length_minutes': 100,\n",
    "        'total_reviews': 10000\n",
    "    },\n",
    "    index = ['new_observation']\n",
    ")\n",
    "\n",
    "model_lr_rating_extra.predict(predict_observation)"
   ]
  },
  {
   "cell_type": "code",
   "execution_count": 9,
   "metadata": {},
   "outputs": [
    {
     "data": {
      "text/html": [
       "<table class=\"simpletable\">\n",
       "<caption>OLS Regression Results</caption>\n",
       "<tr>\n",
       "  <th>Dep. Variable:</th>     <td>rating</td>   <th>  R-squared:         </th> <td>   0.176</td>\n",
       "</tr>\n",
       "<tr>\n",
       "  <th>Model:</th>               <td>OLS</td>    <th>  Adj. R-squared:    </th> <td>   0.173</td>\n",
       "</tr>\n",
       "<tr>\n",
       "  <th>No. Observations:</th>  <td>  1000</td>   <th>  F-statistic:       </th> <td>   53.09</td>\n",
       "</tr>\n",
       "<tr>\n",
       "  <th>Covariance Type:</th>  <td>nonrobust</td> <th>  Prob (F-statistic):</th> <td>1.41e-40</td>\n",
       "</tr>\n",
       "</table>\n",
       "<table class=\"simpletable\">\n",
       "<tr>\n",
       "          <td></td>            <th>coef</th>     <th>std err</th>      <th>t</th>      <th>P>|t|</th>  <th>[0.025</th>    <th>0.975]</th>  \n",
       "</tr>\n",
       "<tr>\n",
       "  <th>Intercept</th>        <td>    3.3429</td> <td>    0.053</td> <td>   63.109</td> <td> 0.000</td> <td>    3.239</td> <td>    3.447</td>\n",
       "</tr>\n",
       "<tr>\n",
       "  <th>season[T.Spring]</th> <td>   -0.0301</td> <td>    0.062</td> <td>   -0.483</td> <td> 0.629</td> <td>   -0.152</td> <td>    0.092</td>\n",
       "</tr>\n",
       "<tr>\n",
       "  <th>season[T.Summer]</th> <td>    0.2743</td> <td>    0.044</td> <td>    6.171</td> <td> 0.000</td> <td>    0.187</td> <td>    0.362</td>\n",
       "</tr>\n",
       "<tr>\n",
       "  <th>season[T.Winter]</th> <td>   -0.0700</td> <td>    0.059</td> <td>   -1.177</td> <td> 0.239</td> <td>   -0.187</td> <td>    0.047</td>\n",
       "</tr>\n",
       "<tr>\n",
       "  <th>word_count</th>       <td>   -0.0394</td> <td>    0.004</td> <td>  -10.963</td> <td> 0.000</td> <td>   -0.047</td> <td>   -0.032</td>\n",
       "</tr>\n",
       "</table><br/><br/>Notes:<br/>[1] Standard Errors assume that the covariance matrix of the errors is correctly specified."
      ],
      "text/latex": [
       "\\begin{center}\n",
       "\\begin{tabular}{lclc}\n",
       "\\toprule\n",
       "\\textbf{Dep. Variable:}    &     rating    & \\textbf{  R-squared:         } &     0.176   \\\\\n",
       "\\textbf{Model:}            &      OLS      & \\textbf{  Adj. R-squared:    } &     0.173   \\\\\n",
       "\\textbf{No. Observations:} &       1000    & \\textbf{  F-statistic:       } &     53.09   \\\\\n",
       "\\textbf{Covariance Type:}  &   nonrobust   & \\textbf{  Prob (F-statistic):} &  1.41e-40   \\\\\n",
       "\\bottomrule\n",
       "\\end{tabular}\n",
       "\\begin{tabular}{lcccccc}\n",
       "                          & \\textbf{coef} & \\textbf{std err} & \\textbf{t} & \\textbf{P$> |$t$|$} & \\textbf{[0.025} & \\textbf{0.975]}  \\\\\n",
       "\\midrule\n",
       "\\textbf{Intercept}        &       3.3429  &        0.053     &    63.109  &         0.000        &        3.239    &        3.447     \\\\\n",
       "\\textbf{season[T.Spring]} &      -0.0301  &        0.062     &    -0.483  &         0.629        &       -0.152    &        0.092     \\\\\n",
       "\\textbf{season[T.Summer]} &       0.2743  &        0.044     &     6.171  &         0.000        &        0.187    &        0.362     \\\\\n",
       "\\textbf{season[T.Winter]} &      -0.0700  &        0.059     &    -1.177  &         0.239        &       -0.187    &        0.047     \\\\\n",
       "\\textbf{word\\_count}      &      -0.0394  &        0.004     &   -10.963  &         0.000        &       -0.047    &       -0.032     \\\\\n",
       "\\bottomrule\n",
       "\\end{tabular}\n",
       "%\\caption{OLS Regression Results}\n",
       "\\end{center}\n",
       "\n",
       "Notes: \\newline\n",
       " [1] Standard Errors assume that the covariance matrix of the errors is correctly specified."
      ],
      "text/plain": [
       "<class 'statsmodels.iolib.summary.Summary'>\n",
       "\"\"\"\n",
       "                            OLS Regression Results                            \n",
       "==============================================================================\n",
       "Dep. Variable:                 rating   R-squared:                       0.176\n",
       "Model:                            OLS   Adj. R-squared:                  0.173\n",
       "No. Observations:                1000   F-statistic:                     53.09\n",
       "Covariance Type:            nonrobust   Prob (F-statistic):           1.41e-40\n",
       "====================================================================================\n",
       "                       coef    std err          t      P>|t|      [0.025      0.975]\n",
       "------------------------------------------------------------------------------------\n",
       "Intercept            3.3429      0.053     63.109      0.000       3.239       3.447\n",
       "season[T.Spring]    -0.0301      0.062     -0.483      0.629      -0.152       0.092\n",
       "season[T.Summer]     0.2743      0.044      6.171      0.000       0.187       0.362\n",
       "season[T.Winter]    -0.0700      0.059     -1.177      0.239      -0.187       0.047\n",
       "word_count          -0.0394      0.004    -10.963      0.000      -0.047      -0.032\n",
       "====================================================================================\n",
       "\n",
       "Notes:\n",
       "[1] Standard Errors assume that the covariance matrix of the errors is correctly specified.\n",
       "\"\"\""
      ]
     },
     "execution_count": 9,
     "metadata": {},
     "output_type": "execute_result"
    }
   ],
   "source": [
    "model_lr_cat = smf.ols(\n",
    "    formula = \"rating ~ word_count + season\",\n",
    "    data = df_reviews\n",
    ").fit()\n",
    "\n",
    "model_lr_cat.summary(slim = True)"
   ]
  },
  {
   "cell_type": "code",
   "execution_count": 10,
   "metadata": {},
   "outputs": [
    {
     "data": {
      "text/html": [
       "<div>\n",
       "<style scoped>\n",
       "    .dataframe tbody tr th:only-of-type {\n",
       "        vertical-align: middle;\n",
       "    }\n",
       "\n",
       "    .dataframe tbody tr th {\n",
       "        vertical-align: top;\n",
       "    }\n",
       "\n",
       "    .dataframe thead th {\n",
       "        text-align: right;\n",
       "    }\n",
       "</style>\n",
       "<table border=\"1\" class=\"dataframe\">\n",
       "  <thead>\n",
       "    <tr style=\"text-align: right;\">\n",
       "      <th></th>\n",
       "      <th>df</th>\n",
       "      <th>sum_sq</th>\n",
       "      <th>mean_sq</th>\n",
       "      <th>F</th>\n",
       "      <th>PR(&gt;F)</th>\n",
       "    </tr>\n",
       "  </thead>\n",
       "  <tbody>\n",
       "    <tr>\n",
       "      <th>season</th>\n",
       "      <td>3.0</td>\n",
       "      <td>30.166074</td>\n",
       "      <td>10.055358</td>\n",
       "      <td>30.731027</td>\n",
       "      <td>5.301654e-19</td>\n",
       "    </tr>\n",
       "    <tr>\n",
       "      <th>word_count</th>\n",
       "      <td>1.0</td>\n",
       "      <td>39.322588</td>\n",
       "      <td>39.322588</td>\n",
       "      <td>120.177074</td>\n",
       "      <td>1.764298e-26</td>\n",
       "    </tr>\n",
       "    <tr>\n",
       "      <th>Residual</th>\n",
       "      <td>995.0</td>\n",
       "      <td>325.569378</td>\n",
       "      <td>0.327205</td>\n",
       "      <td>NaN</td>\n",
       "      <td>NaN</td>\n",
       "    </tr>\n",
       "  </tbody>\n",
       "</table>\n",
       "</div>"
      ],
      "text/plain": [
       "               df      sum_sq    mean_sq           F        PR(>F)\n",
       "season        3.0   30.166074  10.055358   30.731027  5.301654e-19\n",
       "word_count    1.0   39.322588  39.322588  120.177074  1.764298e-26\n",
       "Residual    995.0  325.569378   0.327205         NaN           NaN"
      ]
     },
     "execution_count": 10,
     "metadata": {},
     "output_type": "execute_result"
    }
   ],
   "source": [
    "sm.stats.anova_lm(model_lr_cat)"
   ]
  }
 ],
 "metadata": {
  "kernelspec": {
   "display_name": "book-of-models",
   "language": "python",
   "name": "python3"
  },
  "language_info": {
   "codemirror_mode": {
    "name": "ipython",
    "version": 3
   },
   "file_extension": ".py",
   "mimetype": "text/x-python",
   "name": "python",
   "nbconvert_exporter": "python",
   "pygments_lexer": "ipython3",
   "version": "3.12.1"
  }
 },
 "nbformat": 4,
 "nbformat_minor": 2
}
