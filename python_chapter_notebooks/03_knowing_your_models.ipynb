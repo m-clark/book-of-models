{
 "cells": [
  {
   "cell_type": "code",
   "execution_count": 1,
   "metadata": {},
   "outputs": [],
   "source": [
    "import pandas as pd\n",
    "import numpy as np\n",
    "\n",
    "from sklearn.model_selection import train_test_split\n",
    "from sklearn.metrics import r2_score, mean_squared_error, root_mean_squared_error, mean_absolute_error, mean_absolute_percentage_error, confusion_matrix, roc_curve, auc, RocCurveDisplay\n",
    "\n",
    "import statsmodels.api as sm\n",
    "import statsmodels.formula.api as smf\n",
    "\n",
    "from pycm import ConfusionMatrix"
   ]
  },
  {
   "cell_type": "code",
   "execution_count": 2,
   "metadata": {},
   "outputs": [],
   "source": [
    "# all data found on github repo\n",
    "df_reviews = pd.read_csv('https://tinyurl.com/moviereviewsdata')\n",
    "\n",
    "df_train, df_test = train_test_split(\n",
    "    df_reviews, \n",
    "    test_size = 0.25, \n",
    "    random_state = 123\n",
    ")"
   ]
  },
  {
   "cell_type": "markdown",
   "metadata": {},
   "source": [
    "## Regression Metrics"
   ]
  },
  {
   "cell_type": "code",
   "execution_count": 3,
   "metadata": {},
   "outputs": [],
   "source": [
    "# we'll use 'features' later also\n",
    "features = [\n",
    "    \"review_year_0\", \n",
    "    \"release_year_0\",\n",
    "    \"age_sc\", \n",
    "    \"length_minutes_sc\", \n",
    "    \"total_reviews_sc\", \n",
    "    \"word_count_sc\", \n",
    "    \"genre\", \n",
    "    ]\n",
    "\n",
    "model =  'rating ~ ' + \" + \".join(features)\n",
    "\n",
    "model_lr_train = smf.ols(formula = model, data = df_train).fit()"
   ]
  },
  {
   "cell_type": "code",
   "execution_count": 4,
   "metadata": {},
   "outputs": [],
   "source": [
    "predictions = model_lr_train.predict(df_test)"
   ]
  },
  {
   "cell_type": "markdown",
   "metadata": {},
   "source": [
    "### R2"
   ]
  },
  {
   "cell_type": "code",
   "execution_count": 5,
   "metadata": {},
   "outputs": [
    {
     "data": {
      "text/plain": [
       "(0.508431158347433, 0.508431158347433)"
      ]
     },
     "execution_count": 5,
     "metadata": {},
     "output_type": "execute_result"
    }
   ],
   "source": [
    "residual_ss = np.sum((df_test.rating - predictions)**2)\n",
    "total_ss = np.sum((df_test.rating - np.mean(df_test.rating))**2)\n",
    "\n",
    "1 - residual_ss / total_ss, r2_score(df_test.rating, predictions)"
   ]
  },
  {
   "cell_type": "code",
   "execution_count": 6,
   "metadata": {},
   "outputs": [],
   "source": [
    "# conceptually identical, but slight difference due to\n",
    "# how calculations are done (not shown)\n",
    "# np.corrcoef(df_test.rating, predictions)[0, 1]**2"
   ]
  },
  {
   "cell_type": "markdown",
   "metadata": {},
   "source": [
    "### RMSE"
   ]
  },
  {
   "cell_type": "code",
   "execution_count": 7,
   "metadata": {},
   "outputs": [
    {
     "name": "stderr",
     "output_type": "stream",
     "text": [
      "/Users/micl/anaconda3/envs/book-of-models/lib/python3.12/site-packages/sklearn/metrics/_regression.py:483: FutureWarning: 'squared' is deprecated in version 1.4 and will be removed in 1.6. To calculate the root mean squared error, use the function'root_mean_squared_error'.\n",
      "  warnings.warn(\n"
     ]
    },
    {
     "data": {
      "text/plain": [
       "0.4560513738102493"
      ]
     },
     "execution_count": 7,
     "metadata": {},
     "output_type": "execute_result"
    }
   ],
   "source": [
    "mse = np.mean((df_test.rating - predictions)**2)\n",
    "mse\n",
    "\n",
    "mean_squared_error(df_test.rating, predictions)\n",
    "\n",
    "np.sqrt(mse)\n",
    "\n",
    "mean_squared_error(df_test.rating, predictions, squared = False)"
   ]
  },
  {
   "cell_type": "markdown",
   "metadata": {},
   "source": [
    "### MAE"
   ]
  },
  {
   "cell_type": "code",
   "execution_count": 8,
   "metadata": {},
   "outputs": [
    {
     "data": {
      "text/plain": [
       "0.3704072983307527"
      ]
     },
     "execution_count": 8,
     "metadata": {},
     "output_type": "execute_result"
    }
   ],
   "source": [
    "np.mean(abs(df_test.rating - predictions))\n",
    "\n",
    "mean_absolute_error(df_test.rating, predictions)"
   ]
  },
  {
   "cell_type": "markdown",
   "metadata": {},
   "source": [
    "### MAPE"
   ]
  },
  {
   "cell_type": "code",
   "execution_count": 9,
   "metadata": {},
   "outputs": [
    {
     "data": {
      "text/plain": [
       "13.464399850975898"
      ]
     },
     "execution_count": 9,
     "metadata": {},
     "output_type": "execute_result"
    }
   ],
   "source": [
    "np.mean(\n",
    "    abs(df_test.rating - predictions) / \n",
    "    df_test.rating\n",
    ") * 100\n",
    "\n",
    "mean_absolute_percentage_error(df_test.rating, predictions) * 100"
   ]
  },
  {
   "cell_type": "markdown",
   "metadata": {},
   "source": [
    "## Classification Metrics"
   ]
  },
  {
   "cell_type": "code",
   "execution_count": 10,
   "metadata": {},
   "outputs": [
    {
     "data": {
      "text/html": [
       "<table class=\"simpletable\">\n",
       "<caption>Generalized Linear Model Regression Results</caption>\n",
       "<tr>\n",
       "  <th>Dep. Variable:</th>      <td>rating_good</td>   <th>  No. Observations:  </th>  <td>   750</td> \n",
       "</tr>\n",
       "<tr>\n",
       "  <th>Model:</th>                  <td>GLM</td>       <th>  Df Residuals:      </th>  <td>   736</td> \n",
       "</tr>\n",
       "<tr>\n",
       "  <th>Model Family:</th>        <td>Binomial</td>     <th>  Df Model:          </th>  <td>    13</td> \n",
       "</tr>\n",
       "<tr>\n",
       "  <th>Link Function:</th>         <td>Logit</td>      <th>  Scale:             </th> <td>  1.0000</td>\n",
       "</tr>\n",
       "<tr>\n",
       "  <th>Method:</th>                <td>IRLS</td>       <th>  Log-Likelihood:    </th> <td> -367.76</td>\n",
       "</tr>\n",
       "<tr>\n",
       "  <th>Date:</th>            <td>Mon, 29 Jul 2024</td> <th>  Deviance:          </th> <td>  735.52</td>\n",
       "</tr>\n",
       "<tr>\n",
       "  <th>Time:</th>                <td>20:51:12</td>     <th>  Pearson chi2:      </th>  <td>  672.</td> \n",
       "</tr>\n",
       "<tr>\n",
       "  <th>No. Iterations:</th>          <td>5</td>        <th>  Pseudo R-squ. (CS):</th>  <td>0.3189</td> \n",
       "</tr>\n",
       "<tr>\n",
       "  <th>Covariance Type:</th>     <td>nonrobust</td>    <th>                     </th>     <td> </td>   \n",
       "</tr>\n",
       "</table>\n",
       "<table class=\"simpletable\">\n",
       "<tr>\n",
       "          <td></td>             <th>coef</th>     <th>std err</th>      <th>z</th>      <th>P>|z|</th>  <th>[0.025</th>    <th>0.975]</th>  \n",
       "</tr>\n",
       "<tr>\n",
       "  <th>Intercept</th>         <td>   -1.7239</td> <td>    0.439</td> <td>   -3.931</td> <td> 0.000</td> <td>   -2.583</td> <td>   -0.864</td>\n",
       "</tr>\n",
       "<tr>\n",
       "  <th>genre[T.Comedy]</th>   <td>    2.4492</td> <td>    0.448</td> <td>    5.462</td> <td> 0.000</td> <td>    1.570</td> <td>    3.328</td>\n",
       "</tr>\n",
       "<tr>\n",
       "  <th>genre[T.Drama]</th>    <td>    1.9952</td> <td>    0.256</td> <td>    7.789</td> <td> 0.000</td> <td>    1.493</td> <td>    2.497</td>\n",
       "</tr>\n",
       "<tr>\n",
       "  <th>genre[T.Horror]</th>   <td>   -0.0215</td> <td>    0.397</td> <td>   -0.054</td> <td> 0.957</td> <td>   -0.799</td> <td>    0.756</td>\n",
       "</tr>\n",
       "<tr>\n",
       "  <th>genre[T.Kids]</th>     <td>   -0.1908</td> <td>    0.358</td> <td>   -0.533</td> <td> 0.594</td> <td>   -0.893</td> <td>    0.511</td>\n",
       "</tr>\n",
       "<tr>\n",
       "  <th>genre[T.Other]</th>    <td>    0.0147</td> <td>    0.363</td> <td>    0.041</td> <td> 0.968</td> <td>   -0.696</td> <td>    0.726</td>\n",
       "</tr>\n",
       "<tr>\n",
       "  <th>genre[T.Romance]</th>  <td>    0.1751</td> <td>    0.385</td> <td>    0.455</td> <td> 0.649</td> <td>   -0.579</td> <td>    0.929</td>\n",
       "</tr>\n",
       "<tr>\n",
       "  <th>genre[T.Sci-Fi]</th>   <td>    0.2399</td> <td>    0.416</td> <td>    0.577</td> <td> 0.564</td> <td>   -0.575</td> <td>    1.055</td>\n",
       "</tr>\n",
       "<tr>\n",
       "  <th>review_year_0</th>     <td>    0.0272</td> <td>    0.018</td> <td>    1.529</td> <td> 0.126</td> <td>   -0.008</td> <td>    0.062</td>\n",
       "</tr>\n",
       "<tr>\n",
       "  <th>release_year_0</th>    <td>    0.0355</td> <td>    0.011</td> <td>    3.370</td> <td> 0.001</td> <td>    0.015</td> <td>    0.056</td>\n",
       "</tr>\n",
       "<tr>\n",
       "  <th>age_sc</th>            <td>   -0.2167</td> <td>    0.094</td> <td>   -2.296</td> <td> 0.022</td> <td>   -0.402</td> <td>   -0.032</td>\n",
       "</tr>\n",
       "<tr>\n",
       "  <th>length_minutes_sc</th> <td>    0.5661</td> <td>    0.106</td> <td>    5.360</td> <td> 0.000</td> <td>    0.359</td> <td>    0.773</td>\n",
       "</tr>\n",
       "<tr>\n",
       "  <th>total_reviews_sc</th>  <td>    0.9022</td> <td>    0.109</td> <td>    8.312</td> <td> 0.000</td> <td>    0.689</td> <td>    1.115</td>\n",
       "</tr>\n",
       "<tr>\n",
       "  <th>word_count_sc</th>     <td>   -0.5834</td> <td>    0.106</td> <td>   -5.522</td> <td> 0.000</td> <td>   -0.790</td> <td>   -0.376</td>\n",
       "</tr>\n",
       "</table>"
      ],
      "text/latex": [
       "\\begin{center}\n",
       "\\begin{tabular}{lclc}\n",
       "\\toprule\n",
       "\\textbf{Dep. Variable:}      &   rating\\_good   & \\textbf{  No. Observations:  } &      750    \\\\\n",
       "\\textbf{Model:}              &       GLM        & \\textbf{  Df Residuals:      } &      736    \\\\\n",
       "\\textbf{Model Family:}       &     Binomial     & \\textbf{  Df Model:          } &       13    \\\\\n",
       "\\textbf{Link Function:}      &      Logit       & \\textbf{  Scale:             } &    1.0000   \\\\\n",
       "\\textbf{Method:}             &       IRLS       & \\textbf{  Log-Likelihood:    } &   -367.76   \\\\\n",
       "\\textbf{Date:}               & Mon, 29 Jul 2024 & \\textbf{  Deviance:          } &    735.52   \\\\\n",
       "\\textbf{Time:}               &     20:51:12     & \\textbf{  Pearson chi2:      } &     672.    \\\\\n",
       "\\textbf{No. Iterations:}     &        5         & \\textbf{  Pseudo R-squ. (CS):} &   0.3189    \\\\\n",
       "\\textbf{Covariance Type:}    &    nonrobust     & \\textbf{                     } &             \\\\\n",
       "\\bottomrule\n",
       "\\end{tabular}\n",
       "\\begin{tabular}{lcccccc}\n",
       "                             & \\textbf{coef} & \\textbf{std err} & \\textbf{z} & \\textbf{P$> |$z$|$} & \\textbf{[0.025} & \\textbf{0.975]}  \\\\\n",
       "\\midrule\n",
       "\\textbf{Intercept}           &      -1.7239  &        0.439     &    -3.931  &         0.000        &       -2.583    &       -0.864     \\\\\n",
       "\\textbf{genre[T.Comedy]}     &       2.4492  &        0.448     &     5.462  &         0.000        &        1.570    &        3.328     \\\\\n",
       "\\textbf{genre[T.Drama]}      &       1.9952  &        0.256     &     7.789  &         0.000        &        1.493    &        2.497     \\\\\n",
       "\\textbf{genre[T.Horror]}     &      -0.0215  &        0.397     &    -0.054  &         0.957        &       -0.799    &        0.756     \\\\\n",
       "\\textbf{genre[T.Kids]}       &      -0.1908  &        0.358     &    -0.533  &         0.594        &       -0.893    &        0.511     \\\\\n",
       "\\textbf{genre[T.Other]}      &       0.0147  &        0.363     &     0.041  &         0.968        &       -0.696    &        0.726     \\\\\n",
       "\\textbf{genre[T.Romance]}    &       0.1751  &        0.385     &     0.455  &         0.649        &       -0.579    &        0.929     \\\\\n",
       "\\textbf{genre[T.Sci-Fi]}     &       0.2399  &        0.416     &     0.577  &         0.564        &       -0.575    &        1.055     \\\\\n",
       "\\textbf{review\\_year\\_0}     &       0.0272  &        0.018     &     1.529  &         0.126        &       -0.008    &        0.062     \\\\\n",
       "\\textbf{release\\_year\\_0}    &       0.0355  &        0.011     &     3.370  &         0.001        &        0.015    &        0.056     \\\\\n",
       "\\textbf{age\\_sc}             &      -0.2167  &        0.094     &    -2.296  &         0.022        &       -0.402    &       -0.032     \\\\\n",
       "\\textbf{length\\_minutes\\_sc} &       0.5661  &        0.106     &     5.360  &         0.000        &        0.359    &        0.773     \\\\\n",
       "\\textbf{total\\_reviews\\_sc}  &       0.9022  &        0.109     &     8.312  &         0.000        &        0.689    &        1.115     \\\\\n",
       "\\textbf{word\\_count\\_sc}     &      -0.5834  &        0.106     &    -5.522  &         0.000        &       -0.790    &       -0.376     \\\\\n",
       "\\bottomrule\n",
       "\\end{tabular}\n",
       "%\\caption{Generalized Linear Model Regression Results}\n",
       "\\end{center}"
      ],
      "text/plain": [
       "<class 'statsmodels.iolib.summary.Summary'>\n",
       "\"\"\"\n",
       "                 Generalized Linear Model Regression Results                  \n",
       "==============================================================================\n",
       "Dep. Variable:            rating_good   No. Observations:                  750\n",
       "Model:                            GLM   Df Residuals:                      736\n",
       "Model Family:                Binomial   Df Model:                           13\n",
       "Link Function:                  Logit   Scale:                          1.0000\n",
       "Method:                          IRLS   Log-Likelihood:                -367.76\n",
       "Date:                Mon, 29 Jul 2024   Deviance:                       735.52\n",
       "Time:                        20:51:12   Pearson chi2:                     672.\n",
       "No. Iterations:                     5   Pseudo R-squ. (CS):             0.3189\n",
       "Covariance Type:            nonrobust                                         \n",
       "=====================================================================================\n",
       "                        coef    std err          z      P>|z|      [0.025      0.975]\n",
       "-------------------------------------------------------------------------------------\n",
       "Intercept            -1.7239      0.439     -3.931      0.000      -2.583      -0.864\n",
       "genre[T.Comedy]       2.4492      0.448      5.462      0.000       1.570       3.328\n",
       "genre[T.Drama]        1.9952      0.256      7.789      0.000       1.493       2.497\n",
       "genre[T.Horror]      -0.0215      0.397     -0.054      0.957      -0.799       0.756\n",
       "genre[T.Kids]        -0.1908      0.358     -0.533      0.594      -0.893       0.511\n",
       "genre[T.Other]        0.0147      0.363      0.041      0.968      -0.696       0.726\n",
       "genre[T.Romance]      0.1751      0.385      0.455      0.649      -0.579       0.929\n",
       "genre[T.Sci-Fi]       0.2399      0.416      0.577      0.564      -0.575       1.055\n",
       "review_year_0         0.0272      0.018      1.529      0.126      -0.008       0.062\n",
       "release_year_0        0.0355      0.011      3.370      0.001       0.015       0.056\n",
       "age_sc               -0.2167      0.094     -2.296      0.022      -0.402      -0.032\n",
       "length_minutes_sc     0.5661      0.106      5.360      0.000       0.359       0.773\n",
       "total_reviews_sc      0.9022      0.109      8.312      0.000       0.689       1.115\n",
       "word_count_sc        -0.5834      0.106     -5.522      0.000      -0.790      -0.376\n",
       "=====================================================================================\n",
       "\"\"\""
      ]
     },
     "execution_count": 10,
     "metadata": {},
     "output_type": "execute_result"
    }
   ],
   "source": [
    "model =  'rating_good ~ ' + \" + \".join(features)\n",
    "\n",
    "model_class_train = smf.glm(\n",
    "    formula = model,\n",
    "    data = df_train,\n",
    "    family = sm.families.Binomial()\n",
    ").fit()\n",
    "\n",
    "\n",
    "model_class_train.summary() "
   ]
  },
  {
   "cell_type": "code",
   "execution_count": 11,
   "metadata": {},
   "outputs": [],
   "source": [
    "predicted_prob = model_class_train.predict(df_test)\n",
    "\n",
    "predicted_class = np.where(predicted_prob >= .5, 1, 0)\n",
    "\n",
    "predicted_class = pd.Series(predicted_class)"
   ]
  },
  {
   "cell_type": "code",
   "execution_count": 12,
   "metadata": {},
   "outputs": [],
   "source": [
    "rating_cm = confusion_matrix(df_test.rating_good, predicted_class)"
   ]
  },
  {
   "cell_type": "markdown",
   "metadata": {},
   "source": [
    "### Accuracy and More"
   ]
  },
  {
   "cell_type": "code",
   "execution_count": 13,
   "metadata": {},
   "outputs": [],
   "source": [
    "confusion_matrix = pd.crosstab(\n",
    "    predicted_class,\n",
    "    df_test.rating_good.reset_index(drop=True), \n",
    ").to_numpy()\n",
    "\n",
    "TN = confusion_matrix[0, 0]\n",
    "TP = confusion_matrix[1, 1]\n",
    "FN = confusion_matrix[0, 1]\n",
    "FP = confusion_matrix[1, 0]\n",
    "\n",
    "acc = (TP + TN) / np.sum(confusion_matrix)  # accuracy\n",
    "tpr = TP / (TP + FN)  # sensitivity, true positive rate, recall\n",
    "tnr = TN / (TN + FP)  # specificity, true negative rate\n",
    "ppv = TP / (TP + FP)  # precision, positive predictive value\n",
    "npv = TN / (TN + FN)  # negative predictive value"
   ]
  },
  {
   "cell_type": "code",
   "execution_count": 14,
   "metadata": {},
   "outputs": [
    {
     "data": {
      "text/html": [
       "<div>\n",
       "<style scoped>\n",
       "    .dataframe tbody tr th:only-of-type {\n",
       "        vertical-align: middle;\n",
       "    }\n",
       "\n",
       "    .dataframe tbody tr th {\n",
       "        vertical-align: top;\n",
       "    }\n",
       "\n",
       "    .dataframe thead th {\n",
       "        text-align: right;\n",
       "    }\n",
       "</style>\n",
       "<table border=\"1\" class=\"dataframe\">\n",
       "  <thead>\n",
       "    <tr style=\"text-align: right;\">\n",
       "      <th></th>\n",
       "      <th>metric</th>\n",
       "      <th>ours</th>\n",
       "      <th>package</th>\n",
       "    </tr>\n",
       "  </thead>\n",
       "  <tbody>\n",
       "    <tr>\n",
       "      <th>0</th>\n",
       "      <td>ACC</td>\n",
       "      <td>0.796000</td>\n",
       "      <td>0.796000</td>\n",
       "    </tr>\n",
       "    <tr>\n",
       "      <th>1</th>\n",
       "      <td>TPR</td>\n",
       "      <td>0.857143</td>\n",
       "      <td>0.857143</td>\n",
       "    </tr>\n",
       "    <tr>\n",
       "      <th>2</th>\n",
       "      <td>TNR</td>\n",
       "      <td>0.726496</td>\n",
       "      <td>0.726496</td>\n",
       "    </tr>\n",
       "    <tr>\n",
       "      <th>3</th>\n",
       "      <td>PPV</td>\n",
       "      <td>0.780822</td>\n",
       "      <td>0.780822</td>\n",
       "    </tr>\n",
       "    <tr>\n",
       "      <th>4</th>\n",
       "      <td>NPV</td>\n",
       "      <td>0.817308</td>\n",
       "      <td>0.817308</td>\n",
       "    </tr>\n",
       "  </tbody>\n",
       "</table>\n",
       "</div>"
      ],
      "text/plain": [
       "  metric      ours   package\n",
       "0    ACC  0.796000  0.796000\n",
       "1    TPR  0.857143  0.857143\n",
       "2    TNR  0.726496  0.726496\n",
       "3    PPV  0.780822  0.780822\n",
       "4    NPV  0.817308  0.817308"
      ]
     },
     "execution_count": 14,
     "metadata": {},
     "output_type": "execute_result"
    }
   ],
   "source": [
    "cm = ConfusionMatrix(\n",
    "    df_test.rating_good.to_numpy(), \n",
    "    predicted_class.to_numpy(), \n",
    "    digit = 3\n",
    ")\n",
    "\n",
    "# print(cm) # lots of stats!\n",
    "\n",
    "package_result = [\n",
    "    cm.class_stat[stat][1] # get results specific to class 1\n",
    "    for stat in  ['ACC', 'TPR', 'TNR', 'PPV', 'NPV']\n",
    "]\n",
    "\n",
    "pd.DataFrame({\n",
    "    'metric':['ACC', 'TPR', 'TNR', 'PPV', 'NPV'],\n",
    "    'ours': [acc, tpr, tnr, ppv, npv],\n",
    "    'package': package_result\n",
    "})"
   ]
  },
  {
   "cell_type": "markdown",
   "metadata": {},
   "source": [
    "### ROC/Ideal Decision Point"
   ]
  },
  {
   "cell_type": "code",
   "execution_count": 15,
   "metadata": {},
   "outputs": [
    {
     "name": "stderr",
     "output_type": "stream",
     "text": [
      "No artists with labels found to put in legend.  Note that artists whose label start with an underscore are ignored when legend() is called with no argument.\n"
     ]
    },
    {
     "data": {
      "text/plain": [
       "0.8715378189062399"
      ]
     },
     "execution_count": 15,
     "metadata": {},
     "output_type": "execute_result"
    },
    {
     "data": {
      "image/png": "[encoded data removed]",
      "text/plain": [
       "<Figure size 640x480 with 1 Axes>"
      ]
     },
     "metadata": {},
     "output_type": "display_data"
    }
   ],
   "source": [
    "fpr, tpr, thresholds = roc_curve(\n",
    "    df_test.rating_good, \n",
    "    predicted_prob\n",
    ")\n",
    "\n",
    "RocCurveDisplay(fpr=fpr, tpr=tpr).plot()\n",
    "\n",
    "auc(fpr, tpr)"
   ]
  },
  {
   "cell_type": "code",
   "execution_count": 16,
   "metadata": {},
   "outputs": [
    {
     "data": {
      "text/html": [
       "<div>\n",
       "<style scoped>\n",
       "    .dataframe tbody tr th:only-of-type {\n",
       "        vertical-align: middle;\n",
       "    }\n",
       "\n",
       "    .dataframe tbody tr th {\n",
       "        vertical-align: top;\n",
       "    }\n",
       "\n",
       "    .dataframe thead th {\n",
       "        text-align: right;\n",
       "    }\n",
       "</style>\n",
       "<table border=\"1\" class=\"dataframe\">\n",
       "  <thead>\n",
       "    <tr style=\"text-align: right;\">\n",
       "      <th></th>\n",
       "      <th>threshold</th>\n",
       "      <th>TNR</th>\n",
       "      <th>TPR</th>\n",
       "    </tr>\n",
       "  </thead>\n",
       "  <tbody>\n",
       "    <tr>\n",
       "      <th>0</th>\n",
       "      <td>0.483032</td>\n",
       "      <td>0.726496</td>\n",
       "      <td>0.887218</td>\n",
       "    </tr>\n",
       "  </tbody>\n",
       "</table>\n",
       "</div>"
      ],
      "text/plain": [
       "   threshold       TNR       TPR\n",
       "0   0.483032  0.726496  0.887218"
      ]
     },
     "execution_count": 16,
     "metadata": {},
     "output_type": "execute_result"
    }
   ],
   "source": [
    "cut = thresholds[np.argmax(tpr - fpr)]\n",
    "\n",
    "pd.DataFrame({\n",
    "    'threshold': [cut],\n",
    "    'TNR': [1 - fpr[np.argmax(tpr - fpr)]],\n",
    "    'TPR': [tpr[np.argmax(tpr - fpr)]]\n",
    "})"
   ]
  },
  {
   "cell_type": "markdown",
   "metadata": {},
   "source": [
    "## Model Selection and Comparison"
   ]
  },
  {
   "cell_type": "code",
   "execution_count": 17,
   "metadata": {},
   "outputs": [],
   "source": [
    "\n",
    "model_lr_3feat = smf.ols(\n",
    "    formula='rating ~ review_year_0 + release_year_0 + age_sc',\n",
    "    data=df_train\n",
    ").fit()\n",
    "\n",
    "model_lr_interact = smf.ols(\n",
    "    formula='rating ~ review_year_0 * genre + release_year_0 * genre + age_sc * genre',\n",
    "    data=df_train\n",
    ").fit()\n",
    "\n",
    "model_lr_train = smf.ols(\n",
    "    formula=\n",
    "    '''\n",
    "    rating ~ \n",
    "    review_year_0\n",
    "    + release_year_0\n",
    "    + age_sc\n",
    "    + length_minutes_sc\n",
    "    + total_reviews_sc\n",
    "    + word_count_sc\n",
    "    + genre\n",
    "    ''' \n",
    "    ,\n",
    "    data=df_train\n",
    ").fit()\n",
    "\n",
    "models = [model_lr_3feat, model_lr_train, model_lr_interact]"
   ]
  },
  {
   "cell_type": "code",
   "execution_count": 18,
   "metadata": {},
   "outputs": [
    {
     "data": {
      "text/html": [
       "<div>\n",
       "<style scoped>\n",
       "    .dataframe tbody tr th:only-of-type {\n",
       "        vertical-align: middle;\n",
       "    }\n",
       "\n",
       "    .dataframe tbody tr th {\n",
       "        vertical-align: top;\n",
       "    }\n",
       "\n",
       "    .dataframe thead th {\n",
       "        text-align: right;\n",
       "    }\n",
       "</style>\n",
       "<table border=\"1\" class=\"dataframe\">\n",
       "  <thead>\n",
       "    <tr style=\"text-align: right;\">\n",
       "      <th></th>\n",
       "      <th>model</th>\n",
       "      <th>rmse</th>\n",
       "    </tr>\n",
       "  </thead>\n",
       "  <tbody>\n",
       "    <tr>\n",
       "      <th>1</th>\n",
       "      <td>original</td>\n",
       "      <td>0.456051</td>\n",
       "    </tr>\n",
       "    <tr>\n",
       "      <th>2</th>\n",
       "      <td>3 feat+interact</td>\n",
       "      <td>0.561521</td>\n",
       "    </tr>\n",
       "    <tr>\n",
       "      <th>0</th>\n",
       "      <td>3 features</td>\n",
       "      <td>0.638868</td>\n",
       "    </tr>\n",
       "  </tbody>\n",
       "</table>\n",
       "</div>"
      ],
      "text/plain": [
       "             model      rmse\n",
       "1         original  0.456051\n",
       "2  3 feat+interact  0.561521\n",
       "0       3 features  0.638868"
      ]
     },
     "execution_count": 18,
     "metadata": {},
     "output_type": "execute_result"
    }
   ],
   "source": [
    "\n",
    "# get the predictions, calculate RMSE\n",
    "result = pd.DataFrame({\n",
    "    'model': [\"3 features\", \"original\", \"3 feat+interact\"],\n",
    "    'rmse': [\n",
    "        root_mean_squared_error(\n",
    "            df_test.rating, \n",
    "            model.predict(df_test[features])\n",
    "        )\n",
    "        for model in models\n",
    "    ]\n",
    "})\n",
    "\n",
    "result.sort_values('rmse')"
   ]
  },
  {
   "cell_type": "code",
   "execution_count": 19,
   "metadata": {},
   "outputs": [],
   "source": [
    "# !pip install arviz"
   ]
  },
  {
   "cell_type": "code",
   "execution_count": 20,
   "metadata": {},
   "outputs": [
    {
     "data": {
      "image/png": "[encoded data removed]",
      "text/plain": [
       "<Figure size 640x480 with 1 Axes>"
      ]
     },
     "metadata": {},
     "output_type": "display_data"
    }
   ],
   "source": [
    "import seaborn as sns\n",
    "import matplotlib.pyplot as plt\n",
    "\n",
    "sns.residplot(\n",
    "    x = model_lr_train.fittedvalues, \n",
    "    y = df_train.rating, \n",
    "    lowess = True, \n",
    "    line_kws={'color': 'red', 'lw': 1}\n",
    ")\n",
    "plt.xlabel('Fitted values')\n",
    "plt.ylabel('Residuals')\n",
    "plt.title('Residuals vs. Fitted')\n",
    "plt.show()\n",
    "\n",
    "\n"
   ]
  },
  {
   "cell_type": "code",
   "execution_count": 21,
   "metadata": {},
   "outputs": [
    {
     "data": {
      "image/png": "[encoded data removed]",
      "text/plain": [
       "<Figure size 640x480 with 1 Axes>"
      ]
     },
     "metadata": {},
     "output_type": "display_data"
    }
   ],
   "source": [
    "# get the model parameters\n",
    "pp = model_lr_train.model.get_distribution(\n",
    "    params = model_lr_train.params, \n",
    "    scale  = model_lr_train.scale, \n",
    "    exog   = model_lr_train.model.exog\n",
    ")\n",
    "\n",
    "# Generate 10 simulated predictive distributions\n",
    "pp_samples = [pp.rvs() for _ in range(10)]\n",
    "\n",
    "# Plot the distribution of pp_samples\n",
    "for sample in pp_samples:\n",
    "    sns.kdeplot(sample, label='pp.rvs()', alpha=0.25)\n",
    "\n",
    "# Overlay the density plot of df_train.rating\n",
    "sns.kdeplot(\n",
    "    df_train.rating.to_numpy(), \n",
    "    label='df_train.rating', \n",
    "    linewidth=2\n",
    ")\n",
    "\n",
    "plt.xlabel('Rating')\n",
    "plt.ylabel('Density')\n",
    "plt.title('Distribution of predictions vs. observed rating')\n",
    "plt.show()"
   ]
  },
  {
   "cell_type": "markdown",
   "metadata": {},
   "source": [
    "## Understanding The Features"
   ]
  },
  {
   "cell_type": "markdown",
   "metadata": {},
   "source": [
    "### Average marginal effects"
   ]
  },
  {
   "cell_type": "code",
   "execution_count": 22,
   "metadata": {},
   "outputs": [
    {
     "data": {
      "text/plain": [
       "-0.09447284318194568"
      ]
     },
     "execution_count": 22,
     "metadata": {},
     "output_type": "execute_result"
    }
   ],
   "source": [
    "fudge_factor = 1e-3\n",
    "\n",
    "fudge_plus = model_class_train.predict(\n",
    "    df_train.assign(\n",
    "        word_count_sc = df_train.word_count_sc + fudge_factor/2\n",
    "    )\n",
    ")\n",
    "\n",
    "fudge_minus = model_class_train.predict(\n",
    "    df_train.assign(\n",
    "        word_count_sc = df_train.word_count_sc - fudge_factor/2\n",
    "    )\n",
    ")\n",
    "\n",
    "marginal_effect = np.mean(fudge_plus - fudge_minus) / fudge_factor\n",
    "\n",
    "marginal_effect"
   ]
  },
  {
   "cell_type": "markdown",
   "metadata": {},
   "source": [
    "### Marginal means"
   ]
  },
  {
   "cell_type": "code",
   "execution_count": 23,
   "metadata": {},
   "outputs": [
    {
     "data": {
      "text/html": [
       "<div>\n",
       "<style scoped>\n",
       "    .dataframe tbody tr th:only-of-type {\n",
       "        vertical-align: middle;\n",
       "    }\n",
       "\n",
       "    .dataframe tbody tr th {\n",
       "        vertical-align: top;\n",
       "    }\n",
       "\n",
       "    .dataframe thead th {\n",
       "        text-align: right;\n",
       "    }\n",
       "</style>\n",
       "<table border=\"1\" class=\"dataframe\">\n",
       "  <thead>\n",
       "    <tr style=\"text-align: right;\">\n",
       "      <th></th>\n",
       "      <th>genre</th>\n",
       "      <th>avg_pred</th>\n",
       "    </tr>\n",
       "  </thead>\n",
       "  <tbody>\n",
       "    <tr>\n",
       "      <th>0</th>\n",
       "      <td>Romance</td>\n",
       "      <td>2.864043</td>\n",
       "    </tr>\n",
       "    <tr>\n",
       "      <th>1</th>\n",
       "      <td>Other</td>\n",
       "      <td>2.847952</td>\n",
       "    </tr>\n",
       "    <tr>\n",
       "      <th>2</th>\n",
       "      <td>Sci-Fi</td>\n",
       "      <td>2.823101</td>\n",
       "    </tr>\n",
       "    <tr>\n",
       "      <th>3</th>\n",
       "      <td>Drama</td>\n",
       "      <td>3.405924</td>\n",
       "    </tr>\n",
       "    <tr>\n",
       "      <th>4</th>\n",
       "      <td>Horror</td>\n",
       "      <td>2.847344</td>\n",
       "    </tr>\n",
       "    <tr>\n",
       "      <th>5</th>\n",
       "      <td>Action/Adventure</td>\n",
       "      <td>2.840424</td>\n",
       "    </tr>\n",
       "    <tr>\n",
       "      <th>6</th>\n",
       "      <td>Kids</td>\n",
       "      <td>2.803119</td>\n",
       "    </tr>\n",
       "    <tr>\n",
       "      <th>7</th>\n",
       "      <td>Comedy</td>\n",
       "      <td>3.360565</td>\n",
       "    </tr>\n",
       "  </tbody>\n",
       "</table>\n",
       "</div>"
      ],
      "text/plain": [
       "              genre  avg_pred\n",
       "0           Romance  2.864043\n",
       "1             Other  2.847952\n",
       "2            Sci-Fi  2.823101\n",
       "3             Drama  3.405924\n",
       "4            Horror  2.847344\n",
       "5  Action/Adventure  2.840424\n",
       "6              Kids  2.803119\n",
       "7            Comedy  3.360565"
      ]
     },
     "execution_count": 23,
     "metadata": {},
     "output_type": "execute_result"
    }
   ],
   "source": [
    "marginal_means = pd.DataFrame({\n",
    "    \"genre\": df_train.genre.unique(),\n",
    "    \"avg_pred\": [\n",
    "        model_lr_train.predict(\n",
    "            df_train.assign(genre = g)\n",
    "        ).mean()\n",
    "        for g in df_train.genre.unique()\n",
    "    ]\n",
    "})\n",
    "\n",
    "marginal_means"
   ]
  },
  {
   "cell_type": "markdown",
   "metadata": {},
   "source": [
    "### Counterfactual Predictions"
   ]
  },
  {
   "cell_type": "code",
   "execution_count": 24,
   "metadata": {},
   "outputs": [
    {
     "data": {
      "text/html": [
       "<div>\n",
       "<style scoped>\n",
       "    .dataframe tbody tr th:only-of-type {\n",
       "        vertical-align: middle;\n",
       "    }\n",
       "\n",
       "    .dataframe tbody tr th {\n",
       "        vertical-align: top;\n",
       "    }\n",
       "\n",
       "    .dataframe thead th {\n",
       "        text-align: right;\n",
       "    }\n",
       "</style>\n",
       "<table border=\"1\" class=\"dataframe\">\n",
       "  <thead>\n",
       "    <tr style=\"text-align: right;\">\n",
       "      <th></th>\n",
       "      <th>country</th>\n",
       "      <th>base_predictions</th>\n",
       "      <th>switch_predictions</th>\n",
       "      <th>diff_in_happiness</th>\n",
       "    </tr>\n",
       "  </thead>\n",
       "  <tbody>\n",
       "    <tr>\n",
       "      <th>85</th>\n",
       "      <td>Russia</td>\n",
       "      <td>5.676</td>\n",
       "      <td>6.374</td>\n",
       "      <td>0.698</td>\n",
       "    </tr>\n",
       "    <tr>\n",
       "      <th>106</th>\n",
       "      <td>USA</td>\n",
       "      <td>6.798</td>\n",
       "      <td>6.100</td>\n",
       "      <td>-0.698</td>\n",
       "    </tr>\n",
       "  </tbody>\n",
       "</table>\n",
       "</div>"
      ],
      "text/plain": [
       "    country  base_predictions  switch_predictions  diff_in_happiness\n",
       "85   Russia             5.676               6.374              0.698\n",
       "106     USA             6.798               6.100             -0.698"
      ]
     },
     "execution_count": 24,
     "metadata": {},
     "output_type": "execute_result"
    }
   ],
   "source": [
    "df_happiness_2018 = pd.read_csv('https://tinyurl.com/527pbc4v')\n",
    "\n",
    "model_happiness = smf.ols(\n",
    "    formula = 'happiness_score ~ \\\n",
    "        log_gdp_per_capita \\\n",
    "        + healthy_life_expectancy_at_birth \\\n",
    "        + generosity \\\n",
    "        + freedom_to_make_life_choices \\\n",
    "        + confidence_in_national_government',\n",
    "    data = df_happiness_2018\n",
    ").fit()\n",
    "\n",
    "df_us_russia = df_happiness_2018[\n",
    "        df_happiness_2018.country.isin(['United States', 'Russia'])\n",
    "    ]\n",
    "\n",
    "happiness_gdp_freedom_values = df_happiness_2018.loc[\n",
    "    df_happiness_2018.country.isin(['United States', 'Russia']),\n",
    "    ['log_gdp_per_capita', 'freedom_to_make_life_choices']\n",
    "]\n",
    "\n",
    "base_predictions = model_happiness.predict(df_us_russia)\n",
    "\n",
    "# switch up their GDP and freedom!\n",
    "df_switch = df_us_russia.copy()\n",
    "\n",
    "df_switch[['log_gdp_per_capita', 'freedom_to_make_life_choices']] = (\n",
    "    df_switch[['log_gdp_per_capita', 'freedom_to_make_life_choices']].values[::-1]\n",
    ")    \n",
    "\n",
    "switch_predictions = model_happiness.predict(df_switch)\n",
    "\n",
    "pd.DataFrame({\n",
    "    'country': ['Russia', 'USA'],\n",
    "    'base_predictions': base_predictions,\n",
    "    'switch_predictions': switch_predictions,\n",
    "    'diff_in_happiness': switch_predictions - base_predictions\n",
    "}).round(3)"
   ]
  },
  {
   "cell_type": "markdown",
   "metadata": {},
   "source": [
    "### SHAP Values"
   ]
  },
  {
   "cell_type": "markdown",
   "metadata": {},
   "source": [
    "Redo previous model using raw scale data."
   ]
  },
  {
   "cell_type": "code",
   "execution_count": 25,
   "metadata": {},
   "outputs": [],
   "source": [
    "model_lr_3feat = smf.ols(\n",
    "    formula = 'rating ~ \\\n",
    "    age \\\n",
    "    + release_year \\\n",
    "    + length_minutes',\n",
    "    data = df_reviews\n",
    ").fit()"
   ]
  },
  {
   "cell_type": "code",
   "execution_count": 28,
   "metadata": {},
   "outputs": [],
   "source": [
    "# first we need to get the average prediction\n",
    "avg_pred = model_lr_3feat.predict(df_reviews).mean()\n",
    "\n",
    "# observation of interest we want shap values for\n",
    "obs_of_interest = pd.DataFrame({\n",
    "    'age': 30,\n",
    "    'release_year': 2020,\n",
    "    'length_minutes': 110\n",
    "}, index = ['new_observation'])\n",
    "\n",
    "# then we need to get the prediction for the feature value of interest\n",
    "# for all observations, and average them\n",
    "pred_age_30 = model_lr_3feat.predict(\n",
    "    df_reviews.assign(\n",
    "        age = obs_of_interest.loc['new_observation', 'age']\n",
    "    )\n",
    ")\n",
    "\n",
    "pred_year_2022 = model_lr_3feat.predict(\n",
    "    df_reviews.assign(\n",
    "        release_year = obs_of_interest.loc['new_observation', 'release_year']\n",
    "    )\n",
    ")\n",
    "\n",
    "pred_length_110 = model_lr_3feat.predict(\n",
    "    df_reviews.assign(\n",
    "        length_minutes = obs_of_interest.loc['new_observation', 'length_minutes']\n",
    "    )\n",
    ")\n",
    "\n",
    "# then we can calculate the shap values\n",
    "shap_value_ours = pd.DataFrame({\n",
    "    'age': pred_age_30.mean() - avg_pred,\n",
    "    'release_year': pred_year_2022.mean() - avg_pred,\n",
    "    'length_minutes': pred_length_110.mean() - avg_pred\n",
    "}, index = ['new_observation'])\n"
   ]
  },
  {
   "cell_type": "code",
   "execution_count": 30,
   "metadata": {},
   "outputs": [
    {
     "data": {
      "text/html": [
       "<div>\n",
       "<style scoped>\n",
       "    .dataframe tbody tr th:only-of-type {\n",
       "        vertical-align: middle;\n",
       "    }\n",
       "\n",
       "    .dataframe tbody tr th {\n",
       "        vertical-align: top;\n",
       "    }\n",
       "\n",
       "    .dataframe thead th {\n",
       "        text-align: right;\n",
       "    }\n",
       "</style>\n",
       "<table border=\"1\" class=\"dataframe\">\n",
       "  <thead>\n",
       "    <tr style=\"text-align: right;\">\n",
       "      <th></th>\n",
       "      <th>age</th>\n",
       "      <th>release_year</th>\n",
       "      <th>length_minutes</th>\n",
       "    </tr>\n",
       "  </thead>\n",
       "  <tbody>\n",
       "    <tr>\n",
       "      <th>new_observation</th>\n",
       "      <td>0.063</td>\n",
       "      <td>0.206</td>\n",
       "      <td>-0.141</td>\n",
       "    </tr>\n",
       "    <tr>\n",
       "      <th>new_observation</th>\n",
       "      <td>0.063</td>\n",
       "      <td>0.206</td>\n",
       "      <td>-0.141</td>\n",
       "    </tr>\n",
       "  </tbody>\n",
       "</table>\n",
       "</div>"
      ],
      "text/plain": [
       "                   age  release_year  length_minutes\n",
       "new_observation  0.063         0.206          -0.141\n",
       "new_observation  0.063         0.206          -0.141"
      ]
     },
     "execution_count": 30,
     "metadata": {},
     "output_type": "execute_result"
    }
   ],
   "source": [
    "\n",
    "# now use the shap package for this; it does not work with statsmodels though,\n",
    "# and single feature models are a bit cumbersome, \n",
    "# but we still get there in the end!\n",
    "import shap\n",
    "from sklearn.linear_model import LinearRegression\n",
    "\n",
    "# set data up for shap and sklearn\n",
    "fnames = [\n",
    "    'age', \n",
    "    'release_year', \n",
    "    'length_minutes'\n",
    "]\n",
    "\n",
    "X = df_reviews[fnames]\n",
    "y = df_reviews['rating']\n",
    "\n",
    "# use a linear model that works with shap\n",
    "model_reviews = LinearRegression().fit(X, y)\n",
    "\n",
    "# 1000 instances for use as the 'background distribution'\n",
    "X_sample = shap.maskers.Independent(data = X, max_samples = 1000)  \n",
    "\n",
    "# # compute the SHAP values for the linear model\n",
    "explainer = shap.Explainer(\n",
    "    model_reviews.predict, \n",
    "    X_sample   \n",
    ")\n",
    "\n",
    "shap_values = explainer(obs_of_interest)\n",
    "\n",
    "shap_value_package = pd.DataFrame(\n",
    "    shap_values.values[0, :], \n",
    "    index = fnames, \n",
    "    columns = ['new_observation']\n",
    ").T\n",
    "\n",
    "pd.concat([shap_value_ours, shap_value_package]).round(3)"
   ]
  },
  {
   "cell_type": "markdown",
   "metadata": {},
   "source": [
    "### Global assessment of feature importance"
   ]
  },
  {
   "cell_type": "code",
   "execution_count": 27,
   "metadata": {},
   "outputs": [],
   "source": [
    "model_importance = smf.ols(\n",
    "    formula = 'rating ~ \\\n",
    "        word_count \\\n",
    "        + age \\\n",
    "        + review_year \\\n",
    "        + release_year \\\n",
    "        + length_minutes \\\n",
    "        + children_in_home \\\n",
    "        + total_reviews',\n",
    "    data = df_reviews\n",
    ").fit()"
   ]
  }
 ],
 "metadata": {
  "kernelspec": {
   "display_name": "book-of-models",
   "language": "python",
   "name": "python3"
  },
  "language_info": {
   "codemirror_mode": {
    "name": "ipython",
    "version": 3
   },
   "file_extension": ".py",
   "mimetype": "text/x-python",
   "name": "python",
   "nbconvert_exporter": "python",
   "pygments_lexer": "ipython3",
   "version": "3.12.1"
  }
 },
 "nbformat": 4,
 "nbformat_minor": 2
}
