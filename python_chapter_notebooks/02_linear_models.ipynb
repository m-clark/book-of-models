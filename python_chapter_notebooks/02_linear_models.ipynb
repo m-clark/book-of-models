{
 "cells": [
  {
   "cell_type": "code",
   "execution_count": null,
   "metadata": {},
   "outputs": [],
   "source": [
    "# core processing\n",
    "import numpy as np\n",
    "import pandas as pd\n",
    "import matplotlib.pyplot as plt\n",
    "\n",
    "# model\n",
    "import statsmodels.api as sm\n",
    "import statsmodels.formula.api as smf\n",
    "\n"
   ]
  },
  {
   "cell_type": "markdown",
   "metadata": {},
   "source": [
    "## Main Model"
   ]
  },
  {
   "cell_type": "code",
   "execution_count": null,
   "metadata": {},
   "outputs": [],
   "source": [
    "# all data found on github repo\n",
    "df_reviews = pd.read_csv('https://tinyurl.com/moviereviewsdata')\n",
    "\n",
    "model_lr_rating = smf.ols('rating ~ word_count', data = df_reviews).fit()\n",
    "\n",
    "model_lr_rating.summary(slim = True)"
   ]
  },
  {
   "cell_type": "code",
   "execution_count": null,
   "metadata": {},
   "outputs": [],
   "source": [
    "all_predictions = model_lr_rating.predict()\n",
    "\n",
    "df_prediction = pd.DataFrame({'word_count': [5]})\n",
    "single_prediction = model_lr_rating.predict(df_prediction)"
   ]
  },
  {
   "cell_type": "code",
   "execution_count": null,
   "metadata": {},
   "outputs": [],
   "source": [
    "pred_intervals = (\n",
    "    model_lr_rating\n",
    "    .get_prediction(df_prediction)\n",
    "    .summary_frame(alpha = 0.05)\n",
    ")\n",
    "\n",
    "pd.DataFrame(pred_intervals)"
   ]
  },
  {
   "cell_type": "code",
   "execution_count": null,
   "metadata": {},
   "outputs": [],
   "source": [
    "predictions = model_lr_rating.predict()\n",
    "y = df_reviews.rating\n",
    "\n",
    "plt.scatter(y, predictions)"
   ]
  },
  {
   "cell_type": "code",
   "execution_count": null,
   "metadata": {},
   "outputs": [],
   "source": [
    "np.sqrt(model_lr_rating.scale)   # RMSE"
   ]
  },
  {
   "cell_type": "markdown",
   "metadata": {},
   "source": [
    "## Multiple Features"
   ]
  },
  {
   "cell_type": "code",
   "execution_count": null,
   "metadata": {},
   "outputs": [],
   "source": [
    "model_lr_rating_extra = smf.ols(\n",
    "    formula = 'rating ~ word_count \\\n",
    "        + age \\\n",
    "        + review_year \\\n",
    "        + release_year \\\n",
    "        + length_minutes \\\n",
    "        + children_in_home \\\n",
    "        + total_reviews',\n",
    "    data = df_reviews\n",
    ").fit()\n",
    "\n",
    "model_lr_rating_extra.summary(slim = True)"
   ]
  },
  {
   "cell_type": "code",
   "execution_count": null,
   "metadata": {},
   "outputs": [],
   "source": [
    "predict_observation = pd.DataFrame(\n",
    "    {\n",
    "        'word_count': 12,\n",
    "        'age': 30,\n",
    "        'children_in_home': 1,\n",
    "        'review_year': 2020,\n",
    "        'release_year': 2015,\n",
    "        'length_minutes': 100,\n",
    "        'total_reviews': 10000\n",
    "    },\n",
    "    index = ['new_observation']\n",
    ")\n",
    "\n",
    "model_lr_rating_extra.predict(predict_observation)"
   ]
  },
  {
   "cell_type": "code",
   "execution_count": null,
   "metadata": {},
   "outputs": [],
   "source": [
    "model_lr_cat = smf.ols(\n",
    "    formula = \"rating ~ word_count + season\",\n",
    "    data = df_reviews\n",
    ").fit()\n",
    "\n",
    "model_lr_cat.summary(slim = True)"
   ]
  },
  {
   "cell_type": "code",
   "execution_count": null,
   "metadata": {},
   "outputs": [],
   "source": [
    "sm.stats.anova_lm(model_lr_cat)"
   ]
  }
 ],
 "metadata": {
  "kernelspec": {
   "display_name": "book-of-models",
   "language": "python",
   "name": "python3"
  },
  "language_info": {
   "name": "python",
   "version": "3.12.1"
  }
 },
 "nbformat": 4,
 "nbformat_minor": 2
}
