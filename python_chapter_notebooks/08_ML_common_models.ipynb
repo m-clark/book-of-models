{
 "cells": [
  {
   "cell_type": "code",
   "execution_count": 1,
   "metadata": {},
   "outputs": [],
   "source": [
    "import pandas as pd\n",
    "import numpy as np\n",
    "\n",
    "from sklearn.linear_model import LogisticRegression, LogisticRegressionCV\n",
    "from sklearn.model_selection import cross_validate, KFold, cross_val_score\n",
    "from sklearn.metrics import accuracy_score\n",
    "from sklearn.inspection import PartialDependenceDisplay\n",
    "\n",
    "\n",
    "from lightgbm import LGBMClassifier\n",
    "\n",
    "from sklearn.neural_network import MLPClassifier\n"
   ]
  },
  {
   "cell_type": "code",
   "execution_count": 2,
   "metadata": {},
   "outputs": [],
   "source": [
    "df_heart = pd.read_csv('https://tinyurl.com/heartdiseaseprocessed')\n",
    "df_heart_num = pd.read_csv('https://tinyurl.com/heartdiseaseprocessednumeric')\n",
    "\n",
    "# convert appropriate features to categorical\n",
    "for col in df_heart.select_dtypes(include='object').columns:\n",
    "    df_heart[col] = df_heart[col].astype('category')\n",
    "\n",
    "X = df_heart_num.drop(columns=['heart_disease']).to_numpy()\n",
    "y = df_heart_num['heart_disease'].to_numpy()"
   ]
  },
  {
   "cell_type": "code",
   "execution_count": 3,
   "metadata": {},
   "outputs": [],
   "source": [
    "prevalence = np.mean(y)\n",
    "majority = np.max([prevalence, 1 - prevalence])"
   ]
  },
  {
   "cell_type": "markdown",
   "metadata": {},
   "source": [
    "## Penalized Linear Models/Elastic Net"
   ]
  },
  {
   "cell_type": "code",
   "execution_count": 4,
   "metadata": {},
   "outputs": [],
   "source": [
    "model_elastic = LogisticRegression(\n",
    "    penalty='elasticnet',\n",
    "    solver='saga',\n",
    "    l1_ratio=0.5,\n",
    "    random_state=42,\n",
    "    max_iter=10000,\n",
    "    verbose=False,\n",
    ")\n",
    "\n",
    "# use cross-validation to estimate performance\n",
    "cv_elastic = cross_validate(\n",
    "    model_elastic,\n",
    "    X,\n",
    "    y,\n",
    "    cv=5,\n",
    "    scoring='accuracy',\n",
    ")"
   ]
  },
  {
   "cell_type": "code",
   "execution_count": 5,
   "metadata": {},
   "outputs": [
    {
     "name": "stdout",
     "output_type": "stream",
     "text": [
      "Training accuracy:  0.828 \n",
      "Guessing:  0.539\n"
     ]
    }
   ],
   "source": [
    "print(\n",
    "    'Training accuracy: ',\n",
    "    np.round(cv_elastic['test_score'].mean(), 3),\n",
    "    '\\nGuessing: ',\n",
    "    np.round(majority, 3),\n",
    ")"
   ]
  },
  {
   "cell_type": "markdown",
   "metadata": {},
   "source": [
    "## Tree-based Models"
   ]
  },
  {
   "cell_type": "code",
   "execution_count": 6,
   "metadata": {},
   "outputs": [],
   "source": [
    "model_boost = LGBMClassifier(\n",
    "    n_estimators = 1000,\n",
    "    learning_rate = 1e-3,\n",
    "    max_depth = 5,\n",
    "    verbose = -1,\n",
    "    random_state=42,\n",
    ")\n",
    "\n",
    "model_boost_cv = cross_validate(\n",
    "    model_boost,\n",
    "    df_heart.drop(columns='heart_disease'),\n",
    "    df_heart['heart_disease'],\n",
    "    cv = 5,\n",
    "    scoring='accuracy',\n",
    ")"
   ]
  },
  {
   "cell_type": "code",
   "execution_count": 7,
   "metadata": {},
   "outputs": [
    {
     "name": "stdout",
     "output_type": "stream",
     "text": [
      "Training accuracy:  0.835 \n",
      "Guessing:  0.539\n"
     ]
    }
   ],
   "source": [
    "print(\n",
    "    'Training accuracy: ',\n",
    "    np.round(np.mean(model_boost_cv['test_score']), 3),\n",
    "    '\\nGuessing: ',\n",
    "    np.round(majority, 3),\n",
    ")"
   ]
  },
  {
   "cell_type": "markdown",
   "metadata": {},
   "source": [
    "## Deep Learning Example"
   ]
  },
  {
   "cell_type": "code",
   "execution_count": 8,
   "metadata": {},
   "outputs": [],
   "source": [
    "model_mlp = MLPClassifier(\n",
    "    hidden_layer_sizes = (200, 200, 200),  \n",
    "    learning_rate = 'adaptive',\n",
    "    learning_rate_init = 0.001,\n",
    "    shuffle = True,\n",
    "    random_state = 123,\n",
    "    warm_start = True,\n",
    "    nesterovs_momentum = True,\n",
    "    validation_fraction =  .2,\n",
    "    verbose = False,\n",
    ")\n",
    "\n",
    "# with the above settings, this will take a few seconds\n",
    "model_mlp_cv = cross_validate(\n",
    "    model_mlp, \n",
    "    X, \n",
    "    y, \n",
    "    cv = 5\n",
    ") "
   ]
  },
  {
   "cell_type": "code",
   "execution_count": 9,
   "metadata": {},
   "outputs": [
    {
     "name": "stdout",
     "output_type": "stream",
     "text": [
      "Training accuracy:  0.818 \n",
      "Guessing:  0.539\n"
     ]
    }
   ],
   "source": [
    "print(\n",
    "    'Training accuracy: ',\n",
    "    np.round(np.mean(model_mlp_cv['test_score']), 3),\n",
    "    '\\nGuessing: ',\n",
    "    np.round(majority, 3),\n",
    ")"
   ]
  },
  {
   "cell_type": "markdown",
   "metadata": {},
   "source": [
    "## A Tuned Example"
   ]
  },
  {
   "cell_type": "code",
   "execution_count": 20,
   "metadata": {},
   "outputs": [
    {
     "data": {
      "text/plain": [
       "0.85"
      ]
     },
     "execution_count": 20,
     "metadata": {},
     "output_type": "execute_result"
    }
   ],
   "source": [
    "from sklearn.model_selection import RandomizedSearchCV, train_test_split\n",
    "from sklearn.metrics import accuracy_score\n",
    "\n",
    "from lightgbm import LGBMClassifier\n",
    "\n",
    "# train-test split\n",
    "X_train, X_test, y_train, y_test = train_test_split(\n",
    "    df_heart.drop(columns='heart_disease'), \n",
    "    df_heart_num['heart_disease'],\n",
    "    test_size = 0.2,\n",
    "    random_state = 42\n",
    ")\n",
    "\n",
    "model_boost = LGBMClassifier(\n",
    "    verbose = -1\n",
    ")\n",
    "\n",
    "param_grid = {\n",
    "    'n_estimators': [500, 1000],\n",
    "    'learning_rate': [1e-3, 1e-2, 1e-1],\n",
    "    'max_depth': [3, 5, 7, 9],\n",
    "    'min_child_samples': [1, 5, 10],\n",
    "}\n",
    "\n",
    "# this will take a few seconds\n",
    "model_boost_cv_tune = RandomizedSearchCV(\n",
    "    model_boost, \n",
    "    param_grid, \n",
    "    n_iter = 10,\n",
    "    cv = 5, \n",
    "    scoring = 'accuracy', \n",
    "    n_jobs = -1\n",
    ")\n",
    "\n",
    "model_boost_cv_tune.fit(X_train, y_train)\n",
    "\n",
    "test_predictions = model_boost_cv_tune.predict(X_test)\n",
    "accuracy_score(y_test, test_predictions)"
   ]
  },
  {
   "cell_type": "markdown",
   "metadata": {},
   "source": [
    "## Interpretation and Feature Importance"
   ]
  },
  {
   "cell_type": "code",
   "execution_count": 24,
   "metadata": {},
   "outputs": [
    {
     "data": {
      "text/plain": [
       "array([5891, 1399,    0, 2667, 3380,  626,  832, 4216,  729, 2219,  387,\n",
       "       1117, 1044], dtype=int32)"
      ]
     },
     "execution_count": 24,
     "metadata": {},
     "output_type": "execute_result"
    }
   ],
   "source": [
    "best_model.feature_importances_"
   ]
  },
  {
   "cell_type": "code",
   "execution_count": 26,
   "metadata": {},
   "outputs": [
    {
     "data": {
      "text/html": [
       "<div>\n",
       "<style scoped>\n",
       "    .dataframe tbody tr th:only-of-type {\n",
       "        vertical-align: middle;\n",
       "    }\n",
       "\n",
       "    .dataframe tbody tr th {\n",
       "        vertical-align: top;\n",
       "    }\n",
       "\n",
       "    .dataframe thead th {\n",
       "        text-align: right;\n",
       "    }\n",
       "</style>\n",
       "<table border=\"1\" class=\"dataframe\">\n",
       "  <thead>\n",
       "    <tr style=\"text-align: right;\">\n",
       "      <th></th>\n",
       "      <th>Feature</th>\n",
       "      <th>Importance</th>\n",
       "    </tr>\n",
       "  </thead>\n",
       "  <tbody>\n",
       "    <tr>\n",
       "      <th>0</th>\n",
       "      <td>age</td>\n",
       "      <td>2744</td>\n",
       "    </tr>\n",
       "    <tr>\n",
       "      <th>7</th>\n",
       "      <td>max_heart_rate</td>\n",
       "      <td>2276</td>\n",
       "    </tr>\n",
       "    <tr>\n",
       "      <th>4</th>\n",
       "      <td>cholesterol</td>\n",
       "      <td>2137</td>\n",
       "    </tr>\n",
       "    <tr>\n",
       "      <th>9</th>\n",
       "      <td>st_depression</td>\n",
       "      <td>1592</td>\n",
       "    </tr>\n",
       "    <tr>\n",
       "      <th>3</th>\n",
       "      <td>resting_bp</td>\n",
       "      <td>1178</td>\n",
       "    </tr>\n",
       "    <tr>\n",
       "      <th>11</th>\n",
       "      <td>num_major_vessels</td>\n",
       "      <td>907</td>\n",
       "    </tr>\n",
       "    <tr>\n",
       "      <th>12</th>\n",
       "      <td>thalassemia</td>\n",
       "      <td>817</td>\n",
       "    </tr>\n",
       "    <tr>\n",
       "      <th>6</th>\n",
       "      <td>resting_ecg</td>\n",
       "      <td>585</td>\n",
       "    </tr>\n",
       "    <tr>\n",
       "      <th>1</th>\n",
       "      <td>male</td>\n",
       "      <td>493</td>\n",
       "    </tr>\n",
       "    <tr>\n",
       "      <th>10</th>\n",
       "      <td>slope</td>\n",
       "      <td>357</td>\n",
       "    </tr>\n",
       "    <tr>\n",
       "      <th>5</th>\n",
       "      <td>fasting_blood_sugar</td>\n",
       "      <td>345</td>\n",
       "    </tr>\n",
       "    <tr>\n",
       "      <th>8</th>\n",
       "      <td>exercise_induced_angina</td>\n",
       "      <td>275</td>\n",
       "    </tr>\n",
       "    <tr>\n",
       "      <th>2</th>\n",
       "      <td>chest_pain_type</td>\n",
       "      <td>188</td>\n",
       "    </tr>\n",
       "  </tbody>\n",
       "</table>\n",
       "</div>"
      ],
      "text/plain": [
       "                    Feature  Importance\n",
       "0                       age        2744\n",
       "7            max_heart_rate        2276\n",
       "4               cholesterol        2137\n",
       "9             st_depression        1592\n",
       "3                resting_bp        1178\n",
       "11        num_major_vessels         907\n",
       "12              thalassemia         817\n",
       "6               resting_ecg         585\n",
       "1                      male         493\n",
       "10                    slope         357\n",
       "5       fasting_blood_sugar         345\n",
       "8   exercise_induced_angina         275\n",
       "2           chest_pain_type         188"
      ]
     },
     "execution_count": 26,
     "metadata": {},
     "output_type": "execute_result"
    }
   ],
   "source": [
    "best_model = model_boost_cv_tune.best_estimator_\n",
    "best_model.feature_importances_\n",
    "\n",
    "# you remember which feature is which, right? if not, do this:\n",
    "pd.DataFrame({\n",
    "    'Feature': best_model.feature_name_,\n",
    "    'Importance': best_model.feature_importances_\n",
    "}).sort_values('Importance', ascending=False)"
   ]
  },
  {
   "cell_type": "code",
   "execution_count": 34,
   "metadata": {},
   "outputs": [
    {
     "data": {
      "text/plain": [
       "<sklearn.inspection._plot.partial_dependence.PartialDependenceDisplay at 0x14f397890>"
      ]
     },
     "execution_count": 34,
     "metadata": {},
     "output_type": "execute_result"
    },
    {
     "data": {
      "image/png": "[encoded data removed]",
      "text/plain": [
       "<Figure size 640x480 with 3 Axes>"
      ]
     },
     "metadata": {},
     "output_type": "display_data"
    }
   ],
   "source": [
    "PartialDependenceDisplay.from_estimator(\n",
    "    model_boost_cv_tune, \n",
    "    df_heart.drop(columns='heart_disease'), \n",
    "    features=['cholesterol', 'male'], \n",
    "    categorical_features=['male'], \n",
    "    percentiles=(0, .9),\n",
    "    grid_resolution=75\n",
    ")"
   ]
  }
 ],
 "metadata": {
  "kernelspec": {
   "display_name": "book-of-models",
   "language": "python",
   "name": "python3"
  },
  "language_info": {
   "codemirror_mode": {
    "name": "ipython",
    "version": 3
   },
   "file_extension": ".py",
   "mimetype": "text/x-python",
   "name": "python",
   "nbconvert_exporter": "python",
   "pygments_lexer": "ipython3",
   "version": "3.12.1"
  }
 },
 "nbformat": 4,
 "nbformat_minor": 2
}
